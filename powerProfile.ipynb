{
 "cells": [
  {
   "cell_type": "code",
   "execution_count": 1,
   "metadata": {},
   "outputs": [],
   "source": [
    "import pandas as pd"
   ]
  },
  {
   "cell_type": "code",
   "execution_count": 2,
   "metadata": {},
   "outputs": [],
   "source": [
    "processedDataFolder_name = \"./processedData/2025-02-11_22-23-15/\""
   ]
  },
  {
   "cell_type": "code",
   "execution_count": 3,
   "metadata": {},
   "outputs": [],
   "source": [
    "mergedRadarDepth = processedDataFolder_name + \"mergedRadarDepth.pkl\" \n",
    "mergedRadarDepth = pd.read_pickle(mergedRadarDepth)\n",
    "mergedRadarDepth.reset_index(drop=True, inplace=True)\n"
   ]
  },
  {
   "cell_type": "code",
   "execution_count": 5,
   "metadata": {},
   "outputs": [
    {
     "data": {
      "text/plain": [
       "Index(['datetime', 'radarPCD', 'doppler', 'snr', 'range', 'angle', 'power',\n",
       "       'depthPCD'],\n",
       "      dtype='object')"
      ]
     },
     "execution_count": 5,
     "metadata": {},
     "output_type": "execute_result"
    }
   ],
   "source": [
    "mergedRadarDepth.columns"
   ]
  },
  {
   "cell_type": "code",
   "execution_count": 8,
   "metadata": {},
   "outputs": [],
   "source": [
    "mergedRadarDepthRgb = processedDataFolder_name + \"mergedPcdDepthRgb.pkl\" \n",
    "mergedRadarDepthRgb = pd.read_pickle(mergedRadarDepthRgb)\n",
    "mergedRadarDepthRgb.reset_index(drop=True, inplace=True)"
   ]
  },
  {
   "cell_type": "code",
   "execution_count": 9,
   "metadata": {},
   "outputs": [
    {
     "data": {
      "text/plain": [
       "Index(['datetime', 'radarPCD', 'doppler', 'snr', 'range', 'angle', 'power',\n",
       "       'depthPCD', 'rgbImage', 'rgbFilename', 'rgbFilepath'],\n",
       "      dtype='object')"
      ]
     },
     "execution_count": 9,
     "metadata": {},
     "output_type": "execute_result"
    }
   ],
   "source": [
    "mergedRadarDepthRgb.columns"
   ]
  },
  {
   "cell_type": "code",
   "execution_count": null,
   "metadata": {},
   "outputs": [],
   "source": [
    "mergedRadarDepthRgbPred = pd.DataFrame(columns=[\"predPCD\"])\n",
    "    mergedRadarDepthRgbPred[\"predPCD\"] = predictedPcd\n",
    "    mergedRadarDepthRgbPred.to_csv(processedDataFolder_name + \"mergedRadarDepthRgbPred.csv\", index=False)\n",
    "    mergedRadarDepthRgbPred.to_pickle(processedDataFolder_name + \"mergedRadarDepthRgbPred.pkl\")\n",
    "    print(\"mergedRadarDepthRgbPred.pkl Exported\")"
   ]
  },
  {
   "cell_type": "code",
   "execution_count": 10,
   "metadata": {},
   "outputs": [],
   "source": [
    "mergedRadarDepthRgbPred = processedDataFolder_name + \"mergedRadarDepthRgbPred.pkl\" \n",
    "mergedRadarDepthRgbPred = pd.read_pickle(mergedRadarDepthRgbPred)\n",
    "mergedRadarDepthRgbPred.reset_index(drop=True, inplace=True)"
   ]
  },
  {
   "cell_type": "code",
   "execution_count": null,
   "metadata": {},
   "outputs": [],
   "source": [
    "mergedRadarDepthRgbPred.columns"
   ]
  }
 ],
 "metadata": {
  "kernelspec": {
   "display_name": "mmenv",
   "language": "python",
   "name": "python3"
  },
  "language_info": {
   "codemirror_mode": {
    "name": "ipython",
    "version": 3
   },
   "file_extension": ".py",
   "mimetype": "text/x-python",
   "name": "python",
   "nbconvert_exporter": "python",
   "pygments_lexer": "ipython3",
   "version": "3.8.20"
  }
 },
 "nbformat": 4,
 "nbformat_minor": 2
}

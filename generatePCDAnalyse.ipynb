{
 "cells": [
  {
   "cell_type": "code",
   "execution_count": 2,
   "metadata": {},
   "outputs": [],
   "source": [
    "from utils.helper import *    \n",
    "import seaborn as sns\n",
    "import os\n",
    "import struct\n",
    "from datetime import datetime, timedelta\n",
    "import matplotlib.pyplot as plt\n",
    "import ast"
   ]
  },
  {
   "cell_type": "markdown",
   "metadata": {},
   "source": [
    "EXTRACT FILES FROM FOLDER"
   ]
  },
  {
   "cell_type": "code",
   "execution_count": 3,
   "metadata": {},
   "outputs": [],
   "source": [
    "datasetsFolderPath = './datasets/'\n",
    "radarFilePath = os.path.join(datasetsFolderPath,\"radar_data\")\n",
    "depthFilePath = os.path.join(datasetsFolderPath,\"depth_data\")\n",
    "# filtered_file = sorted([content for content in os.listdir(folder_path) if content.startswith(\"drone\")])\n",
    "filteredBinFile = [f for f in os.listdir(radarFilePath) if os.path.isfile(os.path.join(radarFilePath, f)) and f.endswith('.bin') and not f.startswith('only_sensor')]\n",
    "filteredCsvFile = [f for f in os.listdir(depthFilePath) if os.path.isfile(os.path.join(depthFilePath, f)) and f.endswith('.pkl') and not f.startswith('only_sensor')]\n",
    "\n",
    "# List all the contents of the folder\n",
    "# for file in filteredCsvFile:\n",
    "#     print(file)\n",
    "# for file in filteredBinFile:\n",
    "#     print(file)\n"
   ]
  },
  {
   "cell_type": "code",
   "execution_count": 4,
   "metadata": {},
   "outputs": [
    {
     "data": {
      "text/plain": [
       "['drone_2025-01-29_12_41_45_test.bin']"
      ]
     },
     "execution_count": 4,
     "metadata": {},
     "output_type": "execute_result"
    }
   ],
   "source": [
    "filteredBinFile = filteredBinFile[-1:]\n",
    "filteredBinFile"
   ]
  },
  {
   "cell_type": "code",
   "execution_count": 5,
   "metadata": {},
   "outputs": [
    {
     "data": {
      "text/plain": [
       "['drone_2024-10-02_20_27_14_test_depth.pkl',\n",
       " 'drone_2024-10-02_20_20_33_test_depth.pkl',\n",
       " 'drone_2025-01-29_12_41_45_test_depth.pkl',\n",
       " 'drone_2024-10-02_20_23_31_test_depth.pkl']"
      ]
     },
     "execution_count": 5,
     "metadata": {},
     "output_type": "execute_result"
    }
   ],
   "source": [
    "filteredCsvFile"
   ]
  },
  {
   "cell_type": "code",
   "execution_count": 6,
   "metadata": {},
   "outputs": [],
   "source": [
    "# # lidarDf = pd.read_csv(\"./datasets/lidar_data/drone_2024-09-10_16_12_18_test_lidar.csv\")\n",
    "# depthDf = pd.read_csv(\"./datasets/depth_data/drone_2024-09-10_16_12_18_test_depth.csv\")\n",
    "# depthDf.head(5)"
   ]
  },
  {
   "cell_type": "markdown",
   "metadata": {},
   "source": [
    "PCD ANALYSE"
   ]
  },
  {
   "cell_type": "code",
   "execution_count": 10,
   "metadata": {},
   "outputs": [],
   "source": [
    "# def point_cloud_frames(file_name = None):\n",
    "#     info_dict = get_info(file_name)\n",
    "#     run_data_read_only_sensor(info_dict)\n",
    "#     bin_filename = './datasets/radar_data/only_sensor_' + info_dict['filename'][0]\n",
    "#     bin_reader = RawDataReader(bin_filename)\n",
    "#     total_frame_number = int(info_dict[' Nf'][0])\n",
    "#     pointCloudProcessCFG = PointCloudProcessCFG()\n",
    "#     velocities = []\n",
    "#     pcds = []\n",
    "#     start_time = file_name.split('/')[-1].split('.')[0].split('drone_')[-1][:19]\n",
    "#     start_time_obj = datetime.strptime(start_time,'%Y-%m-%d_%H_%M_%S')\n",
    "#     time_frames = []\n",
    "#     for frame_no in range(total_frame_number):\n",
    "#         time_current = start_time_obj+timedelta(seconds=frame_no*(info_dict[\"periodicity\"][0])/1000)\n",
    "#         time_frames.append(time_current.strftime('%Y-%m-%d %H_%M_%S.%f'))\n",
    "#         bin_frame = bin_reader.getNextFrame(pointCloudProcessCFG.frameConfig)\n",
    "#         np_frame = bin2np_frame(bin_frame)\n",
    "#         frameConfig = pointCloudProcessCFG.frameConfig\n",
    "#         reshapedFrame = frameReshape(np_frame, frameConfig)\n",
    "#         rangeResult = rangeFFT(reshapedFrame, frameConfig)\n",
    "#         if frame_no == 5:\n",
    "#             range_heatmap = np.sum(np.abs(rangeResult), axis=(0,1))\n",
    "#             # print(\"range_heatmap.shape: \", range_heatmap.shape)\n",
    "#             # sns.heatmap(range_heatmap)\n",
    "#             # plt.savefig('range.png')\n",
    "        \n",
    "#         dopplerResult = dopplerFFT(rangeResult, frameConfig)\n",
    "#         pointCloud = frame2pointcloud(dopplerResult, pointCloudProcessCFG)\n",
    "#         pcds.append(pointCloud)\n",
    "#     return pcds, time_frames\n",
    "\n",
    "def pointcloud_openradar(file_name):\n",
    "    info_dict = get_info(file_name)\n",
    "    run_data_read_only_sensor(info_dict)\n",
    "    bin_filename = './datasets/radar_data/only_sensor_' + info_dict['filename'][0]\n",
    "    pcd_data, time = generate_pcd_time(bin_filename, info_dict,fixedPoint=False)\n",
    "    # print(pcd_data.shape)\n",
    "    return pcd_data, time\n"
   ]
  },
  {
   "cell_type": "markdown",
   "metadata": {},
   "source": [
    "CALLL PREVIOUS FUNC AND EXTRACT PCDS"
   ]
  },
  {
   "cell_type": "code",
   "execution_count": null,
   "metadata": {},
   "outputs": [
    {
     "name": "stdout",
     "output_type": "stream",
     "text": [
      "ranges: (144,), azimuths: (144,), dopplers: (144,), snrs: (144,), powerProfile: (144,)\n",
      "ranges: (196,), azimuths: (196,), dopplers: (196,), snrs: (196,), powerProfile: (196,)\n",
      "ranges: (41,), azimuths: (41,), dopplers: (41,), snrs: (41,), powerProfile: (41,)\n"
     ]
    },
    {
     "name": "stderr",
     "output_type": "stream",
     "text": [
      "/app/OpenRadar/mmwave/tracking/gtrack_module.py:157: RuntimeWarning: overflow encountered in cast\n",
      "  inst.bestScore[n] = sys.float_info.max\n"
     ]
    },
    {
     "name": "stdout",
     "output_type": "stream",
     "text": [
      "ranges: (39,), azimuths: (39,), dopplers: (39,), snrs: (39,), powerProfile: (39,)\n",
      "ranges: (48,), azimuths: (48,), dopplers: (48,), snrs: (48,), powerProfile: (48,)\n",
      "ranges: (53,), azimuths: (53,), dopplers: (53,), snrs: (53,), powerProfile: (53,)\n",
      "ranges: (51,), azimuths: (51,), dopplers: (51,), snrs: (51,), powerProfile: (51,)\n",
      "ranges: (44,), azimuths: (44,), dopplers: (44,), snrs: (44,), powerProfile: (44,)\n",
      "ranges: (46,), azimuths: (46,), dopplers: (46,), snrs: (46,), powerProfile: (46,)\n",
      "ranges: (57,), azimuths: (57,), dopplers: (57,), snrs: (57,), powerProfile: (57,)\n",
      "ranges: (53,), azimuths: (53,), dopplers: (53,), snrs: (53,), powerProfile: (53,)\n",
      "ranges: (57,), azimuths: (57,), dopplers: (57,), snrs: (57,), powerProfile: (57,)\n",
      "ranges: (287,), azimuths: (287,), dopplers: (287,), snrs: (287,), powerProfile: (287,)\n",
      "ranges: (50,), azimuths: (50,), dopplers: (50,), snrs: (50,), powerProfile: (50,)\n",
      "ranges: (54,), azimuths: (54,), dopplers: (54,), snrs: (54,), powerProfile: (54,)\n",
      "ranges: (45,), azimuths: (45,), dopplers: (45,), snrs: (45,), powerProfile: (45,)\n",
      "ranges: (48,), azimuths: (48,), dopplers: (48,), snrs: (48,), powerProfile: (48,)\n",
      "ranges: (45,), azimuths: (45,), dopplers: (45,), snrs: (45,), powerProfile: (45,)\n",
      "ranges: (52,), azimuths: (52,), dopplers: (52,), snrs: (52,), powerProfile: (52,)\n"
     ]
    },
    {
     "name": "stderr",
     "output_type": "stream",
     "text": [
      "/app/OpenRadar/mmwave/tracking/gtrack_unit.py:350: RuntimeWarning: divide by zero encountered in scalar divide\n",
      "  rvError = np.float32((inst.H_s[2] - um[2]) / um[2])\n"
     ]
    },
    {
     "name": "stdout",
     "output_type": "stream",
     "text": [
      "ranges: (46,), azimuths: (46,), dopplers: (46,), snrs: (46,), powerProfile: (46,)\n",
      "ranges: (45,), azimuths: (45,), dopplers: (45,), snrs: (45,), powerProfile: (45,)\n",
      "ranges: (50,), azimuths: (50,), dopplers: (50,), snrs: (50,), powerProfile: (50,)\n",
      "ranges: (44,), azimuths: (44,), dopplers: (44,), snrs: (44,), powerProfile: (44,)\n",
      "ranges: (145,), azimuths: (145,), dopplers: (145,), snrs: (145,), powerProfile: (145,)\n",
      "ranges: (110,), azimuths: (110,), dopplers: (110,), snrs: (110,), powerProfile: (110,)\n",
      "ranges: (55,), azimuths: (55,), dopplers: (55,), snrs: (55,), powerProfile: (55,)\n",
      "ranges: (38,), azimuths: (38,), dopplers: (38,), snrs: (38,), powerProfile: (38,)\n",
      "ranges: (49,), azimuths: (49,), dopplers: (49,), snrs: (49,), powerProfile: (49,)\n",
      "ranges: (52,), azimuths: (52,), dopplers: (52,), snrs: (52,), powerProfile: (52,)\n",
      "ranges: (45,), azimuths: (45,), dopplers: (45,), snrs: (45,), powerProfile: (45,)\n",
      "ranges: (47,), azimuths: (47,), dopplers: (47,), snrs: (47,), powerProfile: (47,)\n",
      "ranges: (173,), azimuths: (173,), dopplers: (173,), snrs: (173,), powerProfile: (173,)\n",
      "ranges: (79,), azimuths: (79,), dopplers: (79,), snrs: (79,), powerProfile: (79,)\n",
      "ranges: (131,), azimuths: (131,), dopplers: (131,), snrs: (131,), powerProfile: (131,)\n",
      "ranges: (221,), azimuths: (221,), dopplers: (221,), snrs: (221,), powerProfile: (221,)\n",
      "ranges: (49,), azimuths: (49,), dopplers: (49,), snrs: (49,), powerProfile: (49,)\n",
      "ranges: (50,), azimuths: (50,), dopplers: (50,), snrs: (50,), powerProfile: (50,)\n",
      "ranges: (269,), azimuths: (269,), dopplers: (269,), snrs: (269,), powerProfile: (269,)\n",
      "ranges: (201,), azimuths: (201,), dopplers: (201,), snrs: (201,), powerProfile: (201,)\n",
      "ranges: (243,), azimuths: (243,), dopplers: (243,), snrs: (243,), powerProfile: (243,)\n",
      "ranges: (41,), azimuths: (41,), dopplers: (41,), snrs: (41,), powerProfile: (41,)\n",
      "ranges: (42,), azimuths: (42,), dopplers: (42,), snrs: (42,), powerProfile: (42,)\n",
      "ranges: (40,), azimuths: (40,), dopplers: (40,), snrs: (40,), powerProfile: (40,)\n",
      "ranges: (40,), azimuths: (40,), dopplers: (40,), snrs: (40,), powerProfile: (40,)\n",
      "ranges: (41,), azimuths: (41,), dopplers: (41,), snrs: (41,), powerProfile: (41,)\n",
      "ranges: (39,), azimuths: (39,), dopplers: (39,), snrs: (39,), powerProfile: (39,)\n",
      "ranges: (42,), azimuths: (42,), dopplers: (42,), snrs: (42,), powerProfile: (42,)\n",
      "ranges: (36,), azimuths: (36,), dopplers: (36,), snrs: (36,), powerProfile: (36,)\n",
      "ranges: (46,), azimuths: (46,), dopplers: (46,), snrs: (46,), powerProfile: (46,)\n",
      "ranges: (143,), azimuths: (143,), dopplers: (143,), snrs: (143,), powerProfile: (143,)\n",
      "ranges: (49,), azimuths: (49,), dopplers: (49,), snrs: (49,), powerProfile: (49,)\n",
      "ranges: (50,), azimuths: (50,), dopplers: (50,), snrs: (50,), powerProfile: (50,)\n",
      "ranges: (61,), azimuths: (61,), dopplers: (61,), snrs: (61,), powerProfile: (61,)\n",
      "ranges: (67,), azimuths: (67,), dopplers: (67,), snrs: (67,), powerProfile: (67,)\n",
      "ranges: (62,), azimuths: (62,), dopplers: (62,), snrs: (62,), powerProfile: (62,)\n",
      "ranges: (155,), azimuths: (155,), dopplers: (155,), snrs: (155,), powerProfile: (155,)\n",
      "ranges: (48,), azimuths: (48,), dopplers: (48,), snrs: (48,), powerProfile: (48,)\n",
      "ranges: (52,), azimuths: (52,), dopplers: (52,), snrs: (52,), powerProfile: (52,)\n",
      "ranges: (99,), azimuths: (99,), dopplers: (99,), snrs: (99,), powerProfile: (99,)\n",
      "ranges: (73,), azimuths: (73,), dopplers: (73,), snrs: (73,), powerProfile: (73,)\n",
      "ranges: (62,), azimuths: (62,), dopplers: (62,), snrs: (62,), powerProfile: (62,)\n",
      "ranges: (63,), azimuths: (63,), dopplers: (63,), snrs: (63,), powerProfile: (63,)\n",
      "ranges: (71,), azimuths: (71,), dopplers: (71,), snrs: (71,), powerProfile: (71,)\n",
      "ranges: (74,), azimuths: (74,), dopplers: (74,), snrs: (74,), powerProfile: (74,)\n",
      "ranges: (144,), azimuths: (144,), dopplers: (144,), snrs: (144,), powerProfile: (144,)\n",
      "ranges: (51,), azimuths: (51,), dopplers: (51,), snrs: (51,), powerProfile: (51,)\n",
      "ranges: (59,), azimuths: (59,), dopplers: (59,), snrs: (59,), powerProfile: (59,)\n",
      "ranges: (62,), azimuths: (62,), dopplers: (62,), snrs: (62,), powerProfile: (62,)\n",
      "ranges: (66,), azimuths: (66,), dopplers: (66,), snrs: (66,), powerProfile: (66,)\n",
      "ranges: (173,), azimuths: (173,), dopplers: (173,), snrs: (173,), powerProfile: (173,)\n",
      "ranges: (174,), azimuths: (174,), dopplers: (174,), snrs: (174,), powerProfile: (174,)\n",
      "ranges: (38,), azimuths: (38,), dopplers: (38,), snrs: (38,), powerProfile: (38,)\n",
      "ranges: (142,), azimuths: (142,), dopplers: (142,), snrs: (142,), powerProfile: (142,)\n",
      "ranges: (62,), azimuths: (62,), dopplers: (62,), snrs: (62,), powerProfile: (62,)\n",
      "ranges: (61,), azimuths: (61,), dopplers: (61,), snrs: (61,), powerProfile: (61,)\n",
      "ranges: (151,), azimuths: (151,), dopplers: (151,), snrs: (151,), powerProfile: (151,)\n",
      "ranges: (49,), azimuths: (49,), dopplers: (49,), snrs: (49,), powerProfile: (49,)\n",
      "ranges: (42,), azimuths: (42,), dopplers: (42,), snrs: (42,), powerProfile: (42,)\n",
      "ranges: (200,), azimuths: (200,), dopplers: (200,), snrs: (200,), powerProfile: (200,)\n",
      "ranges: (48,), azimuths: (48,), dopplers: (48,), snrs: (48,), powerProfile: (48,)\n",
      "ranges: (63,), azimuths: (63,), dopplers: (63,), snrs: (63,), powerProfile: (63,)\n",
      "ranges: (44,), azimuths: (44,), dopplers: (44,), snrs: (44,), powerProfile: (44,)\n",
      "ranges: (42,), azimuths: (42,), dopplers: (42,), snrs: (42,), powerProfile: (42,)\n",
      "ranges: (43,), azimuths: (43,), dopplers: (43,), snrs: (43,), powerProfile: (43,)\n",
      "ranges: (55,), azimuths: (55,), dopplers: (55,), snrs: (55,), powerProfile: (55,)\n",
      "ranges: (50,), azimuths: (50,), dopplers: (50,), snrs: (50,), powerProfile: (50,)\n",
      "ranges: (37,), azimuths: (37,), dopplers: (37,), snrs: (37,), powerProfile: (37,)\n",
      "ranges: (93,), azimuths: (93,), dopplers: (93,), snrs: (93,), powerProfile: (93,)\n",
      "ranges: (50,), azimuths: (50,), dopplers: (50,), snrs: (50,), powerProfile: (50,)\n",
      "ranges: (158,), azimuths: (158,), dopplers: (158,), snrs: (158,), powerProfile: (158,)\n",
      "ranges: (45,), azimuths: (45,), dopplers: (45,), snrs: (45,), powerProfile: (45,)\n",
      "ranges: (49,), azimuths: (49,), dopplers: (49,), snrs: (49,), powerProfile: (49,)\n",
      "ranges: (32,), azimuths: (32,), dopplers: (32,), snrs: (32,), powerProfile: (32,)\n",
      "ranges: (40,), azimuths: (40,), dopplers: (40,), snrs: (40,), powerProfile: (40,)\n",
      "ranges: (38,), azimuths: (38,), dopplers: (38,), snrs: (38,), powerProfile: (38,)\n",
      "ranges: (161,), azimuths: (161,), dopplers: (161,), snrs: (161,), powerProfile: (161,)\n",
      "ranges: (227,), azimuths: (227,), dopplers: (227,), snrs: (227,), powerProfile: (227,)\n",
      "ranges: (53,), azimuths: (53,), dopplers: (53,), snrs: (53,), powerProfile: (53,)\n",
      "ranges: (167,), azimuths: (167,), dopplers: (167,), snrs: (167,), powerProfile: (167,)\n",
      "ranges: (56,), azimuths: (56,), dopplers: (56,), snrs: (56,), powerProfile: (56,)\n",
      "ranges: (209,), azimuths: (209,), dopplers: (209,), snrs: (209,), powerProfile: (209,)\n",
      "ranges: (244,), azimuths: (244,), dopplers: (244,), snrs: (244,), powerProfile: (244,)\n",
      "ranges: (33,), azimuths: (33,), dopplers: (33,), snrs: (33,), powerProfile: (33,)\n",
      "ranges: (47,), azimuths: (47,), dopplers: (47,), snrs: (47,), powerProfile: (47,)\n",
      "ranges: (32,), azimuths: (32,), dopplers: (32,), snrs: (32,), powerProfile: (32,)\n",
      "ranges: (118,), azimuths: (118,), dopplers: (118,), snrs: (118,), powerProfile: (118,)\n",
      "ranges: (115,), azimuths: (115,), dopplers: (115,), snrs: (115,), powerProfile: (115,)\n",
      "ranges: (92,), azimuths: (92,), dopplers: (92,), snrs: (92,), powerProfile: (92,)\n",
      "ranges: (40,), azimuths: (40,), dopplers: (40,), snrs: (40,), powerProfile: (40,)\n",
      "ranges: (110,), azimuths: (110,), dopplers: (110,), snrs: (110,), powerProfile: (110,)\n",
      "ranges: (46,), azimuths: (46,), dopplers: (46,), snrs: (46,), powerProfile: (46,)\n",
      "ranges: (56,), azimuths: (56,), dopplers: (56,), snrs: (56,), powerProfile: (56,)\n",
      "ranges: (49,), azimuths: (49,), dopplers: (49,), snrs: (49,), powerProfile: (49,)\n",
      "ranges: (56,), azimuths: (56,), dopplers: (56,), snrs: (56,), powerProfile: (56,)\n",
      "ranges: (55,), azimuths: (55,), dopplers: (55,), snrs: (55,), powerProfile: (55,)\n",
      "ranges: (50,), azimuths: (50,), dopplers: (50,), snrs: (50,), powerProfile: (50,)\n",
      "ranges: (62,), azimuths: (62,), dopplers: (62,), snrs: (62,), powerProfile: (62,)\n",
      "ranges: (44,), azimuths: (44,), dopplers: (44,), snrs: (44,), powerProfile: (44,)\n",
      "ranges: (58,), azimuths: (58,), dopplers: (58,), snrs: (58,), powerProfile: (58,)\n",
      "ranges: (41,), azimuths: (41,), dopplers: (41,), snrs: (41,), powerProfile: (41,)\n",
      "ranges: (49,), azimuths: (49,), dopplers: (49,), snrs: (49,), powerProfile: (49,)\n",
      "ranges: (114,), azimuths: (114,), dopplers: (114,), snrs: (114,), powerProfile: (114,)\n",
      "ranges: (41,), azimuths: (41,), dopplers: (41,), snrs: (41,), powerProfile: (41,)\n",
      "ranges: (58,), azimuths: (58,), dopplers: (58,), snrs: (58,), powerProfile: (58,)\n",
      "ranges: (47,), azimuths: (47,), dopplers: (47,), snrs: (47,), powerProfile: (47,)\n",
      "ranges: (59,), azimuths: (59,), dopplers: (59,), snrs: (59,), powerProfile: (59,)\n",
      "ranges: (40,), azimuths: (40,), dopplers: (40,), snrs: (40,), powerProfile: (40,)\n",
      "ranges: (45,), azimuths: (45,), dopplers: (45,), snrs: (45,), powerProfile: (45,)\n",
      "ranges: (66,), azimuths: (66,), dopplers: (66,), snrs: (66,), powerProfile: (66,)\n",
      "ranges: (44,), azimuths: (44,), dopplers: (44,), snrs: (44,), powerProfile: (44,)\n",
      "ranges: (52,), azimuths: (52,), dopplers: (52,), snrs: (52,), powerProfile: (52,)\n",
      "ranges: (46,), azimuths: (46,), dopplers: (46,), snrs: (46,), powerProfile: (46,)\n",
      "ranges: (52,), azimuths: (52,), dopplers: (52,), snrs: (52,), powerProfile: (52,)\n",
      "ranges: (58,), azimuths: (58,), dopplers: (58,), snrs: (58,), powerProfile: (58,)\n",
      "ranges: (226,), azimuths: (226,), dopplers: (226,), snrs: (226,), powerProfile: (226,)\n",
      "ranges: (288,), azimuths: (288,), dopplers: (288,), snrs: (288,), powerProfile: (288,)\n",
      "ranges: (244,), azimuths: (244,), dopplers: (244,), snrs: (244,), powerProfile: (244,)\n",
      "ranges: (275,), azimuths: (275,), dopplers: (275,), snrs: (275,), powerProfile: (275,)\n",
      "ranges: (254,), azimuths: (254,), dopplers: (254,), snrs: (254,), powerProfile: (254,)\n",
      "ranges: (237,), azimuths: (237,), dopplers: (237,), snrs: (237,), powerProfile: (237,)\n",
      "ranges: (283,), azimuths: (283,), dopplers: (283,), snrs: (283,), powerProfile: (283,)\n",
      "ranges: (228,), azimuths: (228,), dopplers: (228,), snrs: (228,), powerProfile: (228,)\n",
      "ranges: (197,), azimuths: (197,), dopplers: (197,), snrs: (197,), powerProfile: (197,)\n",
      "ranges: (242,), azimuths: (242,), dopplers: (242,), snrs: (242,), powerProfile: (242,)\n",
      "ranges: (221,), azimuths: (221,), dopplers: (221,), snrs: (221,), powerProfile: (221,)\n",
      "ranges: (208,), azimuths: (208,), dopplers: (208,), snrs: (208,), powerProfile: (208,)\n",
      "ranges: (170,), azimuths: (170,), dopplers: (170,), snrs: (170,), powerProfile: (170,)\n",
      "ranges: (203,), azimuths: (203,), dopplers: (203,), snrs: (203,), powerProfile: (203,)\n",
      "ranges: (191,), azimuths: (191,), dopplers: (191,), snrs: (191,), powerProfile: (191,)\n",
      "ranges: (181,), azimuths: (181,), dopplers: (181,), snrs: (181,), powerProfile: (181,)\n",
      "ranges: (191,), azimuths: (191,), dopplers: (191,), snrs: (191,), powerProfile: (191,)\n",
      "ranges: (235,), azimuths: (235,), dopplers: (235,), snrs: (235,), powerProfile: (235,)\n",
      "ranges: (219,), azimuths: (219,), dopplers: (219,), snrs: (219,), powerProfile: (219,)\n",
      "ranges: (221,), azimuths: (221,), dopplers: (221,), snrs: (221,), powerProfile: (221,)\n",
      "ranges: (173,), azimuths: (173,), dopplers: (173,), snrs: (173,), powerProfile: (173,)\n",
      "ranges: (226,), azimuths: (226,), dopplers: (226,), snrs: (226,), powerProfile: (226,)\n",
      "ranges: (234,), azimuths: (234,), dopplers: (234,), snrs: (234,), powerProfile: (234,)\n",
      "ranges: (249,), azimuths: (249,), dopplers: (249,), snrs: (249,), powerProfile: (249,)\n",
      "ranges: (229,), azimuths: (229,), dopplers: (229,), snrs: (229,), powerProfile: (229,)\n",
      "ranges: (178,), azimuths: (178,), dopplers: (178,), snrs: (178,), powerProfile: (178,)\n",
      "ranges: (262,), azimuths: (262,), dopplers: (262,), snrs: (262,), powerProfile: (262,)\n",
      "ranges: (242,), azimuths: (242,), dopplers: (242,), snrs: (242,), powerProfile: (242,)\n",
      "ranges: (215,), azimuths: (215,), dopplers: (215,), snrs: (215,), powerProfile: (215,)\n",
      "ranges: (235,), azimuths: (235,), dopplers: (235,), snrs: (235,), powerProfile: (235,)\n",
      "ranges: (211,), azimuths: (211,), dopplers: (211,), snrs: (211,), powerProfile: (211,)\n",
      "ranges: (219,), azimuths: (219,), dopplers: (219,), snrs: (219,), powerProfile: (219,)\n",
      "ranges: (262,), azimuths: (262,), dopplers: (262,), snrs: (262,), powerProfile: (262,)\n",
      "ranges: (240,), azimuths: (240,), dopplers: (240,), snrs: (240,), powerProfile: (240,)\n",
      "ranges: (130,), azimuths: (130,), dopplers: (130,), snrs: (130,), powerProfile: (130,)\n",
      "ranges: (155,), azimuths: (155,), dopplers: (155,), snrs: (155,), powerProfile: (155,)\n",
      "ranges: (146,), azimuths: (146,), dopplers: (146,), snrs: (146,), powerProfile: (146,)\n",
      "ranges: (111,), azimuths: (111,), dopplers: (111,), snrs: (111,), powerProfile: (111,)\n",
      "ranges: (102,), azimuths: (102,), dopplers: (102,), snrs: (102,), powerProfile: (102,)\n",
      "ranges: (127,), azimuths: (127,), dopplers: (127,), snrs: (127,), powerProfile: (127,)\n",
      "ranges: (116,), azimuths: (116,), dopplers: (116,), snrs: (116,), powerProfile: (116,)\n",
      "ranges: (125,), azimuths: (125,), dopplers: (125,), snrs: (125,), powerProfile: (125,)\n",
      "ranges: (117,), azimuths: (117,), dopplers: (117,), snrs: (117,), powerProfile: (117,)\n",
      "ranges: (168,), azimuths: (168,), dopplers: (168,), snrs: (168,), powerProfile: (168,)\n",
      "ranges: (114,), azimuths: (114,), dopplers: (114,), snrs: (114,), powerProfile: (114,)\n",
      "ranges: (135,), azimuths: (135,), dopplers: (135,), snrs: (135,), powerProfile: (135,)\n",
      "ranges: (156,), azimuths: (156,), dopplers: (156,), snrs: (156,), powerProfile: (156,)\n",
      "ranges: (148,), azimuths: (148,), dopplers: (148,), snrs: (148,), powerProfile: (148,)\n",
      "ranges: (94,), azimuths: (94,), dopplers: (94,), snrs: (94,), powerProfile: (94,)\n",
      "ranges: (60,), azimuths: (60,), dopplers: (60,), snrs: (60,), powerProfile: (60,)\n",
      "ranges: (82,), azimuths: (82,), dopplers: (82,), snrs: (82,), powerProfile: (82,)\n",
      "ranges: (107,), azimuths: (107,), dopplers: (107,), snrs: (107,), powerProfile: (107,)\n",
      "ranges: (87,), azimuths: (87,), dopplers: (87,), snrs: (87,), powerProfile: (87,)\n",
      "ranges: (104,), azimuths: (104,), dopplers: (104,), snrs: (104,), powerProfile: (104,)\n",
      "ranges: (77,), azimuths: (77,), dopplers: (77,), snrs: (77,), powerProfile: (77,)\n",
      "ranges: (108,), azimuths: (108,), dopplers: (108,), snrs: (108,), powerProfile: (108,)\n",
      "ranges: (120,), azimuths: (120,), dopplers: (120,), snrs: (120,), powerProfile: (120,)\n",
      "ranges: (95,), azimuths: (95,), dopplers: (95,), snrs: (95,), powerProfile: (95,)\n",
      "ranges: (102,), azimuths: (102,), dopplers: (102,), snrs: (102,), powerProfile: (102,)\n",
      "ranges: (66,), azimuths: (66,), dopplers: (66,), snrs: (66,), powerProfile: (66,)\n",
      "ranges: (80,), azimuths: (80,), dopplers: (80,), snrs: (80,), powerProfile: (80,)\n",
      "ranges: (98,), azimuths: (98,), dopplers: (98,), snrs: (98,), powerProfile: (98,)\n",
      "ranges: (79,), azimuths: (79,), dopplers: (79,), snrs: (79,), powerProfile: (79,)\n",
      "ranges: (121,), azimuths: (121,), dopplers: (121,), snrs: (121,), powerProfile: (121,)\n",
      "ranges: (126,), azimuths: (126,), dopplers: (126,), snrs: (126,), powerProfile: (126,)\n",
      "ranges: (95,), azimuths: (95,), dopplers: (95,), snrs: (95,), powerProfile: (95,)\n",
      "ranges: (68,), azimuths: (68,), dopplers: (68,), snrs: (68,), powerProfile: (68,)\n",
      "ranges: (102,), azimuths: (102,), dopplers: (102,), snrs: (102,), powerProfile: (102,)\n",
      "ranges: (74,), azimuths: (74,), dopplers: (74,), snrs: (74,), powerProfile: (74,)\n",
      "ranges: (78,), azimuths: (78,), dopplers: (78,), snrs: (78,), powerProfile: (78,)\n",
      "ranges: (78,), azimuths: (78,), dopplers: (78,), snrs: (78,), powerProfile: (78,)\n",
      "ranges: (67,), azimuths: (67,), dopplers: (67,), snrs: (67,), powerProfile: (67,)\n",
      "ranges: (69,), azimuths: (69,), dopplers: (69,), snrs: (69,), powerProfile: (69,)\n",
      "ranges: (58,), azimuths: (58,), dopplers: (58,), snrs: (58,), powerProfile: (58,)\n",
      "ranges: (96,), azimuths: (96,), dopplers: (96,), snrs: (96,), powerProfile: (96,)\n",
      "ranges: (64,), azimuths: (64,), dopplers: (64,), snrs: (64,), powerProfile: (64,)\n",
      "ranges: (63,), azimuths: (63,), dopplers: (63,), snrs: (63,), powerProfile: (63,)\n",
      "ranges: (75,), azimuths: (75,), dopplers: (75,), snrs: (75,), powerProfile: (75,)\n",
      "ranges: (73,), azimuths: (73,), dopplers: (73,), snrs: (73,), powerProfile: (73,)\n",
      "ranges: (103,), azimuths: (103,), dopplers: (103,), snrs: (103,), powerProfile: (103,)\n",
      "ranges: (92,), azimuths: (92,), dopplers: (92,), snrs: (92,), powerProfile: (92,)\n",
      "ranges: (138,), azimuths: (138,), dopplers: (138,), snrs: (138,), powerProfile: (138,)\n",
      "ranges: (98,), azimuths: (98,), dopplers: (98,), snrs: (98,), powerProfile: (98,)\n",
      "ranges: (117,), azimuths: (117,), dopplers: (117,), snrs: (117,), powerProfile: (117,)\n",
      "ranges: (104,), azimuths: (104,), dopplers: (104,), snrs: (104,), powerProfile: (104,)\n",
      "ranges: (103,), azimuths: (103,), dopplers: (103,), snrs: (103,), powerProfile: (103,)\n",
      "ranges: (104,), azimuths: (104,), dopplers: (104,), snrs: (104,), powerProfile: (104,)\n",
      "ranges: (72,), azimuths: (72,), dopplers: (72,), snrs: (72,), powerProfile: (72,)\n",
      "ranges: (66,), azimuths: (66,), dopplers: (66,), snrs: (66,), powerProfile: (66,)\n",
      "ranges: (110,), azimuths: (110,), dopplers: (110,), snrs: (110,), powerProfile: (110,)\n",
      "ranges: (110,), azimuths: (110,), dopplers: (110,), snrs: (110,), powerProfile: (110,)\n",
      "ranges: (120,), azimuths: (120,), dopplers: (120,), snrs: (120,), powerProfile: (120,)\n",
      "ranges: (90,), azimuths: (90,), dopplers: (90,), snrs: (90,), powerProfile: (90,)\n",
      "ranges: (94,), azimuths: (94,), dopplers: (94,), snrs: (94,), powerProfile: (94,)\n",
      "ranges: (112,), azimuths: (112,), dopplers: (112,), snrs: (112,), powerProfile: (112,)\n",
      "ranges: (93,), azimuths: (93,), dopplers: (93,), snrs: (93,), powerProfile: (93,)\n",
      "ranges: (137,), azimuths: (137,), dopplers: (137,), snrs: (137,), powerProfile: (137,)\n",
      "ranges: (89,), azimuths: (89,), dopplers: (89,), snrs: (89,), powerProfile: (89,)\n",
      "ranges: (87,), azimuths: (87,), dopplers: (87,), snrs: (87,), powerProfile: (87,)\n",
      "ranges: (107,), azimuths: (107,), dopplers: (107,), snrs: (107,), powerProfile: (107,)\n",
      "ranges: (120,), azimuths: (120,), dopplers: (120,), snrs: (120,), powerProfile: (120,)\n",
      "ranges: (117,), azimuths: (117,), dopplers: (117,), snrs: (117,), powerProfile: (117,)\n",
      "ranges: (129,), azimuths: (129,), dopplers: (129,), snrs: (129,), powerProfile: (129,)\n",
      "ranges: (129,), azimuths: (129,), dopplers: (129,), snrs: (129,), powerProfile: (129,)\n",
      "ranges: (98,), azimuths: (98,), dopplers: (98,), snrs: (98,), powerProfile: (98,)\n",
      "ranges: (123,), azimuths: (123,), dopplers: (123,), snrs: (123,), powerProfile: (123,)\n",
      "ranges: (144,), azimuths: (144,), dopplers: (144,), snrs: (144,), powerProfile: (144,)\n",
      "ranges: (135,), azimuths: (135,), dopplers: (135,), snrs: (135,), powerProfile: (135,)\n",
      "ranges: (104,), azimuths: (104,), dopplers: (104,), snrs: (104,), powerProfile: (104,)\n",
      "ranges: (112,), azimuths: (112,), dopplers: (112,), snrs: (112,), powerProfile: (112,)\n",
      "ranges: (122,), azimuths: (122,), dopplers: (122,), snrs: (122,), powerProfile: (122,)\n",
      "ranges: (131,), azimuths: (131,), dopplers: (131,), snrs: (131,), powerProfile: (131,)\n",
      "ranges: (94,), azimuths: (94,), dopplers: (94,), snrs: (94,), powerProfile: (94,)\n",
      "ranges: (107,), azimuths: (107,), dopplers: (107,), snrs: (107,), powerProfile: (107,)\n",
      "ranges: (136,), azimuths: (136,), dopplers: (136,), snrs: (136,), powerProfile: (136,)\n",
      "ranges: (104,), azimuths: (104,), dopplers: (104,), snrs: (104,), powerProfile: (104,)\n",
      "ranges: (100,), azimuths: (100,), dopplers: (100,), snrs: (100,), powerProfile: (100,)\n",
      "ranges: (131,), azimuths: (131,), dopplers: (131,), snrs: (131,), powerProfile: (131,)\n",
      "ranges: (73,), azimuths: (73,), dopplers: (73,), snrs: (73,), powerProfile: (73,)\n",
      "ranges: (118,), azimuths: (118,), dopplers: (118,), snrs: (118,), powerProfile: (118,)\n",
      "ranges: (120,), azimuths: (120,), dopplers: (120,), snrs: (120,), powerProfile: (120,)\n",
      "ranges: (125,), azimuths: (125,), dopplers: (125,), snrs: (125,), powerProfile: (125,)\n",
      "ranges: (113,), azimuths: (113,), dopplers: (113,), snrs: (113,), powerProfile: (113,)\n",
      "ranges: (80,), azimuths: (80,), dopplers: (80,), snrs: (80,), powerProfile: (80,)\n",
      "ranges: (112,), azimuths: (112,), dopplers: (112,), snrs: (112,), powerProfile: (112,)\n",
      "ranges: (154,), azimuths: (154,), dopplers: (154,), snrs: (154,), powerProfile: (154,)\n",
      "ranges: (119,), azimuths: (119,), dopplers: (119,), snrs: (119,), powerProfile: (119,)\n",
      "ranges: (123,), azimuths: (123,), dopplers: (123,), snrs: (123,), powerProfile: (123,)\n",
      "ranges: (114,), azimuths: (114,), dopplers: (114,), snrs: (114,), powerProfile: (114,)\n",
      "ranges: (125,), azimuths: (125,), dopplers: (125,), snrs: (125,), powerProfile: (125,)\n",
      "ranges: (113,), azimuths: (113,), dopplers: (113,), snrs: (113,), powerProfile: (113,)\n",
      "ranges: (128,), azimuths: (128,), dopplers: (128,), snrs: (128,), powerProfile: (128,)\n",
      "ranges: (114,), azimuths: (114,), dopplers: (114,), snrs: (114,), powerProfile: (114,)\n",
      "ranges: (92,), azimuths: (92,), dopplers: (92,), snrs: (92,), powerProfile: (92,)\n",
      "ranges: (98,), azimuths: (98,), dopplers: (98,), snrs: (98,), powerProfile: (98,)\n",
      "ranges: (67,), azimuths: (67,), dopplers: (67,), snrs: (67,), powerProfile: (67,)\n",
      "ranges: (79,), azimuths: (79,), dopplers: (79,), snrs: (79,), powerProfile: (79,)\n",
      "ranges: (104,), azimuths: (104,), dopplers: (104,), snrs: (104,), powerProfile: (104,)\n",
      "ranges: (132,), azimuths: (132,), dopplers: (132,), snrs: (132,), powerProfile: (132,)\n",
      "ranges: (95,), azimuths: (95,), dopplers: (95,), snrs: (95,), powerProfile: (95,)\n",
      "ranges: (128,), azimuths: (128,), dopplers: (128,), snrs: (128,), powerProfile: (128,)\n",
      "ranges: (104,), azimuths: (104,), dopplers: (104,), snrs: (104,), powerProfile: (104,)\n",
      "ranges: (108,), azimuths: (108,), dopplers: (108,), snrs: (108,), powerProfile: (108,)\n",
      "ranges: (78,), azimuths: (78,), dopplers: (78,), snrs: (78,), powerProfile: (78,)\n",
      "ranges: (70,), azimuths: (70,), dopplers: (70,), snrs: (70,), powerProfile: (70,)\n",
      "ranges: (86,), azimuths: (86,), dopplers: (86,), snrs: (86,), powerProfile: (86,)\n",
      "ranges: (101,), azimuths: (101,), dopplers: (101,), snrs: (101,), powerProfile: (101,)\n",
      "ranges: (130,), azimuths: (130,), dopplers: (130,), snrs: (130,), powerProfile: (130,)\n",
      "ranges: (69,), azimuths: (69,), dopplers: (69,), snrs: (69,), powerProfile: (69,)\n",
      "ranges: (92,), azimuths: (92,), dopplers: (92,), snrs: (92,), powerProfile: (92,)\n",
      "ranges: (72,), azimuths: (72,), dopplers: (72,), snrs: (72,), powerProfile: (72,)\n",
      "ranges: (112,), azimuths: (112,), dopplers: (112,), snrs: (112,), powerProfile: (112,)\n",
      "ranges: (103,), azimuths: (103,), dopplers: (103,), snrs: (103,), powerProfile: (103,)\n",
      "ranges: (133,), azimuths: (133,), dopplers: (133,), snrs: (133,), powerProfile: (133,)\n",
      "ranges: (93,), azimuths: (93,), dopplers: (93,), snrs: (93,), powerProfile: (93,)\n",
      "ranges: (115,), azimuths: (115,), dopplers: (115,), snrs: (115,), powerProfile: (115,)\n",
      "ranges: (78,), azimuths: (78,), dopplers: (78,), snrs: (78,), powerProfile: (78,)\n",
      "ranges: (81,), azimuths: (81,), dopplers: (81,), snrs: (81,), powerProfile: (81,)\n",
      "ranges: (128,), azimuths: (128,), dopplers: (128,), snrs: (128,), powerProfile: (128,)\n",
      "ranges: (108,), azimuths: (108,), dopplers: (108,), snrs: (108,), powerProfile: (108,)\n",
      "ranges: (134,), azimuths: (134,), dopplers: (134,), snrs: (134,), powerProfile: (134,)\n",
      "ranges: (84,), azimuths: (84,), dopplers: (84,), snrs: (84,), powerProfile: (84,)\n",
      "ranges: (69,), azimuths: (69,), dopplers: (69,), snrs: (69,), powerProfile: (69,)\n",
      "ranges: (88,), azimuths: (88,), dopplers: (88,), snrs: (88,), powerProfile: (88,)\n",
      "ranges: (113,), azimuths: (113,), dopplers: (113,), snrs: (113,), powerProfile: (113,)\n",
      "ranges: (87,), azimuths: (87,), dopplers: (87,), snrs: (87,), powerProfile: (87,)\n",
      "ranges: (78,), azimuths: (78,), dopplers: (78,), snrs: (78,), powerProfile: (78,)\n",
      "ranges: (68,), azimuths: (68,), dopplers: (68,), snrs: (68,), powerProfile: (68,)\n",
      "ranges: (54,), azimuths: (54,), dopplers: (54,), snrs: (54,), powerProfile: (54,)\n",
      "ranges: (79,), azimuths: (79,), dopplers: (79,), snrs: (79,), powerProfile: (79,)\n",
      "ranges: (83,), azimuths: (83,), dopplers: (83,), snrs: (83,), powerProfile: (83,)\n",
      "ranges: (92,), azimuths: (92,), dopplers: (92,), snrs: (92,), powerProfile: (92,)\n",
      "ranges: (113,), azimuths: (113,), dopplers: (113,), snrs: (113,), powerProfile: (113,)\n",
      "ranges: (47,), azimuths: (47,), dopplers: (47,), snrs: (47,), powerProfile: (47,)\n",
      "ranges: (142,), azimuths: (142,), dopplers: (142,), snrs: (142,), powerProfile: (142,)\n",
      "ranges: (76,), azimuths: (76,), dopplers: (76,), snrs: (76,), powerProfile: (76,)\n",
      "ranges: (84,), azimuths: (84,), dopplers: (84,), snrs: (84,), powerProfile: (84,)\n",
      "ranges: (73,), azimuths: (73,), dopplers: (73,), snrs: (73,), powerProfile: (73,)\n",
      "ranges: (147,), azimuths: (147,), dopplers: (147,), snrs: (147,), powerProfile: (147,)\n",
      "ranges: (105,), azimuths: (105,), dopplers: (105,), snrs: (105,), powerProfile: (105,)\n",
      "ranges: (54,), azimuths: (54,), dopplers: (54,), snrs: (54,), powerProfile: (54,)\n",
      "ranges: (72,), azimuths: (72,), dopplers: (72,), snrs: (72,), powerProfile: (72,)\n",
      "ranges: (32,), azimuths: (32,), dopplers: (32,), snrs: (32,), powerProfile: (32,)\n",
      "ranges: (70,), azimuths: (70,), dopplers: (70,), snrs: (70,), powerProfile: (70,)\n",
      "ranges: (60,), azimuths: (60,), dopplers: (60,), snrs: (60,), powerProfile: (60,)\n",
      "ranges: (79,), azimuths: (79,), dopplers: (79,), snrs: (79,), powerProfile: (79,)\n",
      "ranges: (36,), azimuths: (36,), dopplers: (36,), snrs: (36,), powerProfile: (36,)\n",
      "ranges: (51,), azimuths: (51,), dopplers: (51,), snrs: (51,), powerProfile: (51,)\n",
      "ranges: (51,), azimuths: (51,), dopplers: (51,), snrs: (51,), powerProfile: (51,)\n",
      "ranges: (68,), azimuths: (68,), dopplers: (68,), snrs: (68,), powerProfile: (68,)\n",
      "ranges: (66,), azimuths: (66,), dopplers: (66,), snrs: (66,), powerProfile: (66,)\n",
      "ranges: (59,), azimuths: (59,), dopplers: (59,), snrs: (59,), powerProfile: (59,)\n",
      "ranges: (92,), azimuths: (92,), dopplers: (92,), snrs: (92,), powerProfile: (92,)\n",
      "ranges: (107,), azimuths: (107,), dopplers: (107,), snrs: (107,), powerProfile: (107,)\n",
      "ranges: (100,), azimuths: (100,), dopplers: (100,), snrs: (100,), powerProfile: (100,)\n",
      "ranges: (70,), azimuths: (70,), dopplers: (70,), snrs: (70,), powerProfile: (70,)\n",
      "ranges: (80,), azimuths: (80,), dopplers: (80,), snrs: (80,), powerProfile: (80,)\n",
      "ranges: (52,), azimuths: (52,), dopplers: (52,), snrs: (52,), powerProfile: (52,)\n",
      "ranges: (80,), azimuths: (80,), dopplers: (80,), snrs: (80,), powerProfile: (80,)\n",
      "ranges: (85,), azimuths: (85,), dopplers: (85,), snrs: (85,), powerProfile: (85,)\n",
      "ranges: (75,), azimuths: (75,), dopplers: (75,), snrs: (75,), powerProfile: (75,)\n",
      "ranges: (70,), azimuths: (70,), dopplers: (70,), snrs: (70,), powerProfile: (70,)\n",
      "ranges: (97,), azimuths: (97,), dopplers: (97,), snrs: (97,), powerProfile: (97,)\n",
      "ranges: (61,), azimuths: (61,), dopplers: (61,), snrs: (61,), powerProfile: (61,)\n",
      "ranges: (83,), azimuths: (83,), dopplers: (83,), snrs: (83,), powerProfile: (83,)\n",
      "ranges: (96,), azimuths: (96,), dopplers: (96,), snrs: (96,), powerProfile: (96,)\n",
      "ranges: (92,), azimuths: (92,), dopplers: (92,), snrs: (92,), powerProfile: (92,)\n",
      "ranges: (56,), azimuths: (56,), dopplers: (56,), snrs: (56,), powerProfile: (56,)\n",
      "ranges: (67,), azimuths: (67,), dopplers: (67,), snrs: (67,), powerProfile: (67,)\n",
      "ranges: (67,), azimuths: (67,), dopplers: (67,), snrs: (67,), powerProfile: (67,)\n",
      "ranges: (50,), azimuths: (50,), dopplers: (50,), snrs: (50,), powerProfile: (50,)\n",
      "ranges: (62,), azimuths: (62,), dopplers: (62,), snrs: (62,), powerProfile: (62,)\n",
      "ranges: (41,), azimuths: (41,), dopplers: (41,), snrs: (41,), powerProfile: (41,)\n",
      "ranges: (77,), azimuths: (77,), dopplers: (77,), snrs: (77,), powerProfile: (77,)\n",
      "ranges: (82,), azimuths: (82,), dopplers: (82,), snrs: (82,), powerProfile: (82,)\n",
      "ranges: (113,), azimuths: (113,), dopplers: (113,), snrs: (113,), powerProfile: (113,)\n",
      "ranges: (94,), azimuths: (94,), dopplers: (94,), snrs: (94,), powerProfile: (94,)\n",
      "ranges: (101,), azimuths: (101,), dopplers: (101,), snrs: (101,), powerProfile: (101,)\n",
      "ranges: (64,), azimuths: (64,), dopplers: (64,), snrs: (64,), powerProfile: (64,)\n",
      "ranges: (90,), azimuths: (90,), dopplers: (90,), snrs: (90,), powerProfile: (90,)\n",
      "ranges: (96,), azimuths: (96,), dopplers: (96,), snrs: (96,), powerProfile: (96,)\n",
      "ranges: (113,), azimuths: (113,), dopplers: (113,), snrs: (113,), powerProfile: (113,)\n",
      "ranges: (90,), azimuths: (90,), dopplers: (90,), snrs: (90,), powerProfile: (90,)\n",
      "ranges: (48,), azimuths: (48,), dopplers: (48,), snrs: (48,), powerProfile: (48,)\n",
      "ranges: (79,), azimuths: (79,), dopplers: (79,), snrs: (79,), powerProfile: (79,)\n",
      "ranges: (74,), azimuths: (74,), dopplers: (74,), snrs: (74,), powerProfile: (74,)\n",
      "ranges: (92,), azimuths: (92,), dopplers: (92,), snrs: (92,), powerProfile: (92,)\n",
      "ranges: (84,), azimuths: (84,), dopplers: (84,), snrs: (84,), powerProfile: (84,)\n",
      "ranges: (71,), azimuths: (71,), dopplers: (71,), snrs: (71,), powerProfile: (71,)\n",
      "ranges: (70,), azimuths: (70,), dopplers: (70,), snrs: (70,), powerProfile: (70,)\n",
      "ranges: (105,), azimuths: (105,), dopplers: (105,), snrs: (105,), powerProfile: (105,)\n",
      "ranges: (97,), azimuths: (97,), dopplers: (97,), snrs: (97,), powerProfile: (97,)\n",
      "ranges: (95,), azimuths: (95,), dopplers: (95,), snrs: (95,), powerProfile: (95,)\n",
      "ranges: (94,), azimuths: (94,), dopplers: (94,), snrs: (94,), powerProfile: (94,)\n",
      "ranges: (95,), azimuths: (95,), dopplers: (95,), snrs: (95,), powerProfile: (95,)\n",
      "ranges: (100,), azimuths: (100,), dopplers: (100,), snrs: (100,), powerProfile: (100,)\n",
      "ranges: (78,), azimuths: (78,), dopplers: (78,), snrs: (78,), powerProfile: (78,)\n",
      "ranges: (79,), azimuths: (79,), dopplers: (79,), snrs: (79,), powerProfile: (79,)\n",
      "ranges: (114,), azimuths: (114,), dopplers: (114,), snrs: (114,), powerProfile: (114,)\n",
      "ranges: (96,), azimuths: (96,), dopplers: (96,), snrs: (96,), powerProfile: (96,)\n",
      "ranges: (82,), azimuths: (82,), dopplers: (82,), snrs: (82,), powerProfile: (82,)\n",
      "ranges: (86,), azimuths: (86,), dopplers: (86,), snrs: (86,), powerProfile: (86,)\n",
      "ranges: (87,), azimuths: (87,), dopplers: (87,), snrs: (87,), powerProfile: (87,)\n",
      "ranges: (97,), azimuths: (97,), dopplers: (97,), snrs: (97,), powerProfile: (97,)\n",
      "ranges: (74,), azimuths: (74,), dopplers: (74,), snrs: (74,), powerProfile: (74,)\n",
      "ranges: (103,), azimuths: (103,), dopplers: (103,), snrs: (103,), powerProfile: (103,)\n",
      "ranges: (93,), azimuths: (93,), dopplers: (93,), snrs: (93,), powerProfile: (93,)\n",
      "ranges: (97,), azimuths: (97,), dopplers: (97,), snrs: (97,), powerProfile: (97,)\n",
      "ranges: (111,), azimuths: (111,), dopplers: (111,), snrs: (111,), powerProfile: (111,)\n",
      "ranges: (84,), azimuths: (84,), dopplers: (84,), snrs: (84,), powerProfile: (84,)\n",
      "ranges: (90,), azimuths: (90,), dopplers: (90,), snrs: (90,), powerProfile: (90,)\n",
      "ranges: (94,), azimuths: (94,), dopplers: (94,), snrs: (94,), powerProfile: (94,)\n",
      "ranges: (45,), azimuths: (45,), dopplers: (45,), snrs: (45,), powerProfile: (45,)\n",
      "ranges: (84,), azimuths: (84,), dopplers: (84,), snrs: (84,), powerProfile: (84,)\n",
      "ranges: (84,), azimuths: (84,), dopplers: (84,), snrs: (84,), powerProfile: (84,)\n",
      "ranges: (103,), azimuths: (103,), dopplers: (103,), snrs: (103,), powerProfile: (103,)\n",
      "ranges: (118,), azimuths: (118,), dopplers: (118,), snrs: (118,), powerProfile: (118,)\n",
      "ranges: (121,), azimuths: (121,), dopplers: (121,), snrs: (121,), powerProfile: (121,)\n",
      "ranges: (100,), azimuths: (100,), dopplers: (100,), snrs: (100,), powerProfile: (100,)\n",
      "ranges: (65,), azimuths: (65,), dopplers: (65,), snrs: (65,), powerProfile: (65,)\n",
      "ranges: (80,), azimuths: (80,), dopplers: (80,), snrs: (80,), powerProfile: (80,)\n",
      "ranges: (92,), azimuths: (92,), dopplers: (92,), snrs: (92,), powerProfile: (92,)\n",
      "ranges: (76,), azimuths: (76,), dopplers: (76,), snrs: (76,), powerProfile: (76,)\n",
      "ranges: (83,), azimuths: (83,), dopplers: (83,), snrs: (83,), powerProfile: (83,)\n",
      "ranges: (96,), azimuths: (96,), dopplers: (96,), snrs: (96,), powerProfile: (96,)\n",
      "ranges: (91,), azimuths: (91,), dopplers: (91,), snrs: (91,), powerProfile: (91,)\n",
      "ranges: (98,), azimuths: (98,), dopplers: (98,), snrs: (98,), powerProfile: (98,)\n",
      "ranges: (99,), azimuths: (99,), dopplers: (99,), snrs: (99,), powerProfile: (99,)\n",
      "ranges: (88,), azimuths: (88,), dopplers: (88,), snrs: (88,), powerProfile: (88,)\n",
      "ranges: (89,), azimuths: (89,), dopplers: (89,), snrs: (89,), powerProfile: (89,)\n",
      "ranges: (95,), azimuths: (95,), dopplers: (95,), snrs: (95,), powerProfile: (95,)\n",
      "ranges: (74,), azimuths: (74,), dopplers: (74,), snrs: (74,), powerProfile: (74,)\n",
      "ranges: (81,), azimuths: (81,), dopplers: (81,), snrs: (81,), powerProfile: (81,)\n",
      "ranges: (71,), azimuths: (71,), dopplers: (71,), snrs: (71,), powerProfile: (71,)\n",
      "ranges: (69,), azimuths: (69,), dopplers: (69,), snrs: (69,), powerProfile: (69,)\n",
      "ranges: (74,), azimuths: (74,), dopplers: (74,), snrs: (74,), powerProfile: (74,)\n",
      "ranges: (78,), azimuths: (78,), dopplers: (78,), snrs: (78,), powerProfile: (78,)\n",
      "ranges: (63,), azimuths: (63,), dopplers: (63,), snrs: (63,), powerProfile: (63,)\n",
      "ranges: (63,), azimuths: (63,), dopplers: (63,), snrs: (63,), powerProfile: (63,)\n",
      "ranges: (72,), azimuths: (72,), dopplers: (72,), snrs: (72,), powerProfile: (72,)\n",
      "ranges: (74,), azimuths: (74,), dopplers: (74,), snrs: (74,), powerProfile: (74,)\n",
      "ranges: (63,), azimuths: (63,), dopplers: (63,), snrs: (63,), powerProfile: (63,)\n",
      "ranges: (77,), azimuths: (77,), dopplers: (77,), snrs: (77,), powerProfile: (77,)\n",
      "ranges: (83,), azimuths: (83,), dopplers: (83,), snrs: (83,), powerProfile: (83,)\n",
      "ranges: (47,), azimuths: (47,), dopplers: (47,), snrs: (47,), powerProfile: (47,)\n",
      "ranges: (46,), azimuths: (46,), dopplers: (46,), snrs: (46,), powerProfile: (46,)\n",
      "ranges: (71,), azimuths: (71,), dopplers: (71,), snrs: (71,), powerProfile: (71,)\n",
      "ranges: (53,), azimuths: (53,), dopplers: (53,), snrs: (53,), powerProfile: (53,)\n",
      "ranges: (49,), azimuths: (49,), dopplers: (49,), snrs: (49,), powerProfile: (49,)\n",
      "ranges: (62,), azimuths: (62,), dopplers: (62,), snrs: (62,), powerProfile: (62,)\n",
      "ranges: (48,), azimuths: (48,), dopplers: (48,), snrs: (48,), powerProfile: (48,)\n",
      "ranges: (89,), azimuths: (89,), dopplers: (89,), snrs: (89,), powerProfile: (89,)\n",
      "ranges: (69,), azimuths: (69,), dopplers: (69,), snrs: (69,), powerProfile: (69,)\n",
      "ranges: (80,), azimuths: (80,), dopplers: (80,), snrs: (80,), powerProfile: (80,)\n",
      "ranges: (66,), azimuths: (66,), dopplers: (66,), snrs: (66,), powerProfile: (66,)\n",
      "ranges: (56,), azimuths: (56,), dopplers: (56,), snrs: (56,), powerProfile: (56,)\n",
      "ranges: (66,), azimuths: (66,), dopplers: (66,), snrs: (66,), powerProfile: (66,)\n",
      "ranges: (59,), azimuths: (59,), dopplers: (59,), snrs: (59,), powerProfile: (59,)\n",
      "ranges: (56,), azimuths: (56,), dopplers: (56,), snrs: (56,), powerProfile: (56,)\n",
      "ranges: (71,), azimuths: (71,), dopplers: (71,), snrs: (71,), powerProfile: (71,)\n",
      "ranges: (69,), azimuths: (69,), dopplers: (69,), snrs: (69,), powerProfile: (69,)\n",
      "ranges: (53,), azimuths: (53,), dopplers: (53,), snrs: (53,), powerProfile: (53,)\n",
      "ranges: (79,), azimuths: (79,), dopplers: (79,), snrs: (79,), powerProfile: (79,)\n",
      "ranges: (72,), azimuths: (72,), dopplers: (72,), snrs: (72,), powerProfile: (72,)\n",
      "ranges: (109,), azimuths: (109,), dopplers: (109,), snrs: (109,), powerProfile: (109,)\n",
      "ranges: (100,), azimuths: (100,), dopplers: (100,), snrs: (100,), powerProfile: (100,)\n",
      "ranges: (110,), azimuths: (110,), dopplers: (110,), snrs: (110,), powerProfile: (110,)\n",
      "ranges: (106,), azimuths: (106,), dopplers: (106,), snrs: (106,), powerProfile: (106,)\n",
      "ranges: (103,), azimuths: (103,), dopplers: (103,), snrs: (103,), powerProfile: (103,)\n",
      "ranges: (113,), azimuths: (113,), dopplers: (113,), snrs: (113,), powerProfile: (113,)\n",
      "ranges: (113,), azimuths: (113,), dopplers: (113,), snrs: (113,), powerProfile: (113,)\n",
      "ranges: (82,), azimuths: (82,), dopplers: (82,), snrs: (82,), powerProfile: (82,)\n",
      "ranges: (86,), azimuths: (86,), dopplers: (86,), snrs: (86,), powerProfile: (86,)\n",
      "ranges: (56,), azimuths: (56,), dopplers: (56,), snrs: (56,), powerProfile: (56,)\n",
      "ranges: (63,), azimuths: (63,), dopplers: (63,), snrs: (63,), powerProfile: (63,)\n",
      "ranges: (82,), azimuths: (82,), dopplers: (82,), snrs: (82,), powerProfile: (82,)\n",
      "ranges: (95,), azimuths: (95,), dopplers: (95,), snrs: (95,), powerProfile: (95,)\n",
      "ranges: (112,), azimuths: (112,), dopplers: (112,), snrs: (112,), powerProfile: (112,)\n",
      "ranges: (40,), azimuths: (40,), dopplers: (40,), snrs: (40,), powerProfile: (40,)\n",
      "ranges: (63,), azimuths: (63,), dopplers: (63,), snrs: (63,), powerProfile: (63,)\n",
      "ranges: (51,), azimuths: (51,), dopplers: (51,), snrs: (51,), powerProfile: (51,)\n",
      "ranges: (37,), azimuths: (37,), dopplers: (37,), snrs: (37,), powerProfile: (37,)\n",
      "ranges: (95,), azimuths: (95,), dopplers: (95,), snrs: (95,), powerProfile: (95,)\n",
      "ranges: (64,), azimuths: (64,), dopplers: (64,), snrs: (64,), powerProfile: (64,)\n",
      "ranges: (63,), azimuths: (63,), dopplers: (63,), snrs: (63,), powerProfile: (63,)\n",
      "ranges: (120,), azimuths: (120,), dopplers: (120,), snrs: (120,), powerProfile: (120,)\n",
      "ranges: (91,), azimuths: (91,), dopplers: (91,), snrs: (91,), powerProfile: (91,)\n",
      "ranges: (77,), azimuths: (77,), dopplers: (77,), snrs: (77,), powerProfile: (77,)\n",
      "ranges: (76,), azimuths: (76,), dopplers: (76,), snrs: (76,), powerProfile: (76,)\n",
      "ranges: (46,), azimuths: (46,), dopplers: (46,), snrs: (46,), powerProfile: (46,)\n",
      "ranges: (74,), azimuths: (74,), dopplers: (74,), snrs: (74,), powerProfile: (74,)\n",
      "ranges: (70,), azimuths: (70,), dopplers: (70,), snrs: (70,), powerProfile: (70,)\n",
      "ranges: (60,), azimuths: (60,), dopplers: (60,), snrs: (60,), powerProfile: (60,)\n",
      "ranges: (56,), azimuths: (56,), dopplers: (56,), snrs: (56,), powerProfile: (56,)\n",
      "ranges: (70,), azimuths: (70,), dopplers: (70,), snrs: (70,), powerProfile: (70,)\n",
      "ranges: (93,), azimuths: (93,), dopplers: (93,), snrs: (93,), powerProfile: (93,)\n",
      "ranges: (101,), azimuths: (101,), dopplers: (101,), snrs: (101,), powerProfile: (101,)\n",
      "ranges: (89,), azimuths: (89,), dopplers: (89,), snrs: (89,), powerProfile: (89,)\n",
      "ranges: (112,), azimuths: (112,), dopplers: (112,), snrs: (112,), powerProfile: (112,)\n",
      "ranges: (84,), azimuths: (84,), dopplers: (84,), snrs: (84,), powerProfile: (84,)\n",
      "ranges: (86,), azimuths: (86,), dopplers: (86,), snrs: (86,), powerProfile: (86,)\n",
      "ranges: (91,), azimuths: (91,), dopplers: (91,), snrs: (91,), powerProfile: (91,)\n",
      "ranges: (104,), azimuths: (104,), dopplers: (104,), snrs: (104,), powerProfile: (104,)\n",
      "ranges: (78,), azimuths: (78,), dopplers: (78,), snrs: (78,), powerProfile: (78,)\n",
      "ranges: (73,), azimuths: (73,), dopplers: (73,), snrs: (73,), powerProfile: (73,)\n",
      "ranges: (82,), azimuths: (82,), dopplers: (82,), snrs: (82,), powerProfile: (82,)\n",
      "ranges: (109,), azimuths: (109,), dopplers: (109,), snrs: (109,), powerProfile: (109,)\n",
      "ranges: (79,), azimuths: (79,), dopplers: (79,), snrs: (79,), powerProfile: (79,)\n",
      "ranges: (48,), azimuths: (48,), dopplers: (48,), snrs: (48,), powerProfile: (48,)\n",
      "ranges: (92,), azimuths: (92,), dopplers: (92,), snrs: (92,), powerProfile: (92,)\n",
      "ranges: (89,), azimuths: (89,), dopplers: (89,), snrs: (89,), powerProfile: (89,)\n",
      "ranges: (79,), azimuths: (79,), dopplers: (79,), snrs: (79,), powerProfile: (79,)\n",
      "ranges: (109,), azimuths: (109,), dopplers: (109,), snrs: (109,), powerProfile: (109,)\n",
      "ranges: (79,), azimuths: (79,), dopplers: (79,), snrs: (79,), powerProfile: (79,)\n",
      "ranges: (64,), azimuths: (64,), dopplers: (64,), snrs: (64,), powerProfile: (64,)\n",
      "ranges: (70,), azimuths: (70,), dopplers: (70,), snrs: (70,), powerProfile: (70,)\n",
      "ranges: (84,), azimuths: (84,), dopplers: (84,), snrs: (84,), powerProfile: (84,)\n",
      "ranges: (79,), azimuths: (79,), dopplers: (79,), snrs: (79,), powerProfile: (79,)\n",
      "ranges: (41,), azimuths: (41,), dopplers: (41,), snrs: (41,), powerProfile: (41,)\n",
      "ranges: (44,), azimuths: (44,), dopplers: (44,), snrs: (44,), powerProfile: (44,)\n",
      "ranges: (59,), azimuths: (59,), dopplers: (59,), snrs: (59,), powerProfile: (59,)\n",
      "ranges: (35,), azimuths: (35,), dopplers: (35,), snrs: (35,), powerProfile: (35,)\n",
      "ranges: (89,), azimuths: (89,), dopplers: (89,), snrs: (89,), powerProfile: (89,)\n",
      "ranges: (69,), azimuths: (69,), dopplers: (69,), snrs: (69,), powerProfile: (69,)\n",
      "ranges: (47,), azimuths: (47,), dopplers: (47,), snrs: (47,), powerProfile: (47,)\n",
      "ranges: (58,), azimuths: (58,), dopplers: (58,), snrs: (58,), powerProfile: (58,)\n",
      "(500, 800, 3)\n"
     ]
    }
   ],
   "source": [
    "gen, timestamps = pointcloud_openradar(file_name =\"./datasets/radar_data/drone_2025-01-29_12_41_45_test.bin\")\n",
    "\n",
    "total_data = []\n",
    "total_ids = []\n",
    "total_frames=0\n",
    "first_frame = True\n",
    "initial_coordinates = {}\n",
    "current_cluster = {}\n",
    "points = []\n",
    "total_frameStacked = []\n",
    "totalsnr = []\n",
    "totalrange = []\n",
    "totalangle = []\n",
    "totalpower = []\n",
    "totaldoppler = []\n",
    "prev_point = np.array([0,0])\n",
    "timestamps\n",
    "for pointcloud in gen:\n",
    "    total_frameStacked.append(pointcloud[:,:3])#sliced 1st 3 as x y z\n",
    "    totaldoppler.append(pointcloud[:,2])\n",
    "    totalsnr.append(pointcloud[:,3])\n",
    "    totalrange.append(pointcloud[:,4])\n",
    "    totalangle.append(pointcloud[:,5])\n",
    "    totalpower.append(pointcloud[:,6])\n",
    "    # print(pointcloud.shape)\n",
    "    # print(type(pointcloud))\n",
    "    # break\n",
    "    \n",
    "stacked = np.stack(total_frameStacked)\n",
    "\n",
    "print(stacked.shape) \n"
   ]
  },
  {
   "cell_type": "code",
   "execution_count": 12,
   "metadata": {},
   "outputs": [
    {
     "data": {
      "text/plain": [
       "800"
      ]
     },
     "execution_count": 12,
     "metadata": {},
     "output_type": "execute_result"
    }
   ],
   "source": [
    "len(gen[0][:,3])"
   ]
  },
  {
   "cell_type": "code",
   "execution_count": 13,
   "metadata": {},
   "outputs": [
    {
     "data": {
      "text/plain": [
       "500"
      ]
     },
     "execution_count": 13,
     "metadata": {},
     "output_type": "execute_result"
    }
   ],
   "source": [
    "len(totalpower)"
   ]
  },
  {
   "cell_type": "code",
   "execution_count": 14,
   "metadata": {},
   "outputs": [
    {
     "data": {
      "text/plain": [
       "800"
      ]
     },
     "execution_count": 14,
     "metadata": {},
     "output_type": "execute_result"
    }
   ],
   "source": [
    "len(totalpower[0])"
   ]
  },
  {
   "cell_type": "code",
   "execution_count": 16,
   "metadata": {},
   "outputs": [
    {
     "data": {
      "text/plain": [
       "array([0.2268928 , 0.2443461 , 0.2443461 , 0.26179939, 0.26179939,\n",
       "       0.27925268, 0.27925268, 0.27925268, 0.27925268, 0.29670597,\n",
       "       0.29670597, 0.29670597, 0.29670597, 0.31415927, 0.31415927,\n",
       "       0.31415927, 0.31415927, 0.33161256, 0.33161256, 0.33161256,\n",
       "       0.34906585, 0.4712389 , 0.48869219, 0.50614548, 0.62831853,\n",
       "       0.64577182, 0.66322512, 0.66322512, 0.6981317 , 0.6981317 ,\n",
       "       0.71558499, 0.71558499, 0.73303829, 0.73303829, 0.73303829,\n",
       "       0.75049158, 0.75049158, 0.75049158, 0.76794487, 0.76794487,\n",
       "       0.78539816, 0.78539816, 0.80285146, 0.80285146, 0.82030475,\n",
       "       0.82030475, 0.83775804, 0.83775804, 0.83775804, 0.83775804,\n",
       "       0.85521133, 0.85521133, 0.85521133, 0.87266463, 0.87266463,\n",
       "       0.87266463, 0.89011792, 0.89011792, 0.89011792, 0.89011792,\n",
       "       0.90757121, 0.90757121, 0.90757121, 0.90757121, 0.9250245 ,\n",
       "       0.9250245 , 0.9250245 , 0.9250245 , 0.9250245 , 0.9424778 ,\n",
       "       0.9424778 , 0.9424778 , 0.95993109, 0.95993109, 0.95993109,\n",
       "       0.95993109, 0.97738438, 0.97738438, 0.97738438, 0.97738438,\n",
       "       0.99483767, 0.99483767, 0.99483767, 1.01229097, 1.02974426,\n",
       "       1.04719755, 1.06465084, 1.18682389, 1.20427718, 1.22173048,\n",
       "       1.23918377, 1.25663706, 1.27409035, 1.27409035, 1.29154365,\n",
       "       1.29154365, 1.30899694, 1.30899694, 1.32645023, 1.32645023,\n",
       "       1.32645023, 1.32645023, 1.34390352, 1.34390352, 1.34390352,\n",
       "       1.34390352, 1.36135682, 1.36135682, 1.36135682, 1.36135682,\n",
       "       1.37881011, 1.37881011, 1.37881011, 1.37881011, 1.3962634 ,\n",
       "       1.3962634 , 1.3962634 , 1.41371669, 1.41371669, 1.41371669,\n",
       "       1.43116999, 1.44862328, 1.53588974, 1.55334303, 1.57079633,\n",
       "       1.58824962, 1.60570291, 1.6231562 , 1.71042267, 1.72787596,\n",
       "       1.72787596, 1.74532925, 1.74532925, 1.76278254, 1.76278254,\n",
       "       1.78023584, 1.79768913, 1.93731547, 1.95476876, 1.97222205,\n",
       "       1.98967535, 2.00712864, 2.02458193, 2.04203522, 0.        ,\n",
       "       0.        , 0.        , 0.        , 0.        , 0.        ,\n",
       "       0.        , 0.        , 0.        , 0.        , 0.        ,\n",
       "       0.        , 0.        , 0.        , 0.        , 0.        ,\n",
       "       0.        , 0.        , 0.        , 0.        , 0.        ,\n",
       "       0.        , 0.        , 0.        , 0.        , 0.        ,\n",
       "       0.        , 0.        , 0.        , 0.        , 0.        ,\n",
       "       0.        , 0.        , 0.        , 0.        , 0.        ,\n",
       "       0.        , 0.        , 0.        , 0.        , 0.        ,\n",
       "       0.        , 0.        , 0.        , 0.        , 0.        ,\n",
       "       0.        , 0.        , 0.        , 0.        , 0.        ,\n",
       "       0.        , 0.        , 0.        , 0.        , 0.        ,\n",
       "       0.        , 0.        , 0.        , 0.        , 0.        ,\n",
       "       0.        , 0.        , 0.        , 0.        , 0.        ,\n",
       "       0.        , 0.        , 0.        , 0.        , 0.        ,\n",
       "       0.        , 0.        , 0.        , 0.        , 0.        ,\n",
       "       0.        , 0.        , 0.        , 0.        , 0.        ,\n",
       "       0.        , 0.        , 0.        , 0.        , 0.        ,\n",
       "       0.        , 0.        , 0.        , 0.        , 0.        ,\n",
       "       0.        , 0.        , 0.        , 0.        , 0.        ,\n",
       "       0.        , 0.        , 0.        , 0.        , 0.        ,\n",
       "       0.        , 0.        , 0.        , 0.        , 0.        ,\n",
       "       0.        , 0.        , 0.        , 0.        , 0.        ,\n",
       "       0.        , 0.        , 0.        , 0.        , 0.        ,\n",
       "       0.        , 0.        , 0.        , 0.        , 0.        ,\n",
       "       0.        , 0.        , 0.        , 0.        , 0.        ,\n",
       "       0.        , 0.        , 0.        , 0.        , 0.        ,\n",
       "       0.        , 0.        , 0.        , 0.        , 0.        ,\n",
       "       0.        , 0.        , 0.        , 0.        , 0.        ,\n",
       "       0.        , 0.        , 0.        , 0.        , 0.        ,\n",
       "       0.        , 0.        , 0.        , 0.        , 0.        ,\n",
       "       0.        , 0.        , 0.        , 0.        , 0.        ,\n",
       "       0.        , 0.        , 0.        , 0.        , 0.        ,\n",
       "       0.        , 0.        , 0.        , 0.        , 0.        ,\n",
       "       0.        , 0.        , 0.        , 0.        , 0.        ,\n",
       "       0.        , 0.        , 0.        , 0.        , 0.        ,\n",
       "       0.        , 0.        , 0.        , 0.        , 0.        ,\n",
       "       0.        , 0.        , 0.        , 0.        , 0.        ,\n",
       "       0.        , 0.        , 0.        , 0.        , 0.        ,\n",
       "       0.        , 0.        , 0.        , 0.        , 0.        ,\n",
       "       0.        , 0.        , 0.        , 0.        , 0.        ,\n",
       "       0.        , 0.        , 0.        , 0.        , 0.        ,\n",
       "       0.        , 0.        , 0.        , 0.        , 0.        ,\n",
       "       0.        , 0.        , 0.        , 0.        , 0.        ,\n",
       "       0.        , 0.        , 0.        , 0.        , 0.        ,\n",
       "       0.        , 0.        , 0.        , 0.        , 0.        ,\n",
       "       0.        , 0.        , 0.        , 0.        , 0.        ,\n",
       "       0.        , 0.        , 0.        , 0.        , 0.        ,\n",
       "       0.        , 0.        , 0.        , 0.        , 0.        ,\n",
       "       0.        , 0.        , 0.        , 0.        , 0.        ,\n",
       "       0.        , 0.        , 0.        , 0.        , 0.        ,\n",
       "       0.        , 0.        , 0.        , 0.        , 0.        ,\n",
       "       0.        , 0.        , 0.        , 0.        , 0.        ,\n",
       "       0.        , 0.        , 0.        , 0.        , 0.        ,\n",
       "       0.        , 0.        , 0.        , 0.        , 0.        ,\n",
       "       0.        , 0.        , 0.        , 0.        , 0.        ,\n",
       "       0.        , 0.        , 0.        , 0.        , 0.        ,\n",
       "       0.        , 0.        , 0.        , 0.        , 0.        ,\n",
       "       0.        , 0.        , 0.        , 0.        , 0.        ,\n",
       "       0.        , 0.        , 0.        , 0.        , 0.        ,\n",
       "       0.        , 0.        , 0.        , 0.        , 0.        ,\n",
       "       0.        , 0.        , 0.        , 0.        , 0.        ,\n",
       "       0.        , 0.        , 0.        , 0.        , 0.        ,\n",
       "       0.        , 0.        , 0.        , 0.        , 0.        ,\n",
       "       0.        , 0.        , 0.        , 0.        , 0.        ,\n",
       "       0.        , 0.        , 0.        , 0.        , 0.        ,\n",
       "       0.        , 0.        , 0.        , 0.        , 0.        ,\n",
       "       0.        , 0.        , 0.        , 0.        , 0.        ,\n",
       "       0.        , 0.        , 0.        , 0.        , 0.        ,\n",
       "       0.        , 0.        , 0.        , 0.        , 0.        ,\n",
       "       0.        , 0.        , 0.        , 0.        , 0.        ,\n",
       "       0.        , 0.        , 0.        , 0.        , 0.        ,\n",
       "       0.        , 0.        , 0.        , 0.        , 0.        ,\n",
       "       0.        , 0.        , 0.        , 0.        , 0.        ,\n",
       "       0.        , 0.        , 0.        , 0.        , 0.        ,\n",
       "       0.        , 0.        , 0.        , 0.        , 0.        ,\n",
       "       0.        , 0.        , 0.        , 0.        , 0.        ,\n",
       "       0.        , 0.        , 0.        , 0.        , 0.        ,\n",
       "       0.        , 0.        , 0.        , 0.        , 0.        ,\n",
       "       0.        , 0.        , 0.        , 0.        , 0.        ,\n",
       "       0.        , 0.        , 0.        , 0.        , 0.        ,\n",
       "       0.        , 0.        , 0.        , 0.        , 0.        ,\n",
       "       0.        , 0.        , 0.        , 0.        , 0.        ,\n",
       "       0.        , 0.        , 0.        , 0.        , 0.        ,\n",
       "       0.        , 0.        , 0.        , 0.        , 0.        ,\n",
       "       0.        , 0.        , 0.        , 0.        , 0.        ,\n",
       "       0.        , 0.        , 0.        , 0.        , 0.        ,\n",
       "       0.        , 0.        , 0.        , 0.        , 0.        ,\n",
       "       0.        , 0.        , 0.        , 0.        , 0.        ,\n",
       "       0.        , 0.        , 0.        , 0.        , 0.        ,\n",
       "       0.        , 0.        , 0.        , 0.        , 0.        ,\n",
       "       0.        , 0.        , 0.        , 0.        , 0.        ,\n",
       "       0.        , 0.        , 0.        , 0.        , 0.        ,\n",
       "       0.        , 0.        , 0.        , 0.        , 0.        ,\n",
       "       0.        , 0.        , 0.        , 0.        , 0.        ,\n",
       "       0.        , 0.        , 0.        , 0.        , 0.        ,\n",
       "       0.        , 0.        , 0.        , 0.        , 0.        ,\n",
       "       0.        , 0.        , 0.        , 0.        , 0.        ,\n",
       "       0.        , 0.        , 0.        , 0.        , 0.        ,\n",
       "       0.        , 0.        , 0.        , 0.        , 0.        ,\n",
       "       0.        , 0.        , 0.        , 0.        , 0.        ,\n",
       "       0.        , 0.        , 0.        , 0.        , 0.        ,\n",
       "       0.        , 0.        , 0.        , 0.        , 0.        ,\n",
       "       0.        , 0.        , 0.        , 0.        , 0.        ,\n",
       "       0.        , 0.        , 0.        , 0.        , 0.        ,\n",
       "       0.        , 0.        , 0.        , 0.        , 0.        ,\n",
       "       0.        , 0.        , 0.        , 0.        , 0.        ,\n",
       "       0.        , 0.        , 0.        , 0.        , 0.        ,\n",
       "       0.        , 0.        , 0.        , 0.        , 0.        ,\n",
       "       0.        , 0.        , 0.        , 0.        , 0.        ,\n",
       "       0.        , 0.        , 0.        , 0.        , 0.        ,\n",
       "       0.        , 0.        , 0.        , 0.        , 0.        ,\n",
       "       0.        , 0.        , 0.        , 0.        , 0.        ,\n",
       "       0.        , 0.        , 0.        , 0.        , 0.        ,\n",
       "       0.        , 0.        , 0.        , 0.        , 0.        ,\n",
       "       0.        , 0.        , 0.        , 0.        , 0.        ,\n",
       "       0.        , 0.        , 0.        , 0.        , 0.        ,\n",
       "       0.        , 0.        , 0.        , 0.        , 0.        ,\n",
       "       0.        , 0.        , 0.        , 0.        , 0.        ,\n",
       "       0.        , 0.        , 0.        , 0.        , 0.        ,\n",
       "       0.        , 0.        , 0.        , 0.        , 0.        ,\n",
       "       0.        , 0.        , 0.        , 0.        , 0.        ,\n",
       "       0.        , 0.        , 0.        , 0.        , 0.        ,\n",
       "       0.        , 0.        , 0.        , 0.        , 0.        ,\n",
       "       0.        , 0.        , 0.        , 0.        , 0.        ,\n",
       "       0.        , 0.        , 0.        , 0.        , 0.        ,\n",
       "       0.        , 0.        , 0.        , 0.        , 0.        ,\n",
       "       0.        , 0.        , 0.        , 0.        , 0.        ,\n",
       "       0.        , 0.        , 0.        , 0.        , 0.        ,\n",
       "       0.        , 0.        , 0.        , 0.        , 0.        ,\n",
       "       0.        , 0.        , 0.        , 0.        , 0.        ,\n",
       "       0.        , 0.        , 0.        , 0.        , 0.        ])"
      ]
     },
     "execution_count": 16,
     "metadata": {},
     "output_type": "execute_result"
    }
   ],
   "source": [
    "totalangle[0]"
   ]
  },
  {
   "cell_type": "code",
   "execution_count": 12,
   "metadata": {},
   "outputs": [
    {
     "data": {
      "text/plain": [
       "800"
      ]
     },
     "execution_count": 12,
     "metadata": {},
     "output_type": "execute_result"
    }
   ],
   "source": [
    "len(totalrange[0])"
   ]
  },
  {
   "cell_type": "markdown",
   "metadata": {},
   "source": [
    "DATAFRAME AND PCS MERGE\n"
   ]
  },
  {
   "cell_type": "code",
   "execution_count": null,
   "metadata": {},
   "outputs": [],
   "source": []
  },
  {
   "cell_type": "code",
   "execution_count": null,
   "metadata": {},
   "outputs": [],
   "source": [
    "df = pd.DataFrame()\n",
    "df[\"datetime\"] = timestamps\n",
    "df[\"pcd\"] = total_frameStacked\n",
    "df['datetime'] = pd.to_datetime(df['datetime'], format='%Y-%m-%d %H_%M_%S.%f')\n",
    "df.tail(5)"
   ]
  },
  {
   "cell_type": "code",
   "execution_count": null,
   "metadata": {},
   "outputs": [],
   "source": [
    "df[\"pcd\"][0][:,2]"
   ]
  },
  {
   "cell_type": "code",
   "execution_count": null,
   "metadata": {},
   "outputs": [],
   "source": [
    "sns.set(style=\"whitegrid\")\n",
    "fig = plt.figure(figsize=(12,7))\n",
    "ax = fig.add_subplot(111,projection='3d')\n",
    "# lisx = ast.literal_eval(pcd[\"x\"])\n",
    "# lisy = ast.literal_eval(row[\"y\"])\n",
    "# lisz = ast.literal_eval(row[\"z\"])\n",
    "# print(li[0])\n",
    "img = ax.scatter(df[\"pcd\"][0][:,0], df[\"pcd\"][0][:,1],df[\"pcd\"][0][:,2], cmap=\"viridis\",marker='o')\n",
    "fig.colorbar(img)\n",
    "ax.set_xlabel('X')\n",
    "ax.set_ylabel('Y')\n",
    "ax.set_zlabel('Z')\n",
    "\n",
    "plt.savefig(\"radar.png\")\n",
    "# plt.show()\n",
    "plt.close()"
   ]
  },
  {
   "cell_type": "code",
   "execution_count": null,
   "metadata": {},
   "outputs": [],
   "source": [
    "depthDf = depthDf.iloc[:20]#after 20 frames NaT was coming\n",
    "depthDf.head(5)"
   ]
  },
  {
   "cell_type": "code",
   "execution_count": null,
   "metadata": {},
   "outputs": [],
   "source": [
    "depthDf = pd.read_csv(\"./utils/datasets/depth_data/drone_2024-09-10_16_12_18_test_depth.csv\")"
   ]
  },
  {
   "cell_type": "code",
   "execution_count": null,
   "metadata": {},
   "outputs": [],
   "source": [
    "depthDfnm=depthDf.to_numpy()"
   ]
  },
  {
   "cell_type": "code",
   "execution_count": null,
   "metadata": {},
   "outputs": [],
   "source": [
    "depthDf.head(5)"
   ]
  },
  {
   "cell_type": "code",
   "execution_count": null,
   "metadata": {},
   "outputs": [],
   "source": [
    "s = depthDfnm[\"x\"][0]\n",
    "s"
   ]
  },
  {
   "cell_type": "code",
   "execution_count": null,
   "metadata": {},
   "outputs": [],
   "source": [
    "lst = s.strip('[]').split()\n",
    "lst = [float(x) for x in lst]\n"
   ]
  },
  {
   "cell_type": "code",
   "execution_count": null,
   "metadata": {},
   "outputs": [],
   "source": [
    "depthDf[\"x\"][0]\n",
    "lisx = ast.literal_eval(depthDf[\"x\"][0])\n"
   ]
  },
  {
   "cell_type": "code",
   "execution_count": null,
   "metadata": {},
   "outputs": [],
   "source": [
    "pcda = np.array(lisx)"
   ]
  },
  {
   "cell_type": "code",
   "execution_count": null,
   "metadata": {},
   "outputs": [],
   "source": [
    "pcda[:,0]\n",
    "sns.set(style=\"whitegrid\")\n",
    "fig = plt.figure(figsize=(12,7))\n",
    "ax = fig.add_subplot(111,projection='3d')\n",
    "# lisx = ast.literal_eval(pcd[\"x\"])\n",
    "# lisy = ast.literal_eval(row[\"y\"])\n",
    "# lisz = ast.literal_eval(row[\"z\"])\n",
    "# print(li[0])\n",
    "img = ax.scatter(pcda[:,0], pcda[:,1],pcda[:,2], cmap=\"viridis\",marker='o')\n",
    "fig.colorbar(img)\n",
    "ax.set_xlabel('X')\n",
    "ax.set_ylabel('Y')\n",
    "ax.set_zlabel('Z')\n",
    "\n",
    "plt.savefig(\"depth.png\")\n",
    "# plt.show()\n",
    "plt.close()"
   ]
  },
  {
   "cell_type": "code",
   "execution_count": null,
   "metadata": {},
   "outputs": [],
   "source": [
    "print(df.shape)\n",
    "print(depthDf.shape)"
   ]
  },
  {
   "cell_type": "code",
   "execution_count": null,
   "metadata": {},
   "outputs": [],
   "source": [
    "# df.merge(lidarDf,on='datetime',)\n",
    "mergerdPcdDepth = pd.merge_asof(df, depthDf, on='datetime',tolerance=pd.Timedelta('2us'), direction='nearest')\n",
    "print(mergerdPcdDepth.shape)\n",
    "mergerdPcdDepth.head(5)"
   ]
  },
  {
   "cell_type": "code",
   "execution_count": null,
   "metadata": {},
   "outputs": [],
   "source": [
    "print(type(df['datetime']))\n",
    "print(type(depthDf['datetime']))"
   ]
  },
  {
   "cell_type": "code",
   "execution_count": null,
   "metadata": {},
   "outputs": [],
   "source": [
    "# print(lidarDf.columnes)\n",
    "print(depthDf.columns)\n",
    "print(df.columns)"
   ]
  },
  {
   "cell_type": "code",
   "execution_count": null,
   "metadata": {},
   "outputs": [],
   "source": [
    "depthDf.head(30)"
   ]
  },
  {
   "cell_type": "code",
   "execution_count": null,
   "metadata": {},
   "outputs": [],
   "source": [
    "sns.set(style=\"whitegrid\")\n",
    "fig = plt.figure(figsize=(12,7))\n",
    "ax = fig.add_subplot(111,projection='3d')\n",
    "for index,row in depthDf.iterrows():\n",
    "    i=0\n",
    "    lisx = ast.literal_eval(row[\"x\"])\n",
    "    lisy = ast.literal_eval(row[\"y\"])\n",
    "    lisz = ast.literal_eval(row[\"z\"])\n",
    "    # print(li[0])\n",
    "    img = ax.scatter(lisx, lisy,lisz, cmap=\"viridis\",marker='o')\n",
    "    fig.colorbar(img)\n",
    "    ax.set_xlabel('X')\n",
    "    ax.set_ylabel('Y')\n",
    "    ax.set_zlabel('Z')\n",
    "\n",
    "    plt.savefig(\"depth.png\")\n",
    "    # plt.show()\n",
    "    plt.close()\n",
    "    break\n",
    "    # break\n",
    "\n",
    "\n"
   ]
  },
  {
   "cell_type": "code",
   "execution_count": null,
   "metadata": {},
   "outputs": [],
   "source": [
    "dt_obj = datetime.strptime(depthDf['datetime'][0], '%Y-%m-%d %H:%M:%S.%f')\n",
    "dt_obj.strftime('%Y-%m-%d %H_%M_%S.%f')"
   ]
  },
  {
   "cell_type": "code",
   "execution_count": null,
   "metadata": {},
   "outputs": [],
   "source": [
    "depthDf['datetime'][0] = str(dt_obj.date()) + \" \" + str(dt_obj.strftime('%H:%M:%S'))"
   ]
  },
  {
   "cell_type": "code",
   "execution_count": null,
   "metadata": {},
   "outputs": [],
   "source": [
    "date_only = dt_obj.date()\n",
    "\n",
    "# Extract only the time up to seconds\n",
    "time_only = dt_obj.strftime('%H:%M:%S')\n",
    "\n",
    "print(f\"Date: {date_only}\")\n",
    "print(f\"Time: {time_only}\")"
   ]
  },
  {
   "cell_type": "code",
   "execution_count": null,
   "metadata": {},
   "outputs": [],
   "source": [
    "len(depthDf[\"x\"][0])"
   ]
  },
  {
   "cell_type": "code",
   "execution_count": null,
   "metadata": {},
   "outputs": [],
   "source": [
    "\n",
    "totalDepthFrame = []\n",
    "for index,row in depthDf.iterrows():\n",
    "    iPointer=0\n",
    "    frame = []\n",
    "    lisx = ast.literal_eval(row[\"x\"])\n",
    "    lisy = ast.literal_eval(row[\"y\"])\n",
    "    lisz = ast.literal_eval(row[\"z\"])\n",
    "    for i in range(len(lisx)):\n",
    "        frame.append(list([lisx[i],lisy[i],lisz[i]]))\n",
    "        # print(list([lisx[i],lisy[i],lisz[i]]))\n",
    "        # break \n",
    "\n",
    "    # print(type(row[\"x\"]))\n",
    "    # break\n",
    "    totalDepthFrame.append(frame)\n",
    "\n",
    "\n",
    "# fig = plt.figure(figsize=(12,7))\n",
    "# ax = fig.add_subplot(projection='3d')\n",
    "# img = ax.scatter(lidarDf[\"x\"], lidarDf[\"y\"], lidarDf[\"z\"], cmap=plt.hot())\n",
    "# fig.colorbar(img)\n",
    "# ax.set_xlabel('X')\n",
    "# ax.set_ylabel('Y')\n",
    "# ax.set_zlabel('Z')"
   ]
  },
  {
   "cell_type": "code",
   "execution_count": null,
   "metadata": {},
   "outputs": [],
   "source": [
    "totalDepthFrame[0][0]"
   ]
  },
  {
   "cell_type": "code",
   "execution_count": null,
   "metadata": {},
   "outputs": [],
   "source": [
    "depthDf[\"depthPCD\"] = totalDepthFrame\n"
   ]
  },
  {
   "cell_type": "code",
   "execution_count": null,
   "metadata": {},
   "outputs": [],
   "source": [
    "depthDf.head(5)"
   ]
  },
  {
   "cell_type": "markdown",
   "metadata": {},
   "source": []
  },
  {
   "cell_type": "code",
   "execution_count": null,
   "metadata": {},
   "outputs": [],
   "source": []
  },
  {
   "cell_type": "markdown",
   "metadata": {},
   "source": [
    "IMU Process\n"
   ]
  },
  {
   "cell_type": "code",
   "execution_count": null,
   "metadata": {},
   "outputs": [],
   "source": [
    "imu_data = \"./datasets/imu_data/drone_2024-09-10_16_12_18_test_imu.bin\"\n",
    "with open(imu_data, 'rb') as file:\n",
    "    while True:\n",
    "        binary_data = file.read(56)\n",
    "        if len(binary_data) < 56:\n",
    "            break\n",
    "        unpacked_data = struct.unpack('d' * 7, binary_data)\n",
    "\n",
    "        timestamp = unpacked_data[0]\n",
    "        imu_data = unpacked_data[1:]\n",
    "\n",
    "        print(\"Timestamp:\", timestamp)\n",
    "        print(\"IMU Data:\", imu_data)\n"
   ]
  },
  {
   "cell_type": "code",
   "execution_count": null,
   "metadata": {},
   "outputs": [],
   "source": [
    "\n",
    "\n",
    "\n"
   ]
  },
  {
   "cell_type": "code",
   "execution_count": null,
   "metadata": {},
   "outputs": [],
   "source": [
    "\n",
    "timestamp = unpacked_data[0]\n",
    "imu_data = unpacked_data[1:]\n",
    "\n",
    "print(\"Timestamp:\", timestamp)\n",
    "print(\"IMU Data:\", imu_data)\n"
   ]
  },
  {
   "cell_type": "markdown",
   "metadata": {},
   "source": []
  },
  {
   "cell_type": "code",
   "execution_count": null,
   "metadata": {},
   "outputs": [],
   "source": [
    "imu_dataTime = \"./datasets/time_stamps/time_drone_2024-09-10_16_12_18_test.bin\"\n",
    "with open(imu_dataTime, 'rb') as file:\n",
    "    while True:\n",
    "        binary_data = file.read(56)\n",
    "        if len(binary_data) < 56:\n",
    "            break\n",
    "        unpacked_data = struct.unpack('d' * 7, binary_data)\n",
    "\n",
    "        timestamp = unpacked_data[0]\n",
    "\n",
    "        print(\"Timestamp:\", timestamp)\n"
   ]
  },
  {
   "cell_type": "code",
   "execution_count": null,
   "metadata": {},
   "outputs": [],
   "source": [
    "import pandas as pd\n",
    "unpickled_df = pd.read_pickle(\"./total_frameRadarDF.pkl\")  \n"
   ]
  },
  {
   "cell_type": "code",
   "execution_count": null,
   "metadata": {},
   "outputs": [],
   "source": [
    "unpickled_df[\"radarPCD\"][0]\n"
   ]
  },
  {
   "cell_type": "code",
   "execution_count": null,
   "metadata": {},
   "outputs": [],
   "source": [
    "import numpy as np\n",
    "import os\n",
    "import pickle\n",
    "# loaded_arrays = pickle.load('./utils/data.pkl')\n",
    "depthPCDObjects = []\n",
    "frameFile = []\n",
    "with open('./datasets/depth_data/drone_2024-10-02_16_34_59_test_depth.pkl', 'rb') as f:\n",
    "    \n",
    "    while True:\n",
    "        try:\n",
    "            depthObj = pickle.load(f)\n",
    "            # frameFile.append(depthObj)\n",
    "            print(type(depthObj))\n",
    "            frameFile+=depthObj\n",
    "            depthPCDObjects.append(depthObj)\n",
    "        except EOFError:  # End of file reached\n",
    "            break\n",
    "            # breakpointcloud = pickle.load(f)\n",
    "        except Exception as e:\n",
    "            print(f\"Error reading file: {e}\")"
   ]
  },
  {
   "cell_type": "code",
   "execution_count": null,
   "metadata": {},
   "outputs": [],
   "source": [
    "print(len(frameFile))\n",
    "frameFile[0]"
   ]
  },
  {
   "cell_type": "code",
   "execution_count": null,
   "metadata": {},
   "outputs": [],
   "source": [
    "x = frameFile[0][0]['f0']\n",
    "y = frameFile[0][0]['f1']\n",
    "z = frameFile[0][0]['f2']"
   ]
  },
  {
   "cell_type": "code",
   "execution_count": null,
   "metadata": {},
   "outputs": [],
   "source": [
    "for pointIndex in range(len(x)):\n",
    "    print(np.array([x[pointIndex],y[pointIndex],z[pointIndex]]))"
   ]
  },
  {
   "cell_type": "code",
   "execution_count": null,
   "metadata": {},
   "outputs": [],
   "source": [
    "objects[10]"
   ]
  },
  {
   "cell_type": "code",
   "execution_count": null,
   "metadata": {},
   "outputs": [],
   "source": [
    "loaded_arrays['times']"
   ]
  },
  {
   "cell_type": "code",
   "execution_count": null,
   "metadata": {},
   "outputs": [],
   "source": [
    "depthFilePath = \"./datasets/depth_data/\"\n",
    "filteredCsvFile = [f for f in os.listdir(depthFilePath) if os.path.isfile(os.path.join(depthFilePath, f)) and f.endswith('.pkl') and not f.startswith('time')]\n",
    "filteredCsvFile"
   ]
  },
  {
   "cell_type": "code",
   "execution_count": null,
   "metadata": {},
   "outputs": [],
   "source": [
    "depthFilePath = \"./utils/\"\n",
    "filteredCsvFiletime = [f for f in os.listdir(depthFilePath) if os.path.isfile(os.path.join(depthFilePath, f)) and f.endswith('.npz') and not f.startswith('array')]\n",
    "filteredCsvFiletime"
   ]
  },
  {
   "cell_type": "code",
   "execution_count": null,
   "metadata": {},
   "outputs": [],
   "source": [
    "totalFrame = []\n",
    "totalFrameTimestamps = []\n",
    "for file in filteredCsvFile:\n",
    "    # npPointcloud = np.load(depthFilePath +file,allow_pickle=True)\n",
    "    with open(depthFilePath+file, 'rb') as f:\n",
    "        pointcloud, timestamp = pickle.load(f)\n",
    "    for i in range(len(pointcloud)):\n",
    "        frame = []\n",
    "        x = pointcloud[str(i)]['f0']\n",
    "        y = pointcloud[str(i)]['f1']\n",
    "        z = pointcloud[str(i)]['f2']\n",
    "        time = timestamp[str(i)]\n",
    "        for j in range(len(x)):\n",
    "            frame.append(np.array([x[i],y[i],z[i]]))\n",
    "        totalFrame.append(frame)\n",
    "        totalFrameTimestamps.append(time)\n",
    "        # break\n"
   ]
  },
  {
   "cell_type": "code",
   "execution_count": null,
   "metadata": {},
   "outputs": [],
   "source": [
    "totalFrame[0][0]"
   ]
  },
  {
   "cell_type": "code",
   "execution_count": null,
   "metadata": {},
   "outputs": [],
   "source": [
    "len(totalFrameTimestamps)"
   ]
  },
  {
   "cell_type": "code",
   "execution_count": null,
   "metadata": {},
   "outputs": [],
   "source": [
    "import pickle\n",
    "import pandas as pd\n",
    "import seaborn as sns\n",
    "import matplotlib.pyplot as plt\n",
    "pcd = pd.read_pickle(\"./mergedRadarDepth.pkl\")"
   ]
  },
  {
   "cell_type": "code",
   "execution_count": null,
   "metadata": {},
   "outputs": [],
   "source": [
    "pcd.shape"
   ]
  },
  {
   "cell_type": "code",
   "execution_count": null,
   "metadata": {},
   "outputs": [],
   "source": [
    "pcd.head()\n",
    "pcd.info()"
   ]
  },
  {
   "cell_type": "code",
   "execution_count": null,
   "metadata": {},
   "outputs": [],
   "source": [
    "pcd[\"depthPCD\"][38]"
   ]
  },
  {
   "cell_type": "code",
   "execution_count": null,
   "metadata": {},
   "outputs": [],
   "source": [
    "import numpy as np\n",
    "index =5\n",
    "distancesRadar = np.linalg.norm(pcd[\"radarPCD\"][index], axis=1)\n",
    "normalized_distances = (distancesRadar - distancesRadar.min()) / (distancesRadar.max() - distancesRadar.min())\n",
    "sns.set(style=\"whitegrid\")\n",
    "fig = plt.figure(figsize=(12,6))\n",
    "ax1 = fig.add_subplot(121,projection='3d')\n",
    "distancesRadar = np.linalg.norm(pcd[\"radarPCD\"][index], axis=1)\n",
    "normalized_distancesRadar = (distancesRadar - distancesRadar.min()) / (distancesRadar.max() - distancesRadar.min())\n",
    "img1 = ax1.scatter(pcd[\"radarPCD\"][index][:, 0], pcd[\"radarPCD\"][index][:, 1], pcd[\"radarPCD\"][index][:, 2], c=normalized_distancesRadar,cmap = 'viridis', marker='o')\n",
    "fig.colorbar(img1)\n",
    "ax1.set_title('Point Cloud 1')\n",
    "ax1.set_xlabel('X')\n",
    "ax1.set_ylabel('Y')\n",
    "ax1.set_zlabel('Z')\n",
    "\n",
    "ax2 = fig.add_subplot(122,projection='3d')\n",
    "distancesDepth = np.linalg.norm(pcd[\"depthPCD\"][index], axis=1)\n",
    "normalized_distancesDepth = (distancesDepth - distancesDepth.min()) / (distancesDepth.max() - distancesDepth.min())\n",
    "img2 = ax2.scatter(pcd[\"depthPCD\"][index][:, 0], pcd[\"depthPCD\"][index][:, 1], pcd[\"depthPCD\"][index][:, 2], c=normalized_distancesDepth, cmap = 'viridis',marker='o')\n",
    "fig.colorbar(img2)\n",
    "ax2.set_title('Point Cloud 2')\n",
    "ax2.set_xlabel('X')\n",
    "ax2.set_ylabel('Y')\n",
    "ax2.set_zlabel('Z')\n",
    "plt.tight_layout()\n",
    "plt.savefig(\"./visualization/radarDepth_\"+ str(index)+\".png\")\n",
    "plt.show()\n",
    "plt.close()"
   ]
  },
  {
   "cell_type": "code",
   "execution_count": null,
   "metadata": {},
   "outputs": [],
   "source": [
    "downsample_size = 10000  # Specify the desired downsampled size\n",
    "downsampled_pcd = np.empty((pointcloudRadarDepth.shape[0], downsample_size, 3))"
   ]
  },
  {
   "cell_type": "code",
   "execution_count": null,
   "metadata": {},
   "outputs": [],
   "source": [
    "indices = np.random.choice(307200, downsample_size, replace=False)"
   ]
  },
  {
   "cell_type": "code",
   "execution_count": null,
   "metadata": {},
   "outputs": [],
   "source": [
    "i =5\n",
    "pointcloudRadarDepth[\"depthPCD\"][38][indices]"
   ]
  },
  {
   "cell_type": "code",
   "execution_count": null,
   "metadata": {},
   "outputs": [],
   "source": [
    "pointcloudRadarDepth[\"depthPCD\"].shape[0]"
   ]
  },
  {
   "cell_type": "code",
   "execution_count": null,
   "metadata": {},
   "outputs": [],
   "source": [
    "import matplotlib.pyplot as plt\n",
    "import numpy as np\n",
    "train_losses = np.load(\"./checkpoints/lossCheckpoint/TrainingLoss.npy\").tolist()\n",
    "val_losses =np.load(\"./checkpoints/lossCheckpoint/ValidationLoss.npy\").tolist()\n",
    "# Plotting Loss\n",
    "plt.figure(figsize=(10, 5))\n",
    "plt.plot(train_losses, label='Train Loss')\n",
    "plt.plot(val_losses, label='Validation Loss')\n",
    "plt.xlabel('Epochs')\n",
    "plt.ylabel('Loss')\n",
    "plt.title('Training and Validation Loss over Epochs')\n",
    "plt.legend()\n",
    "# plt.show()\n",
    "plt.savefig(\"./Training and Validation Loss over Epochs.png\")"
   ]
  },
  {
   "cell_type": "code",
   "execution_count": null,
   "metadata": {},
   "outputs": [],
   "source": [
    "from model.upSamplingBlock import UpSamplingBlock\n",
    "from model.customLossFunction import CombinedLoss\n",
    "from sklearn.model_selection import train_test_split\n",
    "from model.dataloader import PointCloudDataset\n",
    "from torch.utils.data import DataLoader\n",
    "import torch \n",
    "import pandas as pd\n",
    "import seaborn as sns\n",
    "import matplotlib.pyplot as plt\n",
    "import numpy as np\n",
    "pointcloudRadarDepth = pd.read_pickle(\"./pointcloudRadarDepth.pkl\")\n",
    "print(\"Existing Down Sampled file imported\")\n",
    "total_frameStackedRadar = np.stack(pointcloudRadarDepth[\"radarPCD\"])\n",
    "total_frameStackedDepth = np.stack(pointcloudRadarDepth[\"sampleDepth\"])\n",
    "\n",
    "batch_size = 32\n",
    "device = torch.device(\"cpu\")   \n",
    "train_radar, temp_radar, train_depth, temp_depth = train_test_split(total_frameStackedRadar, total_frameStackedDepth, test_size=0.3, random_state=42)\n",
    "val_radar, test_radar, val_depth, test_depth = train_test_split(temp_radar, temp_depth, test_size=0.5, random_state=42)  # 15% test, 15% validation\n",
    "\n",
    "# Create PointCloudDataset for each split\n",
    "train_dataset_radar = PointCloudDataset(train_radar)\n",
    "train_dataset_depth = PointCloudDataset(train_depth)\n",
    "\n",
    "val_dataset_radar = PointCloudDataset(val_radar)\n",
    "val_dataset_depth = PointCloudDataset(val_depth)\n",
    "\n",
    "test_dataset_radar = PointCloudDataset(test_radar)\n",
    "test_dataset_depth = PointCloudDataset(test_depth)\n",
    "\n",
    "# Create DataLoader for each split\n",
    "train_loader_radar = DataLoader(train_dataset_radar, batch_size=batch_size, shuffle=False, num_workers=4)\n",
    "train_loader_depth = DataLoader(train_dataset_depth, batch_size=batch_size, shuffle=False, num_workers=4)\n",
    "\n",
    "val_loader_radar = DataLoader(val_dataset_radar, batch_size=batch_size, shuffle=False, num_workers=4)\n",
    "val_loader_depth = DataLoader(val_dataset_depth, batch_size=batch_size, shuffle=False, num_workers=4)\n",
    "\n",
    "test_loader_radar = DataLoader(test_dataset_radar, batch_size=batch_size, shuffle=False, num_workers=4)\n",
    "test_loader_depth = DataLoader(test_dataset_depth, batch_size=batch_size, shuffle=False, num_workers=4)\n",
    "\n",
    "model = UpSamplingBlock().to(device=device)\n",
    "model.eval()  \n",
    "val_loss = []\n",
    "criterion = CombinedLoss(alpha=0.5).to(device=device)\n",
    "optimizer = torch.optim.Adam(model.parameters(), lr=1e-3)\n",
    "\n",
    "checkpoint = torch.load(f\"./checkpoints/model_epoch_545.pth\",weights_only=True)\n",
    "model.load_state_dict(checkpoint['model_state_dict'])\n",
    "optimizer.load_state_dict(checkpoint['optimizer_state_dict'])\n",
    "with torch.no_grad():\n",
    "    for val_idx, (val_point_cloud, val_point_cloudGT) in enumerate(zip(train_loader_radar, train_loader_depth)):\n",
    "        val_point_cloud, val_point_cloudGT = val_point_cloud.to(device), val_point_cloudGT.to(device)\n",
    "        \n",
    "        outputs = model(val_point_cloud)\n",
    "        loss = criterion(outputs, val_point_cloudGT, val_point_cloud)\n",
    "        val_loss.append(loss.item())\n",
    "        for i in range(val_point_cloud.shape[0]):\n",
    "            # print(val_point_cloud.numpy().shape,val_point_cloud[i])\n",
    "            # print(outputs[0].numpy().shape,outputs[i])\n",
    "            radarPcd = val_point_cloud[i].numpy()\n",
    "            depthPcd = val_point_cloudGT[i].numpy()\n",
    "            predPcd = outputs[0][i].numpy()\n",
    "            frameIDX = i\n",
    "            distancesRadar = np.linalg.norm(radarPcd, axis=1)\n",
    "            normalized_distances = (distancesRadar - distancesRadar.min()) / (distancesRadar.max() - distancesRadar.min())\n",
    "            sns.set(style=\"whitegrid\")\n",
    "            fig = plt.figure(figsize=(12,6))\n",
    "            ax1 = fig.add_subplot(131,projection='3d')\n",
    "            distancesRadar = np.linalg.norm(radarPcd, axis=1)\n",
    "            normalized_distancesRadar = (distancesRadar - distancesRadar.min()) / (distancesRadar.max() - distancesRadar.min())\n",
    "            img1 = ax1.scatter(radarPcd[:, 0],radarPcd[:, 1], radarPcd[:, 2], c=normalized_distancesRadar,cmap = 'viridis', marker='o')\n",
    "            fig.colorbar(img1)\n",
    "            ax1.set_title('Radar PCD')\n",
    "            ax1.set_xlabel('X')\n",
    "            ax1.set_ylabel('Y')\n",
    "            ax1.set_zlabel('Z')\n",
    "\n",
    "            ax2 = fig.add_subplot(132,projection='3d')\n",
    "            distancesDepth = np.linalg.norm(depthPcd, axis=1)\n",
    "            normalized_distancesDepth = (distancesDepth - distancesDepth.min()) / (distancesDepth.max() - distancesDepth.min())\n",
    "            img2 = ax2.scatter(depthPcd[:, 0], depthPcd[:, 1],depthPcd[:, 2], c=normalized_distancesDepth, cmap = 'viridis',marker='o')\n",
    "            fig.colorbar(img2)\n",
    "            ax2.set_title('Depth Camera PCD')\n",
    "            ax2.set_xlabel('X')\n",
    "            ax2.set_ylabel('Y')\n",
    "            ax2.set_zlabel('Z')\n",
    "\n",
    "            ax3 = fig.add_subplot(133,projection='3d')\n",
    "            distancesSampleDepth = np.linalg.norm(predPcd, axis=1)\n",
    "            normalized_distancesSampleDepth = (distancesSampleDepth - distancesSampleDepth.min()) / (distancesSampleDepth.max() - distancesSampleDepth.min())\n",
    "            img3 = ax3.scatter(predPcd[:, 0], predPcd[:, 1], predPcd[:, 2], c=normalized_distancesSampleDepth, cmap = 'viridis',marker='o')\n",
    "            fig.colorbar(img3)\n",
    "            ax3.set_title('Predicted PCD')\n",
    "            ax3.set_xlabel('X')\n",
    "            ax3.set_ylabel('Y')\n",
    "            ax3.set_zlabel('Z')\n",
    "            plt.tight_layout()\n",
    "            plt.savefig(f\"./visualization/test/radarDepth_{str(frameIDX)}.png\")\n",
    "            # plt.show()\n",
    "            plt.close()\n",
    "            break\n",
    "        break\n",
    "    avg_val_loss = np.mean(val_loss)\n",
    "\n",
    "print(f\"Evaluation Loss: {avg_val_loss:.4f}\")"
   ]
  },
  {
   "cell_type": "code",
   "execution_count": null,
   "metadata": {},
   "outputs": [],
   "source": [
    "plt.show()"
   ]
  },
  {
   "cell_type": "code",
   "execution_count": null,
   "metadata": {},
   "outputs": [],
   "source": []
  }
 ],
 "metadata": {
  "kernelspec": {
   "display_name": "mmenv",
   "language": "python",
   "name": "python3"
  },
  "language_info": {
   "codemirror_mode": {
    "name": "ipython",
    "version": 3
   },
   "file_extension": ".py",
   "mimetype": "text/x-python",
   "name": "python",
   "nbconvert_exporter": "python",
   "pygments_lexer": "ipython3",
   "version": "3.8.20"
  }
 },
 "nbformat": 4,
 "nbformat_minor": 2
}

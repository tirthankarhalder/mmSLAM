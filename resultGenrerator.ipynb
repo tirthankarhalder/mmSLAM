{
 "cells": [
  {
   "cell_type": "code",
   "execution_count": 1,
   "metadata": {},
   "outputs": [],
   "source": [
    "import os\n",
    "import pandas as pd\n",
    "from datetime import datetime\n",
    "import concurrent.futures\n",
    "import cv2\n",
    "from tqdm import tqdm\n",
    "import numpy as np\n",
    "from scipy.io import savemat, loadmat\n"
   ]
  },
  {
   "cell_type": "code",
   "execution_count": 14,
   "metadata": {},
   "outputs": [],
   "source": [
    "processedDataFolder_name = \"./processedData/2025-02-01_14-28-44/\"\n",
    "datasetFolder = \"./datasets/image_data/\""
   ]
  },
  {
   "cell_type": "code",
   "execution_count": 2,
   "metadata": {},
   "outputs": [
    {
     "data": {
      "text/plain": [
       "pkl file saved at: ./processedData/2025-02-01_14-28-44/rgbImage.csv\n"
      ]
     },
     "metadata": {},
     "output_type": "display_data"
    }
   ],
   "source": [
    "\n",
    "image_data = []\n",
    "for subdir, _, files in os.walk(datasetFolder):\n",
    "    for file in files:\n",
    "        if file.endswith(\".jpg\"):  \n",
    "            file_path = os.path.join(subdir, file)\n",
    "            renamedFile = file[:-4]\n",
    "            renamedFiletimestamp = datetime.strptime(renamedFile, \"%Y-%m-%d_%H_%M_%S_%f\")\n",
    "            renamedFileFormattedTime = renamedFiletimestamp.strftime(\"%Y-%m-%d %H:%M:%S.%f\") + \".jpg\"\n",
    "            image = cv2.imread(file_path, cv2.IMREAD_COLOR)\n",
    "            date_str, time_hr,time_min,time_sec, microseconds = file[:-4].split(\"_\")\n",
    "            datetime_str = f\"{date_str} {time_hr}:{time_min}:{time_sec}.{microseconds}\"\n",
    "            timestamp = datetime.strptime(datetime_str, \"%Y-%m-%d %H:%M:%S.%f\")\n",
    "            formatted_timestamp = timestamp.strftime(\"%Y-%m-%d %H:%M:%S.%f\")\n",
    "            # print(formatted_timestamp)\n",
    "            image_data.append([formatted_timestamp, image, renamedFileFormattedTime, file_path])\n",
    "\n",
    "rgbCsvDF = pd.DataFrame(image_data, columns=[ \"datetime\", \"rgbImage\",\"rgbFilename\", \"rgbFilepath\"])\n",
    "rgbCsvDF[\"datetime\"] = pd.to_datetime(rgbCsvDF[\"datetime\"], format=\"%Y-%m-%d %H:%M:%S.%f\")\n",
    "rgbCsvPath = os.path.join(processedDataFolder_name, \"rgbImage.csv\")\n",
    "rgbCsvDF.to_csv(rgbCsvPath, index=False)\n",
    "rgbCsvDF.to_pickle(processedDataFolder_name + \"rgbImage.pkl\")\n",
    "print(f\"pkl file saved at: {rgbCsvPath}\")"
   ]
  },
  {
   "cell_type": "code",
   "execution_count": 3,
   "metadata": {},
   "outputs": [
    {
     "data": {
      "text/plain": [
       "                    datetime  ...                                        rgbFilepath\n",
       "0 2024-10-02 20:21:30.749866  ...  ./datasets/image_data/2024-10-02_20_20_33/2024...\n",
       "1 2024-10-02 20:21:46.797354  ...  ./datasets/image_data/2024-10-02_20_20_33/2024...\n",
       "2 2024-10-02 20:21:20.323423  ...  ./datasets/image_data/2024-10-02_20_20_33/2024...\n",
       "3 2024-10-02 20:22:06.702628  ...  ./datasets/image_data/2024-10-02_20_20_33/2024...\n",
       "\n",
       "[4 rows x 4 columns]\n"
      ]
     },
     "metadata": {},
     "output_type": "display_data"
    }
   ],
   "source": [
    "rgbCsvDF.head(4)"
   ]
  },
  {
   "cell_type": "code",
   "execution_count": 6,
   "metadata": {},
   "outputs": [
    {
     "data": {
      "text/plain": [
       "Traceback (most recent call last):\n",
       "  File \"/root/.vscode-server/extensions/ms-python.python-2024.22.2-linux-x64/python_files/python_server.py\", line 133, in exec_user_input\n",
       "    retval = callable_(user_input, user_globals)\n",
       "  File \"<string>\", line 1, in <module>\n",
       "NameError: name 'processedDataFolder_name' is not defined\n",
       "\n"
      ]
     },
     "metadata": {},
     "output_type": "display_data"
    }
   ],
   "source": [
    "mergedRadarDepth = processedDataFolder_name + \"mergedRadarDepth.pkl\" \n",
    "mergedRadarDepth = pd.read_pickle(mergedRadarDepth)\n",
    "mergedRadarDepth.reset_index(drop=True, inplace=True)"
   ]
  },
  {
   "cell_type": "code",
   "execution_count": null,
   "metadata": {},
   "outputs": [],
   "source": []
  },
  {
   "cell_type": "code",
   "execution_count": null,
   "metadata": {},
   "outputs": [],
   "source": []
  },
  {
   "cell_type": "code",
   "execution_count": null,
   "metadata": {},
   "outputs": [],
   "source": []
  },
  {
   "cell_type": "code",
   "execution_count": null,
   "metadata": {},
   "outputs": [],
   "source": []
  },
  {
   "cell_type": "code",
   "execution_count": 5,
   "metadata": {},
   "outputs": [],
   "source": [
    "\n",
    "rgbCsvDF = rgbCsvDF.sort_values(by='datetime', ascending=True)\n",
    "mergedRadarDepth = mergedRadarDepth.sort_values(by='datetime', ascending=True)\n",
    "    "
   ]
  },
  {
   "cell_type": "code",
   "execution_count": 7,
   "metadata": {},
   "outputs": [
    {
     "data": {
      "text/plain": [
       "mergedPcdDepthRgb.shape:  (2033, 6)\n",
       "1ms - mergedPcdDepthRgb after dropna.shape:  (10, 6)\n"
      ]
     },
     "metadata": {},
     "output_type": "display_data"
    }
   ],
   "source": [
    "mergedPcdDepthRgb = pd.merge_asof(mergedRadarDepth, rgbCsvDF, on='datetime',tolerance=pd.Timedelta('0.5ms'), direction='nearest')#change ms\n",
    "print(\"mergedPcdDepthRgb.shape: \",mergedPcdDepthRgb.shape)\n",
    "mergedPcdDepthRgb =mergedPcdDepthRgb.dropna(subset=['rgbFilename'])\n",
    "print(\"1ms - mergedPcdDepthRgb after dropna.shape: \",mergedPcdDepthRgb.shape)\n"
   ]
  },
  {
   "cell_type": "code",
   "execution_count": 33,
   "metadata": {},
   "outputs": [
    {
     "data": {
      "text/plain": [
       "mergerdPcdDepthRgb.pkl Exported\n"
      ]
     },
     "metadata": {},
     "output_type": "display_data"
    }
   ],
   "source": [
    "mergedPcdDepthRgb.to_csv(processedDataFolder_name + \"mergedPcdDepthRgb.csv\", index=False)\n",
    "mergedPcdDepthRgb.to_pickle(processedDataFolder_name + \"mergedPcdDepthRgb.pkl\")\n",
    "print(\"mergerdPcdDepthRgb.pkl Exported\")"
   ]
  },
  {
   "cell_type": "code",
   "execution_count": 15,
   "metadata": {},
   "outputs": [],
   "source": [
    "mergedPcdDepthRgb = pd.read_pickle(processedDataFolder_name + \"mergerdPcdDepthRgb.pkl\")"
   ]
  },
  {
   "cell_type": "code",
   "execution_count": 17,
   "metadata": {},
   "outputs": [],
   "source": [
    "nedFilePath = os.path.join(\"./datasets/telemetry_data/\")\n",
    "filteredNedFile = [f for f in os.listdir(nedFilePath) if os.path.isfile(os.path.join(nedFilePath, f)) and f.endswith('.csv') and not f.startswith('only_sensor')]\n",
    "\n",
    "def load_and_process_file(filename):\n",
    "    try:\n",
    "        df = pd.read_csv(nedFilePath+filename)\n",
    "        print(f\"Processing {filename}\")\n",
    "        df['nedFilename'] = filename  \n",
    "        return df\n",
    "    except Exception as e:\n",
    "        print(f\"Error processing {filename}: {e}\")\n",
    "        return None \n"
   ]
  },
  {
   "cell_type": "code",
   "execution_count": 18,
   "metadata": {},
   "outputs": [
    {
     "name": "stdout",
     "output_type": "stream",
     "text": [
      "Processing 2024-10-30_17_37_31_telemtry.csvProcessing 2024-11-05_17_14_47_telemtry.csv\n",
      "\n",
      "Processing 2024-10-30_15_33_50_telemtry.csv\n",
      "Processing 2024-11-05_17_29_23_telemtry.csv\n",
      "Processing 2024-10-30_17_38_28_telemtry.csv\n",
      "Processing 2025-01-29_12_35_22_telemtry.csv\n",
      "Processing 2025-01-29_12_49_07_telemtry.csv\n",
      "Processing 2025-01-29_13_09_10_telemtry.csv\n",
      "                    datetime       x_m       y_m       z_m  roll_rad_s  \\\n",
      "0 2025-01-29 12:35:23.430650 -0.000095 -0.000030 -0.848082    0.000759   \n",
      "1 2025-01-29 12:35:23.461294 -0.000095 -0.000051 -0.848245    0.001361   \n",
      "2 2025-01-29 12:35:23.491600 -0.000097 -0.000062 -0.848318    0.000385   \n",
      "3 2025-01-29 12:35:23.528851 -0.000099 -0.000081 -0.848448    0.000942   \n",
      "4 2025-01-29 12:35:23.560871 -0.000101 -0.000094 -0.848530   -0.000049   \n",
      "\n",
      "   pitch_rad_s  yaw_rad_s                       nedFilename  \n",
      "0     0.000239   0.000197  2025-01-29_12_35_22_telemtry.csv  \n",
      "1    -0.000255  -0.000430  2025-01-29_12_35_22_telemtry.csv  \n",
      "2    -0.000264   0.000844  2025-01-29_12_35_22_telemtry.csv  \n",
      "3     0.000030   0.000298  2025-01-29_12_35_22_telemtry.csv  \n",
      "4    -0.000225   0.000344  2025-01-29_12_35_22_telemtry.csv  \n"
     ]
    }
   ],
   "source": [
    "\n",
    "with concurrent.futures.ProcessPoolExecutor(max_workers=5) as file_executor:\n",
    "        results = list(file_executor.map(load_and_process_file, filteredNedFile))\n",
    "processedNedFiles = [df for df in results if df is not None]\n",
    "if processedNedFiles:\n",
    "    nedDf = pd.concat(processedNedFiles, ignore_index=True)\n",
    "    nedDf = nedDf[[\"datetime\",\"x_m\",\"y_m\",\"z_m\",\"roll_rad_s\",\"pitch_rad_s\",\"yaw_rad_s\",\"nedFilename\"]]\n",
    "    nedDf['datetime'] = pd.to_datetime(nedDf['datetime'])\n",
    "    nedDf = nedDf.dropna()\n",
    "    print(nedDf.head())  \n",
    "else:\n",
    "    print(\"No files were processed successfully.\")"
   ]
  },
  {
   "cell_type": "code",
   "execution_count": 19,
   "metadata": {},
   "outputs": [],
   "source": [
    "\n",
    "nedDf = nedDf.sort_values(by='datetime', ascending=True)\n",
    "mergerdPcdDepthRgb = mergedPcdDepthRgb.sort_values(by='datetime', ascending=True)\n",
    "    "
   ]
  },
  {
   "cell_type": "code",
   "execution_count": 20,
   "metadata": {},
   "outputs": [
    {
     "name": "stdout",
     "output_type": "stream",
     "text": [
      "mergerdPcdDepthRgbNed.shape:  (1145, 13)\n",
      "1000ms - mergerdPcdDepthRgbNed after dropna.shape:  (252, 13)\n"
     ]
    }
   ],
   "source": [
    "mergedPcdDepthRgbNed = pd.merge_asof(mergedPcdDepthRgb, nedDf, on='datetime',tolerance=pd.Timedelta('1000ms'), direction='nearest')\n",
    "print(\"mergerdPcdDepthRgbNed.shape: \",mergedPcdDepthRgbNed.shape)\n",
    "mergedPcdDepthRgbNed =mergedPcdDepthRgbNed.dropna(subset=[\"nedFilename\"])\n",
    "print(\"1000ms - mergerdPcdDepthRgbNed after dropna.shape: \",mergedPcdDepthRgbNed.shape)"
   ]
  },
  {
   "cell_type": "code",
   "execution_count": 21,
   "metadata": {},
   "outputs": [
    {
     "ename": "PermissionError",
     "evalue": "[Errno 13] Permission denied: './processedData/2025-02-01_14-28-44/mergedPcdDepthRgbNed.csv'",
     "output_type": "error",
     "traceback": [
      "\u001b[0;31m---------------------------------------------------------------------------\u001b[0m",
      "\u001b[0;31mPermissionError\u001b[0m                           Traceback (most recent call last)",
      "Cell \u001b[0;32mIn[21], line 1\u001b[0m\n\u001b[0;32m----> 1\u001b[0m \u001b[43mmergedPcdDepthRgbNed\u001b[49m\u001b[38;5;241;43m.\u001b[39;49m\u001b[43mto_csv\u001b[49m\u001b[43m(\u001b[49m\u001b[43mprocessedDataFolder_name\u001b[49m\u001b[43m \u001b[49m\u001b[38;5;241;43m+\u001b[39;49m\u001b[43m \u001b[49m\u001b[38;5;124;43m\"\u001b[39;49m\u001b[38;5;124;43mmergedPcdDepthRgbNed.csv\u001b[39;49m\u001b[38;5;124;43m\"\u001b[39;49m\u001b[43m,\u001b[49m\u001b[43m \u001b[49m\u001b[43mindex\u001b[49m\u001b[38;5;241;43m=\u001b[39;49m\u001b[38;5;28;43;01mFalse\u001b[39;49;00m\u001b[43m)\u001b[49m\n\u001b[1;32m      2\u001b[0m mergedPcdDepthRgbNed\u001b[38;5;241m.\u001b[39mto_pickle(processedDataFolder_name \u001b[38;5;241m+\u001b[39m \u001b[38;5;124m\"\u001b[39m\u001b[38;5;124mmergedPcdDepthRgbNed.pkl\u001b[39m\u001b[38;5;124m\"\u001b[39m)\n\u001b[1;32m      3\u001b[0m \u001b[38;5;28mprint\u001b[39m(\u001b[38;5;124m\"\u001b[39m\u001b[38;5;124mmergedPcdDepthRgbNed.pkl Exported\u001b[39m\u001b[38;5;124m\"\u001b[39m)\n",
      "File \u001b[0;32m~/anaconda3/envs/mmenv/lib/python3.8/site-packages/pandas/core/generic.py:3772\u001b[0m, in \u001b[0;36mNDFrame.to_csv\u001b[0;34m(self, path_or_buf, sep, na_rep, float_format, columns, header, index, index_label, mode, encoding, compression, quoting, quotechar, lineterminator, chunksize, date_format, doublequote, escapechar, decimal, errors, storage_options)\u001b[0m\n\u001b[1;32m   3761\u001b[0m df \u001b[38;5;241m=\u001b[39m \u001b[38;5;28mself\u001b[39m \u001b[38;5;28;01mif\u001b[39;00m \u001b[38;5;28misinstance\u001b[39m(\u001b[38;5;28mself\u001b[39m, ABCDataFrame) \u001b[38;5;28;01melse\u001b[39;00m \u001b[38;5;28mself\u001b[39m\u001b[38;5;241m.\u001b[39mto_frame()\n\u001b[1;32m   3763\u001b[0m formatter \u001b[38;5;241m=\u001b[39m DataFrameFormatter(\n\u001b[1;32m   3764\u001b[0m     frame\u001b[38;5;241m=\u001b[39mdf,\n\u001b[1;32m   3765\u001b[0m     header\u001b[38;5;241m=\u001b[39mheader,\n\u001b[0;32m   (...)\u001b[0m\n\u001b[1;32m   3769\u001b[0m     decimal\u001b[38;5;241m=\u001b[39mdecimal,\n\u001b[1;32m   3770\u001b[0m )\n\u001b[0;32m-> 3772\u001b[0m \u001b[38;5;28;01mreturn\u001b[39;00m \u001b[43mDataFrameRenderer\u001b[49m\u001b[43m(\u001b[49m\u001b[43mformatter\u001b[49m\u001b[43m)\u001b[49m\u001b[38;5;241;43m.\u001b[39;49m\u001b[43mto_csv\u001b[49m\u001b[43m(\u001b[49m\n\u001b[1;32m   3773\u001b[0m \u001b[43m    \u001b[49m\u001b[43mpath_or_buf\u001b[49m\u001b[43m,\u001b[49m\n\u001b[1;32m   3774\u001b[0m \u001b[43m    \u001b[49m\u001b[43mlineterminator\u001b[49m\u001b[38;5;241;43m=\u001b[39;49m\u001b[43mlineterminator\u001b[49m\u001b[43m,\u001b[49m\n\u001b[1;32m   3775\u001b[0m \u001b[43m    \u001b[49m\u001b[43msep\u001b[49m\u001b[38;5;241;43m=\u001b[39;49m\u001b[43msep\u001b[49m\u001b[43m,\u001b[49m\n\u001b[1;32m   3776\u001b[0m \u001b[43m    \u001b[49m\u001b[43mencoding\u001b[49m\u001b[38;5;241;43m=\u001b[39;49m\u001b[43mencoding\u001b[49m\u001b[43m,\u001b[49m\n\u001b[1;32m   3777\u001b[0m \u001b[43m    \u001b[49m\u001b[43merrors\u001b[49m\u001b[38;5;241;43m=\u001b[39;49m\u001b[43merrors\u001b[49m\u001b[43m,\u001b[49m\n\u001b[1;32m   3778\u001b[0m \u001b[43m    \u001b[49m\u001b[43mcompression\u001b[49m\u001b[38;5;241;43m=\u001b[39;49m\u001b[43mcompression\u001b[49m\u001b[43m,\u001b[49m\n\u001b[1;32m   3779\u001b[0m \u001b[43m    \u001b[49m\u001b[43mquoting\u001b[49m\u001b[38;5;241;43m=\u001b[39;49m\u001b[43mquoting\u001b[49m\u001b[43m,\u001b[49m\n\u001b[1;32m   3780\u001b[0m \u001b[43m    \u001b[49m\u001b[43mcolumns\u001b[49m\u001b[38;5;241;43m=\u001b[39;49m\u001b[43mcolumns\u001b[49m\u001b[43m,\u001b[49m\n\u001b[1;32m   3781\u001b[0m \u001b[43m    \u001b[49m\u001b[43mindex_label\u001b[49m\u001b[38;5;241;43m=\u001b[39;49m\u001b[43mindex_label\u001b[49m\u001b[43m,\u001b[49m\n\u001b[1;32m   3782\u001b[0m \u001b[43m    \u001b[49m\u001b[43mmode\u001b[49m\u001b[38;5;241;43m=\u001b[39;49m\u001b[43mmode\u001b[49m\u001b[43m,\u001b[49m\n\u001b[1;32m   3783\u001b[0m \u001b[43m    \u001b[49m\u001b[43mchunksize\u001b[49m\u001b[38;5;241;43m=\u001b[39;49m\u001b[43mchunksize\u001b[49m\u001b[43m,\u001b[49m\n\u001b[1;32m   3784\u001b[0m \u001b[43m    \u001b[49m\u001b[43mquotechar\u001b[49m\u001b[38;5;241;43m=\u001b[39;49m\u001b[43mquotechar\u001b[49m\u001b[43m,\u001b[49m\n\u001b[1;32m   3785\u001b[0m \u001b[43m    \u001b[49m\u001b[43mdate_format\u001b[49m\u001b[38;5;241;43m=\u001b[39;49m\u001b[43mdate_format\u001b[49m\u001b[43m,\u001b[49m\n\u001b[1;32m   3786\u001b[0m \u001b[43m    \u001b[49m\u001b[43mdoublequote\u001b[49m\u001b[38;5;241;43m=\u001b[39;49m\u001b[43mdoublequote\u001b[49m\u001b[43m,\u001b[49m\n\u001b[1;32m   3787\u001b[0m \u001b[43m    \u001b[49m\u001b[43mescapechar\u001b[49m\u001b[38;5;241;43m=\u001b[39;49m\u001b[43mescapechar\u001b[49m\u001b[43m,\u001b[49m\n\u001b[1;32m   3788\u001b[0m \u001b[43m    \u001b[49m\u001b[43mstorage_options\u001b[49m\u001b[38;5;241;43m=\u001b[39;49m\u001b[43mstorage_options\u001b[49m\u001b[43m,\u001b[49m\n\u001b[1;32m   3789\u001b[0m \u001b[43m\u001b[49m\u001b[43m)\u001b[49m\n",
      "File \u001b[0;32m~/anaconda3/envs/mmenv/lib/python3.8/site-packages/pandas/io/formats/format.py:1186\u001b[0m, in \u001b[0;36mDataFrameRenderer.to_csv\u001b[0;34m(self, path_or_buf, encoding, sep, columns, index_label, mode, compression, quoting, quotechar, lineterminator, chunksize, date_format, doublequote, escapechar, errors, storage_options)\u001b[0m\n\u001b[1;32m   1165\u001b[0m     created_buffer \u001b[38;5;241m=\u001b[39m \u001b[38;5;28;01mFalse\u001b[39;00m\n\u001b[1;32m   1167\u001b[0m csv_formatter \u001b[38;5;241m=\u001b[39m CSVFormatter(\n\u001b[1;32m   1168\u001b[0m     path_or_buf\u001b[38;5;241m=\u001b[39mpath_or_buf,\n\u001b[1;32m   1169\u001b[0m     lineterminator\u001b[38;5;241m=\u001b[39mlineterminator,\n\u001b[0;32m   (...)\u001b[0m\n\u001b[1;32m   1184\u001b[0m     formatter\u001b[38;5;241m=\u001b[39m\u001b[38;5;28mself\u001b[39m\u001b[38;5;241m.\u001b[39mfmt,\n\u001b[1;32m   1185\u001b[0m )\n\u001b[0;32m-> 1186\u001b[0m \u001b[43mcsv_formatter\u001b[49m\u001b[38;5;241;43m.\u001b[39;49m\u001b[43msave\u001b[49m\u001b[43m(\u001b[49m\u001b[43m)\u001b[49m\n\u001b[1;32m   1188\u001b[0m \u001b[38;5;28;01mif\u001b[39;00m created_buffer:\n\u001b[1;32m   1189\u001b[0m     \u001b[38;5;28;01massert\u001b[39;00m \u001b[38;5;28misinstance\u001b[39m(path_or_buf, StringIO)\n",
      "File \u001b[0;32m~/anaconda3/envs/mmenv/lib/python3.8/site-packages/pandas/io/formats/csvs.py:240\u001b[0m, in \u001b[0;36mCSVFormatter.save\u001b[0;34m(self)\u001b[0m\n\u001b[1;32m    236\u001b[0m \u001b[38;5;250m\u001b[39m\u001b[38;5;124;03m\"\"\"\u001b[39;00m\n\u001b[1;32m    237\u001b[0m \u001b[38;5;124;03mCreate the writer & save.\u001b[39;00m\n\u001b[1;32m    238\u001b[0m \u001b[38;5;124;03m\"\"\"\u001b[39;00m\n\u001b[1;32m    239\u001b[0m \u001b[38;5;66;03m# apply compression and byte/text conversion\u001b[39;00m\n\u001b[0;32m--> 240\u001b[0m \u001b[38;5;28;01mwith\u001b[39;00m \u001b[43mget_handle\u001b[49m\u001b[43m(\u001b[49m\n\u001b[1;32m    241\u001b[0m \u001b[43m    \u001b[49m\u001b[38;5;28;43mself\u001b[39;49m\u001b[38;5;241;43m.\u001b[39;49m\u001b[43mfilepath_or_buffer\u001b[49m\u001b[43m,\u001b[49m\n\u001b[1;32m    242\u001b[0m \u001b[43m    \u001b[49m\u001b[38;5;28;43mself\u001b[39;49m\u001b[38;5;241;43m.\u001b[39;49m\u001b[43mmode\u001b[49m\u001b[43m,\u001b[49m\n\u001b[1;32m    243\u001b[0m \u001b[43m    \u001b[49m\u001b[43mencoding\u001b[49m\u001b[38;5;241;43m=\u001b[39;49m\u001b[38;5;28;43mself\u001b[39;49m\u001b[38;5;241;43m.\u001b[39;49m\u001b[43mencoding\u001b[49m\u001b[43m,\u001b[49m\n\u001b[1;32m    244\u001b[0m \u001b[43m    \u001b[49m\u001b[43merrors\u001b[49m\u001b[38;5;241;43m=\u001b[39;49m\u001b[38;5;28;43mself\u001b[39;49m\u001b[38;5;241;43m.\u001b[39;49m\u001b[43merrors\u001b[49m\u001b[43m,\u001b[49m\n\u001b[1;32m    245\u001b[0m \u001b[43m    \u001b[49m\u001b[43mcompression\u001b[49m\u001b[38;5;241;43m=\u001b[39;49m\u001b[38;5;28;43mself\u001b[39;49m\u001b[38;5;241;43m.\u001b[39;49m\u001b[43mcompression\u001b[49m\u001b[43m,\u001b[49m\n\u001b[1;32m    246\u001b[0m \u001b[43m    \u001b[49m\u001b[43mstorage_options\u001b[49m\u001b[38;5;241;43m=\u001b[39;49m\u001b[38;5;28;43mself\u001b[39;49m\u001b[38;5;241;43m.\u001b[39;49m\u001b[43mstorage_options\u001b[49m\u001b[43m,\u001b[49m\n\u001b[1;32m    247\u001b[0m \u001b[43m\u001b[49m\u001b[43m)\u001b[49m \u001b[38;5;28;01mas\u001b[39;00m handles:\n\u001b[1;32m    248\u001b[0m     \u001b[38;5;66;03m# Note: self.encoding is irrelevant here\u001b[39;00m\n\u001b[1;32m    249\u001b[0m     \u001b[38;5;28mself\u001b[39m\u001b[38;5;241m.\u001b[39mwriter \u001b[38;5;241m=\u001b[39m csvlib\u001b[38;5;241m.\u001b[39mwriter(\n\u001b[1;32m    250\u001b[0m         handles\u001b[38;5;241m.\u001b[39mhandle,\n\u001b[1;32m    251\u001b[0m         lineterminator\u001b[38;5;241m=\u001b[39m\u001b[38;5;28mself\u001b[39m\u001b[38;5;241m.\u001b[39mlineterminator,\n\u001b[0;32m   (...)\u001b[0m\n\u001b[1;32m    256\u001b[0m         quotechar\u001b[38;5;241m=\u001b[39m\u001b[38;5;28mself\u001b[39m\u001b[38;5;241m.\u001b[39mquotechar,\n\u001b[1;32m    257\u001b[0m     )\n\u001b[1;32m    259\u001b[0m     \u001b[38;5;28mself\u001b[39m\u001b[38;5;241m.\u001b[39m_save()\n",
      "File \u001b[0;32m~/anaconda3/envs/mmenv/lib/python3.8/site-packages/pandas/io/common.py:859\u001b[0m, in \u001b[0;36mget_handle\u001b[0;34m(path_or_buf, mode, encoding, compression, memory_map, is_text, errors, storage_options)\u001b[0m\n\u001b[1;32m    854\u001b[0m \u001b[38;5;28;01melif\u001b[39;00m \u001b[38;5;28misinstance\u001b[39m(handle, \u001b[38;5;28mstr\u001b[39m):\n\u001b[1;32m    855\u001b[0m     \u001b[38;5;66;03m# Check whether the filename is to be opened in binary mode.\u001b[39;00m\n\u001b[1;32m    856\u001b[0m     \u001b[38;5;66;03m# Binary mode does not support 'encoding' and 'newline'.\u001b[39;00m\n\u001b[1;32m    857\u001b[0m     \u001b[38;5;28;01mif\u001b[39;00m ioargs\u001b[38;5;241m.\u001b[39mencoding \u001b[38;5;129;01mand\u001b[39;00m \u001b[38;5;124m\"\u001b[39m\u001b[38;5;124mb\u001b[39m\u001b[38;5;124m\"\u001b[39m \u001b[38;5;129;01mnot\u001b[39;00m \u001b[38;5;129;01min\u001b[39;00m ioargs\u001b[38;5;241m.\u001b[39mmode:\n\u001b[1;32m    858\u001b[0m         \u001b[38;5;66;03m# Encoding\u001b[39;00m\n\u001b[0;32m--> 859\u001b[0m         handle \u001b[38;5;241m=\u001b[39m \u001b[38;5;28;43mopen\u001b[39;49m\u001b[43m(\u001b[49m\n\u001b[1;32m    860\u001b[0m \u001b[43m            \u001b[49m\u001b[43mhandle\u001b[49m\u001b[43m,\u001b[49m\n\u001b[1;32m    861\u001b[0m \u001b[43m            \u001b[49m\u001b[43mioargs\u001b[49m\u001b[38;5;241;43m.\u001b[39;49m\u001b[43mmode\u001b[49m\u001b[43m,\u001b[49m\n\u001b[1;32m    862\u001b[0m \u001b[43m            \u001b[49m\u001b[43mencoding\u001b[49m\u001b[38;5;241;43m=\u001b[39;49m\u001b[43mioargs\u001b[49m\u001b[38;5;241;43m.\u001b[39;49m\u001b[43mencoding\u001b[49m\u001b[43m,\u001b[49m\n\u001b[1;32m    863\u001b[0m \u001b[43m            \u001b[49m\u001b[43merrors\u001b[49m\u001b[38;5;241;43m=\u001b[39;49m\u001b[43merrors\u001b[49m\u001b[43m,\u001b[49m\n\u001b[1;32m    864\u001b[0m \u001b[43m            \u001b[49m\u001b[43mnewline\u001b[49m\u001b[38;5;241;43m=\u001b[39;49m\u001b[38;5;124;43m\"\u001b[39;49m\u001b[38;5;124;43m\"\u001b[39;49m\u001b[43m,\u001b[49m\n\u001b[1;32m    865\u001b[0m \u001b[43m        \u001b[49m\u001b[43m)\u001b[49m\n\u001b[1;32m    866\u001b[0m     \u001b[38;5;28;01melse\u001b[39;00m:\n\u001b[1;32m    867\u001b[0m         \u001b[38;5;66;03m# Binary mode\u001b[39;00m\n\u001b[1;32m    868\u001b[0m         handle \u001b[38;5;241m=\u001b[39m \u001b[38;5;28mopen\u001b[39m(handle, ioargs\u001b[38;5;241m.\u001b[39mmode)\n",
      "\u001b[0;31mPermissionError\u001b[0m: [Errno 13] Permission denied: './processedData/2025-02-01_14-28-44/mergedPcdDepthRgbNed.csv'"
     ]
    }
   ],
   "source": [
    "mergedPcdDepthRgbNed.to_csv(processedDataFolder_name + \"mergedPcdDepthRgbNed.csv\", index=False)\n",
    "mergedPcdDepthRgbNed.to_pickle(processedDataFolder_name + \"mergedPcdDepthRgbNed.pkl\")\n",
    "print(\"mergedPcdDepthRgbNed.pkl Exported\")"
   ]
  },
  {
   "cell_type": "code",
   "execution_count": null,
   "metadata": {},
   "outputs": [
    {
     "data": {
      "text/plain": [
       "Exported 10 testing .mat files to './processedData/2025-02-01_14-28-44/droneData_All/processedData/' and recorded in './processedData/2025-02-01_14-28-44/droneData_All/datalist.txt'.\n"
      ]
     },
     "metadata": {},
     "output_type": "display_data"
    }
   ],
   "source": [
    "#exporting the pkl for test on slidesr\n",
    "outputDirAll = processedDataFolder_name + \"droneData_All/processedData/\"  \n",
    "txt_file_All = processedDataFolder_name + \"droneData_All/datalist.txt\" \n",
    "\n",
    "os.makedirs(outputDirAll, exist_ok=True)\n",
    "\n",
    "with open(txt_file_All, \"w\") as all_out:\n",
    "    for idx,row in tqdm(mergedPcdDepthRgb.iterrows(), desc=\"Saving All Data\", total=len(mergedPcdDepthRgb)):\n",
    "        # row = mergedPcdDepthRgb.iloc[idx]\n",
    "        # mat_file_name = f\"{idx + 1}_mmwave.mat\"\n",
    "        timestampStr, fTimestampStr = mergedPcdDepthRgb[\"rgbFilename\"][idx].split(\".\")[:-1]\n",
    "        matName = f\"{timestampStr}.{fTimestampStr}\"\n",
    "        mat_file_name = f\"{matName}_mmwave.mat\"\n",
    "        mat_file_path = os.path.join(outputDirAll, mat_file_name)\n",
    "\n",
    "        savemat(mat_file_path, {\n",
    "            'radarPCD': mergedPcdDepthRgb['radarPCD'][idx],\n",
    "            'depthPCD': mergedPcdDepthRgb['depthPCD'][idx],\n",
    "            'datetime': mergedPcdDepthRgb['datetime'][idx]\n",
    "        })\n",
    "        all_out.write(mat_file_path + \"\\n\")\n",
    "print(f\"Exported {len(mergedPcdDepthRgb)} testing .mat files to '{outputDirAll}' and recorded in '{txt_file_All}'.\")\n",
    "\n",
    "with open(txt_file_All, \"r\") as f:\n",
    "    mat_file_paths = [line.strip() for line in f.readlines() if line.strip().endswith(\".mat\")]\n",
    "\n",
    "mat_filenames = [path.split(\"/\")[-1] for path in mat_file_paths]\n",
    "mat_filenames_array = np.array(mat_filenames)"
   ]
  },
  {
   "cell_type": "code",
   "execution_count": null,
   "metadata": {},
   "outputs": [],
   "source": [
    "with open(txt_file_All, \"r\") as f:\n",
    "        mat_file_paths = [line.strip() for line in f.readlines() if line.strip().endswith(\".mat\")]\n",
    "\n",
    "mat_filenames = [path.split(\"/\")[-1] for path in mat_file_paths]\n",
    "mat_filenames_array = np.array(mat_filenames)"
   ]
  },
  {
   "cell_type": "code",
   "execution_count": null,
   "metadata": {},
   "outputs": [
    {
     "data": {
      "text/plain": [
       "['2024-10-02 20:21:00.599691_mmwave.mat'\n",
       " '2024-10-02 20:21:20.399870_mmwave.mat'\n",
       " '2024-10-02 20:21:39.399616_mmwave.mat'\n",
       " '2024-10-02 20:21:46.999942_mmwave.mat'\n",
       " '2024-10-02 20:27:21.199901_mmwave.mat'\n",
       " '2024-10-02 20:29:59.600329_mmwave.mat'\n",
       " '2025-01-29 12:41:51.200103_mmwave.mat'\n",
       " '2025-01-29 12:41:53.199948_mmwave.mat'\n",
       " '2025-01-29 12:41:53.600438_mmwave.mat'\n",
       " '2025-01-29 12:43:06.199806_mmwave.mat']\n"
      ]
     },
     "metadata": {},
     "output_type": "display_data"
    }
   ],
   "source": [
    "mat_filenames_array"
   ]
  },
  {
   "cell_type": "code",
   "execution_count": null,
   "metadata": {},
   "outputs": [],
   "source": [
    "all_files = os.listdir(resultMatFolderPath)\n",
    "folder_path = processedDataFolder_name + \"visualization/testResultAll\""
   ]
  },
  {
   "cell_type": "code",
   "execution_count": null,
   "metadata": {},
   "outputs": [
    {
     "data": {
      "text/plain": [
       "['2024-10-02 20:21:20.399870_mmwave.mat', '2025-01-29 12:41:53.600438_mmwave.mat', '2024-10-02 20:21:46.999942_mmwave.mat', '2025-01-29 12:41:51.200103_mmwave.mat', '2025-01-29 12:41:53.199948_mmwave.mat', '2024-10-02 20:27:21.199901_mmwave.mat', '2024-10-02 20:21:39.399616_mmwave.mat', '2024-10-02 20:21:00.599691_mmwave.mat', '2024-10-02 20:29:59.600329_mmwave.mat', '2025-01-29 12:43:06.199806_mmwave.mat']\n"
      ]
     },
     "metadata": {},
     "output_type": "display_data"
    }
   ],
   "source": [
    "all_files"
   ]
  },
  {
   "cell_type": "code",
   "execution_count": null,
   "metadata": {},
   "outputs": [],
   "source": [
    "mat_files = [file for file in all_files if file.endswith('.mat')]"
   ]
  },
  {
   "cell_type": "code",
   "execution_count": null,
   "metadata": {},
   "outputs": [
    {
     "data": {
      "text/plain": [
       "['2024-10-02 20:21:20.399870_mmwave.mat', '2025-01-29 12:41:53.600438_mmwave.mat', '2024-10-02 20:21:46.999942_mmwave.mat', '2025-01-29 12:41:51.200103_mmwave.mat', '2025-01-29 12:41:53.199948_mmwave.mat', '2024-10-02 20:27:21.199901_mmwave.mat', '2024-10-02 20:21:39.399616_mmwave.mat', '2024-10-02 20:21:00.599691_mmwave.mat', '2024-10-02 20:29:59.600329_mmwave.mat', '2025-01-29 12:43:06.199806_mmwave.mat']\n"
      ]
     },
     "metadata": {},
     "output_type": "display_data"
    }
   ],
   "source": [
    "mat_files"
   ]
  },
  {
   "cell_type": "code",
   "execution_count": null,
   "metadata": {},
   "outputs": [
    {
     "data": {
      "text/plain": [
       "Traceback (most recent call last):\n",
       "  File \"/root/.vscode-server/extensions/ms-python.python-2024.22.2-linux-x64/python_files/python_server.py\", line 133, in exec_user_input\n",
       "    retval = callable_(user_input, user_globals)\n",
       "  File \"<string>\", line 1\n",
       "    mat_file = '2024-10-02 20:21:20.399870_mmwave.mat'\"\n",
       "                                                      ^\n",
       "SyntaxError: EOL while scanning string literal\n",
       "\n"
      ]
     },
     "metadata": {},
     "output_type": "display_data"
    }
   ],
   "source": [
    "mat_file = '2024-10-02 20:21:20.399870_mmwave.mat'"
   ]
  },
  {
   "cell_type": "code",
   "execution_count": null,
   "metadata": {},
   "outputs": [
    {
     "data": {
      "text/plain": [
       "2024-10-02 20:21:20.399870\n"
      ]
     },
     "metadata": {},
     "output_type": "display_data"
    }
   ],
   "source": [
    "print(mat_file.split(\"_\")[0])"
   ]
  },
  {
   "cell_type": "code",
   "execution_count": null,
   "metadata": {},
   "outputs": [
    {
     "data": {
      "text/plain": [
       "Traceback (most recent call last):\n",
       "  File \"/root/.vscode-server/extensions/ms-python.python-2024.22.2-linux-x64/python_files/python_server.py\", line 133, in exec_user_input\n",
       "    retval = callable_(user_input, user_globals)\n",
       "  File \"<string>\", line 1, in <module>\n",
       "ValueError: not enough values to unpack (expected 5, got 1)\n",
       "\n"
      ]
     },
     "metadata": {},
     "output_type": "display_data"
    }
   ],
   "source": [
    "timestampStr = mat_file.split(\"_\")[0]\n"
   ]
  },
  {
   "cell_type": "code",
   "execution_count": null,
   "metadata": {},
   "outputs": [],
   "source": []
  },
  {
   "cell_type": "code",
   "execution_count": null,
   "metadata": {},
   "outputs": [
    {
     "data": {
      "text/plain": [
       "2024-10-02 20:21:20.399870.jpg\n"
      ]
     },
     "metadata": {},
     "output_type": "display_data"
    }
   ],
   "source": [
    "timestampStr = datetime.strptime(timestampStr, \"%Y-%m-%d %H:%M:%S.%f\")\n",
    "rgbFileNa = timestampStr.strftime(\"%Y-%m-%d %H:%M:%S.%f\") + \".jpg\"\n",
    "print(rgbFileNa)"
   ]
  },
  {
   "cell_type": "code",
   "execution_count": null,
   "metadata": {},
   "outputs": [],
   "source": [
    "rgbFilePt = mergedPcdDepthRgb.loc[mergedPcdDepthRgb['rgbFilename'] == rgbFileNa, 'rgbFilepath'].iloc[0]\n"
   ]
  },
  {
   "cell_type": "code",
   "execution_count": null,
   "metadata": {},
   "outputs": [],
   "source": []
  },
  {
   "cell_type": "code",
   "execution_count": null,
   "metadata": {},
   "outputs": [
    {
     "data": {
      "text/plain": [
       "./datasets/image_data/2024-10-02_20_20_33/2024-10-02_20_21_20_399870.jpg\n"
      ]
     },
     "metadata": {},
     "output_type": "display_data"
    }
   ],
   "source": [
    "rgbFilePt"
   ]
  },
  {
   "cell_type": "code",
   "execution_count": null,
   "metadata": {},
   "outputs": [],
   "source": [
    "rgbFilePt = mergedPcdDepthRgb.loc[mergedPcdDepthRgb['rgbFilename'] == rgbFileNa, 'rgbFilepath']\n",
    "if not rgbFilePt.empty:\n",
    "    rgbFilePt = rgbFilePt.iloc[0]  # Safe access\n",
    "else:\n",
    "    rgbFilePt = None"
   ]
  },
  {
   "cell_type": "code",
   "execution_count": null,
   "metadata": {},
   "outputs": [
    {
     "data": {
      "text/plain": [
       "./datasets/image_data/2024-10-02_20_20_33/2024-10-02_20_21_20_399870.jpg\n"
      ]
     },
     "metadata": {},
     "output_type": "display_data"
    }
   ],
   "source": [
    "rgbFilePt"
   ]
  },
  {
   "cell_type": "code",
   "execution_count": 2,
   "metadata": {},
   "outputs": [],
   "source": [
    "import os\n",
    "import pandas as pd\n",
    "import matplotlib.pyplot as plt\n",
    "import seaborn as sns\n",
    "import concurrent.futures\n",
    "from utils.helper import *\n",
    "# from app.utils.helper import *\n",
    "import gc\n",
    "import time"
   ]
  },
  {
   "cell_type": "code",
   "execution_count": 3,
   "metadata": {},
   "outputs": [],
   "source": [
    "total_frameDepth = pd.DataFrame(columns=[\"datetime\",\"depthPCD\"])\n",
    "totalDepthFrame = []\n",
    "totalDepthFrameTimestamps = []"
   ]
  },
  {
   "cell_type": "code",
   "execution_count": 4,
   "metadata": {},
   "outputs": [],
   "source": [
    "with open(\"./datasets/depth_data/drone_2025-01-29_12_41_45_test_depth.pkl\", \"rb\") as f:\n",
    "    depthObj = pickle.load(f)"
   ]
  },
  {
   "cell_type": "code",
   "execution_count": 5,
   "metadata": {},
   "outputs": [
    {
     "data": {
      "text/plain": [
       "[[array([(-1.0291497 , -0.74916923, 1.9380001),\n",
       "         (-1.0259585 , -0.74916923, 1.9380001),\n",
       "         (-1.0227672 , -0.74916923, 1.9380001), ...,\n",
       "         ( 0.26567972,  0.20628215, 0.513    ),\n",
       "         ( 0.26652446,  0.20628215, 0.513    ),\n",
       "         ( 0.26736918,  0.20628215, 0.513    )],\n",
       "        dtype=[('f0', '<f4'), ('f1', '<f4'), ('f2', '<f4')]),\n",
       "  '2025-01-29 12:41:46.829741'],\n",
       " [array([(-1.0227773 , -0.74453044, 1.9260001),\n",
       "         (-1.0196059 , -0.74453044, 1.9260001),\n",
       "         (-1.0164343 , -0.74453044, 1.9260001), ...,\n",
       "         ( 0.2651618 ,  0.20588005, 0.512    ),\n",
       "         ( 0.26600492,  0.20588005, 0.512    ),\n",
       "         ( 0.266848  ,  0.20588005, 0.512    )],\n",
       "        dtype=[('f0', '<f4'), ('f1', '<f4'), ('f2', '<f4')]),\n",
       "  '2025-01-29 12:41:46.927161'],\n",
       " [array([(-1.019591  , -0.742211  , 1.9200001),\n",
       "         (-1.0164294 , -0.742211  , 1.9200001),\n",
       "         (-1.0132679 , -0.742211  , 1.9200001), ...,\n",
       "         ( 0.26567972,  0.20628215, 0.513    ),\n",
       "         ( 0.26652446,  0.20628215, 0.513    ),\n",
       "         ( 0.26736918,  0.20628215, 0.513    )],\n",
       "        dtype=[('f0', '<f4'), ('f1', '<f4'), ('f2', '<f4')]),\n",
       "  '2025-01-29 12:41:47.025932'],\n",
       " [array([(-1.0291497 , -0.74916923, 1.9380001 ),\n",
       "         (-1.0259585 , -0.74916923, 1.9380001 ),\n",
       "         (-1.0196007 , -0.74684983, 1.932     ), ...,\n",
       "         ( 0.2672334 ,  0.20748849, 0.51600003),\n",
       "         ( 0.2680831 ,  0.20748849, 0.51600003),\n",
       "         ( 0.26893276,  0.20748849, 0.51600003)],\n",
       "        dtype=[('f0', '<f4'), ('f1', '<f4'), ('f2', '<f4')]),\n",
       "  '2025-01-29 12:41:47.080467'],\n",
       " [array([(-1.0355221 , -0.753808  , 1.95     ),\n",
       "         (-1.0323112 , -0.753808  , 1.95     ),\n",
       "         (-1.0259337 , -0.7514887 , 1.9440001), ...,\n",
       "         ( 0.26775128,  0.20789059, 0.517    ),\n",
       "         ( 0.26860264,  0.20789059, 0.517    ),\n",
       "         ( 0.26945394,  0.20789059, 0.517    )],\n",
       "        dtype=[('f0', '<f4'), ('f1', '<f4'), ('f2', '<f4')]),\n",
       "  '2025-01-29 12:41:47.119968'],\n",
       " [array([(-1.0355221 , -0.753808  , 1.95 ),\n",
       "         (-1.0323112 , -0.753808  , 1.95 ),\n",
       "         (-1.0291001 , -0.753808  , 1.95 ), ...,\n",
       "         ( 0.2651618 ,  0.20588005, 0.512),\n",
       "         ( 0.26600492,  0.20588005, 0.512),\n",
       "         ( 0.266848  ,  0.20588005, 0.512)],\n",
       "        dtype=[('f0', '<f4'), ('f1', '<f4'), ('f2', '<f4')]),\n",
       "  '2025-01-29 12:41:47.168573'],\n",
       " [array([(-1.032336  , -0.7514887 , 1.9440001 ),\n",
       "         (-1.0291349 , -0.7514887 , 1.9440001 ),\n",
       "         (-1.0259337 , -0.7514887 , 1.9440001 ), ...,\n",
       "         ( 0.2672334 ,  0.20748849, 0.51600003),\n",
       "         ( 0.2680831 ,  0.20748849, 0.51600003),\n",
       "         ( 0.26893276,  0.20748849, 0.51600003)],\n",
       "        dtype=[('f0', '<f4'), ('f1', '<f4'), ('f2', '<f4')]),\n",
       "  '2025-01-29 12:41:47.214389'],\n",
       " [array([(-1.0227773 , -0.74453044, 1.9260001 ),\n",
       "         (-1.0196059 , -0.74453044, 1.9260001 ),\n",
       "         (-1.0164343 , -0.74453044, 1.9260001 ), ...,\n",
       "         ( 0.2672334 ,  0.20748849, 0.51600003),\n",
       "         ( 0.2680831 ,  0.20748849, 0.51600003),\n",
       "         ( 0.26893276,  0.20748849, 0.51600003)],\n",
       "        dtype=[('f0', '<f4'), ('f1', '<f4'), ('f2', '<f4')]),\n",
       "  '2025-01-29 12:41:47.262676'],\n",
       " [array([(-1.0392394 , -0.7565141 , 1.9570001),\n",
       "         (-1.036017  , -0.7565141 , 1.9570001),\n",
       "         (-1.0327944 , -0.7565141 , 1.9570001), ...,\n",
       "         ( 0.26567972,  0.20628215, 0.513    ),\n",
       "         ( 0.26652446,  0.20628215, 0.513    ),\n",
       "         ( 0.26736918,  0.20628215, 0.513    )],\n",
       "        dtype=[('f0', '<f4'), ('f1', '<f4'), ('f2', '<f4')]),\n",
       "  '2025-01-29 12:41:47.304238'],\n",
       " [array([(-1.0424256 , -0.7588334 , 1.963     ),\n",
       "         (-1.0391933 , -0.7588334 , 1.963     ),\n",
       "         (-1.0359608 , -0.7588334 , 1.963     ), ...,\n",
       "         ( 0.2667155 ,  0.20708638, 0.51500005),\n",
       "         ( 0.26756355,  0.20708638, 0.51500005),\n",
       "         ( 0.26841158,  0.20708638, 0.51500005)],\n",
       "        dtype=[('f0', '<f4'), ('f1', '<f4'), ('f2', '<f4')]),\n",
       "  '2025-01-29 12:41:47.353630'],\n",
       " [array([(-1.0259634 , -0.74684983, 1.932     ),\n",
       "         (-1.0227822 , -0.74684983, 1.932     ),\n",
       "         (-1.0164343 , -0.74453044, 1.9260001 ), ...,\n",
       "         ( 0.2672334 ,  0.20748849, 0.51600003),\n",
       "         ( 0.2680831 ,  0.20748849, 0.51600003),\n",
       "         ( 0.26893276,  0.20748849, 0.51600003)],\n",
       "        dtype=[('f0', '<f4'), ('f1', '<f4'), ('f2', '<f4')]),\n",
       "  '2025-01-29 12:41:47.400579'],\n",
       " [array([(-1.0355221 , -0.753808  , 1.95     ),\n",
       "         (-1.0323112 , -0.753808  , 1.95     ),\n",
       "         (-1.0259337 , -0.7514887 , 1.9440001), ...,\n",
       "         ( 0.26567972,  0.20628215, 0.513    ),\n",
       "         ( 0.26652446,  0.20628215, 0.513    ),\n",
       "         ( 0.26736918,  0.20628215, 0.513    )],\n",
       "        dtype=[('f0', '<f4'), ('f1', '<f4'), ('f2', '<f4')]),\n",
       "  '2025-01-29 12:41:47.445595'],\n",
       " [array([(-1.032336  , -0.7514887 , 1.9440001 ),\n",
       "         (-1.0291349 , -0.7514887 , 1.9440001 ),\n",
       "         (-1.0259337 , -0.7514887 , 1.9440001 ), ...,\n",
       "         ( 0.2667155 ,  0.20708638, 0.51500005),\n",
       "         ( 0.26756355,  0.20708638, 0.51500005),\n",
       "         ( 0.26841158,  0.20708638, 0.51500005)],\n",
       "        dtype=[('f0', '<f4'), ('f1', '<f4'), ('f2', '<f4')]),\n",
       "  '2025-01-29 12:41:47.488432'],\n",
       " [array([(-1.0227773 , -0.74453044, 1.9260001),\n",
       "         (-1.0196059 , -0.74453044, 1.9260001),\n",
       "         (-1.0132679 , -0.742211  , 1.9200001), ...,\n",
       "         ( 0.2661976 ,  0.20668425, 0.514    ),\n",
       "         ( 0.267044  ,  0.20668425, 0.514    ),\n",
       "         ( 0.26789036,  0.20668425, 0.514    )],\n",
       "        dtype=[('f0', '<f4'), ('f1', '<f4'), ('f2', '<f4')]),\n",
       "  '2025-01-29 12:41:47.534417'],\n",
       " [array([(-1.032336  , -0.7514887 , 1.9440001),\n",
       "         (-1.0291349 , -0.7514887 , 1.9440001),\n",
       "         (-1.0259337 , -0.7514887 , 1.9440001), ...,\n",
       "         ( 0.26567972,  0.20628215, 0.513    ),\n",
       "         ( 0.26652446,  0.20628215, 0.513    ),\n",
       "         ( 0.26736918,  0.20628215, 0.513    )],\n",
       "        dtype=[('f0', '<f4'), ('f1', '<f4'), ('f2', '<f4')]),\n",
       "  '2025-01-29 12:41:47.595027'],\n",
       " [array([(-1.0355221 , -0.753808  , 1.95     ),\n",
       "         (-1.0323112 , -0.753808  , 1.95     ),\n",
       "         (-1.0259337 , -0.7514887 , 1.9440001), ...,\n",
       "         ( 0.2661976 ,  0.20668425, 0.514    ),\n",
       "         ( 0.267044  ,  0.20668425, 0.514    ),\n",
       "         ( 0.26789036,  0.20668425, 0.514    )],\n",
       "        dtype=[('f0', '<f4'), ('f1', '<f4'), ('f2', '<f4')]),\n",
       "  '2025-01-29 12:41:47.644495'],\n",
       " [array([(-1.0392394 , -0.7565141 , 1.9570001),\n",
       "         (-1.036017  , -0.7565141 , 1.9570001),\n",
       "         (-1.0327944 , -0.7565141 , 1.9570001), ...,\n",
       "         ( 0.26567972,  0.20628215, 0.513    ),\n",
       "         ( 0.26652446,  0.20628215, 0.513    ),\n",
       "         ( 0.26736918,  0.20628215, 0.513    )],\n",
       "        dtype=[('f0', '<f4'), ('f1', '<f4'), ('f2', '<f4')]),\n",
       "  '2025-01-29 12:41:47.688930'],\n",
       " [array([(-1.0291497 , -0.74916923, 1.9380001),\n",
       "         (-1.0259585 , -0.74916923, 1.9380001),\n",
       "         (-1.0227672 , -0.74916923, 1.9380001), ...,\n",
       "         ( 0.2651618 ,  0.20588005, 0.512    ),\n",
       "         ( 0.26600492,  0.20588005, 0.512    ),\n",
       "         ( 0.266848  ,  0.20588005, 0.512    )],\n",
       "        dtype=[('f0', '<f4'), ('f1', '<f4'), ('f2', '<f4')]),\n",
       "  '2025-01-29 12:41:47.733684'],\n",
       " [array([(-1.0291497 , -0.74916923, 1.9380001),\n",
       "         (-1.0259585 , -0.74916923, 1.9380001),\n",
       "         (-1.0227672 , -0.74916923, 1.9380001), ...,\n",
       "         ( 0.2651618 ,  0.20588005, 0.512    ),\n",
       "         ( 0.26600492,  0.20588005, 0.512    ),\n",
       "         ( 0.266848  ,  0.20588005, 0.512    )],\n",
       "        dtype=[('f0', '<f4'), ('f1', '<f4'), ('f2', '<f4')]),\n",
       "  '2025-01-29 12:41:47.780611'],\n",
       " [array([(-1.0227773 , -0.74453044, 1.9260001),\n",
       "         (-1.0196059 , -0.74453044, 1.9260001),\n",
       "         (-1.0101013 , -0.7398916 , 1.914    ), ...,\n",
       "         ( 0.2651618 ,  0.20588005, 0.512    ),\n",
       "         ( 0.26600492,  0.20588005, 0.512    ),\n",
       "         ( 0.266848  ,  0.20588005, 0.512    )],\n",
       "        dtype=[('f0', '<f4'), ('f1', '<f4'), ('f2', '<f4')]),\n",
       "  '2025-01-29 12:41:47.821989'],\n",
       " [array([(-1.032336  , -0.7514887 , 1.9440001),\n",
       "         (-1.0291349 , -0.7514887 , 1.9440001),\n",
       "         (-1.0227672 , -0.74916923, 1.9380001), ...,\n",
       "         ( 0.2661976 ,  0.20668425, 0.514    ),\n",
       "         ( 0.267044  ,  0.20668425, 0.514    ),\n",
       "         ( 0.26789036,  0.20668425, 0.514    )],\n",
       "        dtype=[('f0', '<f4'), ('f1', '<f4'), ('f2', '<f4')]),\n",
       "  '2025-01-29 12:41:47.867166'],\n",
       " [array([(-1.0291497 , -0.74916923, 1.9380001),\n",
       "         (-1.0259585 , -0.74916923, 1.9380001),\n",
       "         (-1.0164343 , -0.74453044, 1.9260001), ...,\n",
       "         ( 0.26567972,  0.20628215, 0.513    ),\n",
       "         ( 0.26652446,  0.20628215, 0.513    ),\n",
       "         ( 0.26736918,  0.20628215, 0.513    )],\n",
       "        dtype=[('f0', '<f4'), ('f1', '<f4'), ('f2', '<f4')]),\n",
       "  '2025-01-29 12:41:47.904549'],\n",
       " [array([(-1.0392394 , -0.7565141 , 1.9570001),\n",
       "         (-1.036017  , -0.7565141 , 1.9570001),\n",
       "         (-1.0327944 , -0.7565141 , 1.9570001), ...,\n",
       "         ( 0.26567972,  0.20628215, 0.513    ),\n",
       "         ( 0.26652446,  0.20628215, 0.513    ),\n",
       "         ( 0.26736918,  0.20628215, 0.513    )],\n",
       "        dtype=[('f0', '<f4'), ('f1', '<f4'), ('f2', '<f4')]),\n",
       "  '2025-01-29 12:41:47.945640'],\n",
       " [array([(-1.0227773 , -0.74453044, 1.9260001),\n",
       "         (-1.0196059 , -0.74453044, 1.9260001),\n",
       "         (-1.0132679 , -0.742211  , 1.9200001), ...,\n",
       "         ( 0.2661976 ,  0.20668425, 0.514    ),\n",
       "         ( 0.267044  ,  0.20668425, 0.514    ),\n",
       "         ( 0.26789036,  0.20668425, 0.514    )],\n",
       "        dtype=[('f0', '<f4'), ('f1', '<f4'), ('f2', '<f4')]),\n",
       "  '2025-01-29 12:41:47.986439'],\n",
       " [array([(-1.032336  , -0.7514887 , 1.9440001 ),\n",
       "         (-1.0291349 , -0.7514887 , 1.9440001 ),\n",
       "         (-1.0196007 , -0.74684983, 1.932     ), ...,\n",
       "         ( 0.2667155 ,  0.20708638, 0.51500005),\n",
       "         ( 0.26756355,  0.20708638, 0.51500005),\n",
       "         ( 0.26841158,  0.20708638, 0.51500005)],\n",
       "        dtype=[('f0', '<f4'), ('f1', '<f4'), ('f2', '<f4')]),\n",
       "  '2025-01-29 12:41:48.025351'],\n",
       " [array([(-1.0164047 , -0.7398916 , 1.914),\n",
       "         (-1.0132531 , -0.7398916 , 1.914),\n",
       "         (-1.0101013 , -0.7398916 , 1.914), ...,\n",
       "         ( 0.26567972,  0.20628215, 0.513),\n",
       "         ( 0.26652446,  0.20628215, 0.513),\n",
       "         ( 0.26736918,  0.20628215, 0.513)],\n",
       "        dtype=[('f0', '<f4'), ('f1', '<f4'), ('f2', '<f4')]),\n",
       "  '2025-01-29 12:41:48.067510'],\n",
       " [array([(-1.0355221 , -0.753808  , 1.95      ),\n",
       "         (-1.0323112 , -0.753808  , 1.95      ),\n",
       "         (-1.0291001 , -0.753808  , 1.95      ), ...,\n",
       "         ( 0.2667155 ,  0.20708638, 0.51500005),\n",
       "         ( 0.26756355,  0.20708638, 0.51500005),\n",
       "         ( 0.26841158,  0.20708638, 0.51500005)],\n",
       "        dtype=[('f0', '<f4'), ('f1', '<f4'), ('f2', '<f4')]),\n",
       "  '2025-01-29 12:41:48.104099'],\n",
       " [array([(-1.0355221 , -0.753808  , 1.95 ),\n",
       "         (-1.0323112 , -0.753808  , 1.95 ),\n",
       "         (-1.0291001 , -0.753808  , 1.95 ), ...,\n",
       "         ( 0.26775128,  0.20789059, 0.517),\n",
       "         ( 0.26860264,  0.20789059, 0.517),\n",
       "         ( 0.26945394,  0.20789059, 0.517)],\n",
       "        dtype=[('f0', '<f4'), ('f1', '<f4'), ('f2', '<f4')]),\n",
       "  '2025-01-29 12:41:48.152540'],\n",
       " [array([(-1.0259634 , -0.74684983, 1.932),\n",
       "         (-1.0227822 , -0.74684983, 1.932),\n",
       "         (-1.0196007 , -0.74684983, 1.932), ...,\n",
       "         ( 0.2661976 ,  0.20668425, 0.514),\n",
       "         ( 0.267044  ,  0.20668425, 0.514),\n",
       "         ( 0.26789036,  0.20668425, 0.514)],\n",
       "        dtype=[('f0', '<f4'), ('f1', '<f4'), ('f2', '<f4')]),\n",
       "  '2025-01-29 12:41:48.208631'],\n",
       " [array([(-1.0227773 , -0.74453044, 1.9260001),\n",
       "         (-1.0196059 , -0.74453044, 1.9260001),\n",
       "         (-1.0164343 , -0.74453044, 1.9260001), ...,\n",
       "         ( 0.2661976 ,  0.20668425, 0.514    ),\n",
       "         ( 0.267044  ,  0.20668425, 0.514    ),\n",
       "         ( 0.26789036,  0.20668425, 0.514    )],\n",
       "        dtype=[('f0', '<f4'), ('f1', '<f4'), ('f2', '<f4')]),\n",
       "  '2025-01-29 12:41:48.245368'],\n",
       " [array([(-1.032336  , -0.7514887 , 1.9440001 ),\n",
       "         (-1.0291349 , -0.7514887 , 1.9440001 ),\n",
       "         (-1.0196007 , -0.74684983, 1.932     ), ...,\n",
       "         ( 0.2667155 ,  0.20708638, 0.51500005),\n",
       "         ( 0.2680831 ,  0.20748849, 0.51600003),\n",
       "         ( 0.26893276,  0.20748849, 0.51600003)],\n",
       "        dtype=[('f0', '<f4'), ('f1', '<f4'), ('f2', '<f4')]),\n",
       "  '2025-01-29 12:41:48.286645'],\n",
       " [array([(-1.032336  , -0.7514887 , 1.9440001),\n",
       "         (-1.0291349 , -0.7514887 , 1.9440001),\n",
       "         (-1.0259337 , -0.7514887 , 1.9440001), ...,\n",
       "         ( 0.2651618 ,  0.20588005, 0.512    ),\n",
       "         ( 0.26600492,  0.20588005, 0.512    ),\n",
       "         ( 0.266848  ,  0.20588005, 0.512    )],\n",
       "        dtype=[('f0', '<f4'), ('f1', '<f4'), ('f2', '<f4')]),\n",
       "  '2025-01-29 12:41:48.328274'],\n",
       " [array([(-1.0259634 , -0.74684983, 1.932),\n",
       "         (-1.0227822 , -0.74684983, 1.932),\n",
       "         (-1.0196007 , -0.74684983, 1.932), ...,\n",
       "         ( 0.2651618 ,  0.20588005, 0.512),\n",
       "         ( 0.26600492,  0.20588005, 0.512),\n",
       "         ( 0.266848  ,  0.20588005, 0.512)],\n",
       "        dtype=[('f0', '<f4'), ('f1', '<f4'), ('f2', '<f4')]),\n",
       "  '2025-01-29 12:41:48.375267'],\n",
       " [array([(-1.019591  , -0.742211  , 1.9200001 ),\n",
       "         (-1.0164294 , -0.742211  , 1.9200001 ),\n",
       "         (-1.0101013 , -0.7398916 , 1.914     ), ...,\n",
       "         ( 0.2667155 ,  0.20708638, 0.51500005),\n",
       "         ( 0.26756355,  0.20708638, 0.51500005),\n",
       "         ( 0.26841158,  0.20708638, 0.51500005)],\n",
       "        dtype=[('f0', '<f4'), ('f1', '<f4'), ('f2', '<f4')]),\n",
       "  '2025-01-29 12:41:48.417860'],\n",
       " [array([(-1.0392394 , -0.7565141 , 1.9570001 ),\n",
       "         (-1.036017  , -0.7565141 , 1.9570001 ),\n",
       "         (-1.0327944 , -0.7565141 , 1.9570001 ), ...,\n",
       "         ( 0.2667155 ,  0.20708638, 0.51500005),\n",
       "         ( 0.26756355,  0.20708638, 0.51500005),\n",
       "         ( 0.26841158,  0.20708638, 0.51500005)],\n",
       "        dtype=[('f0', '<f4'), ('f1', '<f4'), ('f2', '<f4')]),\n",
       "  '2025-01-29 12:41:48.458860'],\n",
       " [array([(-1.0291497 , -0.74916923, 1.9380001),\n",
       "         (-1.0259585 , -0.74916923, 1.9380001),\n",
       "         (-1.0196007 , -0.74684983, 1.932    ), ...,\n",
       "         ( 0.2651618 ,  0.20588005, 0.512    ),\n",
       "         ( 0.26600492,  0.20588005, 0.512    ),\n",
       "         ( 0.266848  ,  0.20588005, 0.512    )],\n",
       "        dtype=[('f0', '<f4'), ('f1', '<f4'), ('f2', '<f4')]),\n",
       "  '2025-01-29 12:41:48.502417'],\n",
       " [array([(-1.0355221 , -0.753808  , 1.95 ),\n",
       "         (-1.0323112 , -0.753808  , 1.95 ),\n",
       "         (-1.0291001 , -0.753808  , 1.95 ), ...,\n",
       "         ( 0.26567972,  0.20628215, 0.513),\n",
       "         ( 0.26652446,  0.20628215, 0.513),\n",
       "         ( 0.26736918,  0.20628215, 0.513)],\n",
       "        dtype=[('f0', '<f4'), ('f1', '<f4'), ('f2', '<f4')]),\n",
       "  '2025-01-29 12:41:48.541178'],\n",
       " [array([(-1.0291497 , -0.74916923, 1.9380001),\n",
       "         (-1.0259585 , -0.74916923, 1.9380001),\n",
       "         (-1.0227672 , -0.74916923, 1.9380001), ...,\n",
       "         ( 0.2651618 ,  0.20588005, 0.512    ),\n",
       "         ( 0.26600492,  0.20588005, 0.512    ),\n",
       "         ( 0.266848  ,  0.20588005, 0.512    )],\n",
       "        dtype=[('f0', '<f4'), ('f1', '<f4'), ('f2', '<f4')]),\n",
       "  '2025-01-29 12:41:48.581933'],\n",
       " [array([(-1.0291497 , -0.74916923, 1.9380001 ),\n",
       "         (-1.0259585 , -0.74916923, 1.9380001 ),\n",
       "         (-1.0227672 , -0.74916923, 1.9380001 ), ...,\n",
       "         ( 0.26775128,  0.20789059, 0.517     ),\n",
       "         ( 0.2680831 ,  0.20748849, 0.51600003),\n",
       "         ( 0.26893276,  0.20748849, 0.51600003)],\n",
       "        dtype=[('f0', '<f4'), ('f1', '<f4'), ('f2', '<f4')]),\n",
       "  '2025-01-29 12:41:48.618109'],\n",
       " [array([(-1.0259634 , -0.74684983, 1.932     ),\n",
       "         (-1.0227822 , -0.74684983, 1.932     ),\n",
       "         (-1.0164343 , -0.74453044, 1.9260001 ), ...,\n",
       "         ( 0.2672334 ,  0.20748849, 0.51600003),\n",
       "         ( 0.2680831 ,  0.20748849, 0.51600003),\n",
       "         ( 0.26893276,  0.20748849, 0.51600003)],\n",
       "        dtype=[('f0', '<f4'), ('f1', '<f4'), ('f2', '<f4')]),\n",
       "  '2025-01-29 12:41:48.661149'],\n",
       " [array([(-1.0259634 , -0.74684983, 1.932),\n",
       "         (-1.0227822 , -0.74684983, 1.932),\n",
       "         (-1.0196007 , -0.74684983, 1.932), ...,\n",
       "         ( 0.2651618 ,  0.20588005, 0.512),\n",
       "         ( 0.26600492,  0.20588005, 0.512),\n",
       "         ( 0.266848  ,  0.20588005, 0.512)],\n",
       "        dtype=[('f0', '<f4'), ('f1', '<f4'), ('f2', '<f4')]),\n",
       "  '2025-01-29 12:41:48.708223'],\n",
       " [array([(-1.0259634 , -0.74684983, 1.932    ),\n",
       "         (-1.0227822 , -0.74684983, 1.932    ),\n",
       "         (-1.0164343 , -0.74453044, 1.9260001), ...,\n",
       "         ( 0.2651618 ,  0.20588005, 0.512    ),\n",
       "         ( 0.26600492,  0.20588005, 0.512    ),\n",
       "         ( 0.266848  ,  0.20588005, 0.512    )],\n",
       "        dtype=[('f0', '<f4'), ('f1', '<f4'), ('f2', '<f4')]),\n",
       "  '2025-01-29 12:41:48.752332'],\n",
       " [array([(-1.0291497 , -0.74916923, 1.9380001),\n",
       "         (-1.0259585 , -0.74916923, 1.9380001),\n",
       "         (-1.0227672 , -0.74916923, 1.9380001), ...,\n",
       "         ( 0.2661976 ,  0.20668425, 0.514    ),\n",
       "         ( 0.267044  ,  0.20668425, 0.514    ),\n",
       "         ( 0.26789036,  0.20668425, 0.514    )],\n",
       "        dtype=[('f0', '<f4'), ('f1', '<f4'), ('f2', '<f4')]),\n",
       "  '2025-01-29 12:41:48.791126'],\n",
       " [array([(-1.032336  , -0.7514887 , 1.9440001),\n",
       "         (-1.0291349 , -0.7514887 , 1.9440001),\n",
       "         (-1.0227672 , -0.74916923, 1.9380001), ...,\n",
       "         ( 0.26567972,  0.20628215, 0.513    ),\n",
       "         ( 0.26652446,  0.20628215, 0.513    ),\n",
       "         ( 0.26736918,  0.20628215, 0.513    )],\n",
       "        dtype=[('f0', '<f4'), ('f1', '<f4'), ('f2', '<f4')]),\n",
       "  '2025-01-29 12:41:48.829560'],\n",
       " [array([(-1.0355221 , -0.753808  , 1.95      ),\n",
       "         (-1.0323112 , -0.753808  , 1.95      ),\n",
       "         (-1.0291001 , -0.753808  , 1.95      ), ...,\n",
       "         ( 0.2672334 ,  0.20748849, 0.51600003),\n",
       "         ( 0.2680831 ,  0.20748849, 0.51600003),\n",
       "         ( 0.26893276,  0.20748849, 0.51600003)],\n",
       "        dtype=[('f0', '<f4'), ('f1', '<f4'), ('f2', '<f4')]),\n",
       "  '2025-01-29 12:41:48.869496'],\n",
       " [array([(-1.032336  , -0.7514887 , 1.9440001),\n",
       "         (-1.0291349 , -0.7514887 , 1.9440001),\n",
       "         (-1.0227672 , -0.74916923, 1.9380001), ...,\n",
       "         ( 0.2651618 ,  0.20588005, 0.512    ),\n",
       "         ( 0.26600492,  0.20588005, 0.512    ),\n",
       "         ( 0.266848  ,  0.20588005, 0.512    )],\n",
       "        dtype=[('f0', '<f4'), ('f1', '<f4'), ('f2', '<f4')]),\n",
       "  '2025-01-29 12:41:48.908654'],\n",
       " [array([(-1.032336  , -0.7514887 , 1.9440001 ),\n",
       "         (-1.0291349 , -0.7514887 , 1.9440001 ),\n",
       "         (-1.0227672 , -0.74916923, 1.9380001 ), ...,\n",
       "         ( 0.26464394,  0.20547794, 0.51100004),\n",
       "         ( 0.2654854 ,  0.20547794, 0.51100004),\n",
       "         ( 0.2663268 ,  0.20547794, 0.51100004)],\n",
       "        dtype=[('f0', '<f4'), ('f1', '<f4'), ('f2', '<f4')]),\n",
       "  '2025-01-29 12:41:48.952644'],\n",
       " [array([(-1.032336  , -0.7514887 , 1.9440001),\n",
       "         (-1.0291349 , -0.7514887 , 1.9440001),\n",
       "         (-1.0227672 , -0.74916923, 1.9380001), ...,\n",
       "         ( 0.2651618 ,  0.20588005, 0.512    ),\n",
       "         ( 0.26600492,  0.20588005, 0.512    ),\n",
       "         ( 0.266848  ,  0.20588005, 0.512    )],\n",
       "        dtype=[('f0', '<f4'), ('f1', '<f4'), ('f2', '<f4')]),\n",
       "  '2025-01-29 12:41:48.998474'],\n",
       " [array([(-1.0291497 , -0.74916923, 1.9380001),\n",
       "         (-1.0259585 , -0.74916923, 1.9380001),\n",
       "         (-1.0227672 , -0.74916923, 1.9380001), ...,\n",
       "         ( 0.2661976 ,  0.20668425, 0.514    ),\n",
       "         ( 0.267044  ,  0.20668425, 0.514    ),\n",
       "         ( 0.26789036,  0.20668425, 0.514    )],\n",
       "        dtype=[('f0', '<f4'), ('f1', '<f4'), ('f2', '<f4')]),\n",
       "  '2025-01-29 12:41:49.038036'],\n",
       " [array([(-1.0291497 , -0.74916923, 1.9380001),\n",
       "         (-1.0259585 , -0.74916923, 1.9380001),\n",
       "         (-1.0227672 , -0.74916923, 1.9380001), ...,\n",
       "         ( 0.2651618 ,  0.20588005, 0.512    ),\n",
       "         ( 0.26652446,  0.20628215, 0.513    ),\n",
       "         ( 0.26736918,  0.20628215, 0.513    )],\n",
       "        dtype=[('f0', '<f4'), ('f1', '<f4'), ('f2', '<f4')]),\n",
       "  '2025-01-29 12:41:49.077398']]"
      ]
     },
     "execution_count": 5,
     "metadata": {},
     "output_type": "execute_result"
    }
   ],
   "source": [
    "depthObj"
   ]
  },
  {
   "cell_type": "code",
   "execution_count": 6,
   "metadata": {},
   "outputs": [],
   "source": [
    "i=10\n",
    "x = depthObj[i][0]['f0']\n",
    "y = depthObj[i][0]['f1']\n",
    "z = depthObj[i][0]['f2']"
   ]
  },
  {
   "cell_type": "code",
   "execution_count": 7,
   "metadata": {},
   "outputs": [
    {
     "name": "stdout",
     "output_type": "stream",
     "text": [
      "[-1.0259634  -1.0227822  -1.0164343  ...  0.2672334   0.2680831\n",
      "  0.26893276]\n",
      "[-0.74684983 -0.74684983 -0.74453044 ...  0.20748849  0.20748849\n",
      "  0.20748849]\n",
      "[1.932      1.932      1.9260001  ... 0.51600003 0.51600003 0.51600003]\n"
     ]
    }
   ],
   "source": [
    "print(x)\n",
    "print(y)\n",
    "print(z)"
   ]
  },
  {
   "cell_type": "code",
   "execution_count": 8,
   "metadata": {},
   "outputs": [
    {
     "data": {
      "text/plain": [
       "array([[-1.0259634 , -1.0227822 , -1.0164343 , ...,  0.2672334 ,\n",
       "         0.2680831 ,  0.26893276],\n",
       "       [-0.74684983, -0.74684983, -0.74453044, ...,  0.20748849,\n",
       "         0.20748849,  0.20748849],\n",
       "       [ 1.932     ,  1.932     ,  1.9260001 , ...,  0.51600003,\n",
       "         0.51600003,  0.51600003]], dtype=float32)"
      ]
     },
     "execution_count": 8,
     "metadata": {},
     "output_type": "execute_result"
    }
   ],
   "source": [
    "frame = np.array([x, y, z])\n",
    "frame"
   ]
  },
  {
   "cell_type": "code",
   "execution_count": 9,
   "metadata": {},
   "outputs": [
    {
     "data": {
      "text/plain": [
       "array([[-1.0259634 , -0.74684983,  1.932     ],\n",
       "       [-1.0227822 , -0.74684983,  1.932     ],\n",
       "       [-1.0164343 , -0.74453044,  1.9260001 ],\n",
       "       ...,\n",
       "       [ 0.2672334 ,  0.20748849,  0.51600003],\n",
       "       [ 0.2680831 ,  0.20748849,  0.51600003],\n",
       "       [ 0.26893276,  0.20748849,  0.51600003]], dtype=float32)"
      ]
     },
     "execution_count": 9,
     "metadata": {},
     "output_type": "execute_result"
    }
   ],
   "source": [
    "frameT = np.array([x, y, z]).T\n",
    "frameT"
   ]
  },
  {
   "cell_type": "code",
   "execution_count": 35,
   "metadata": {},
   "outputs": [],
   "source": [
    "x, y, z = frame[0, :], frame[1, :], frame[2, :]"
   ]
  },
  {
   "cell_type": "code",
   "execution_count": 11,
   "metadata": {},
   "outputs": [],
   "source": [
    "x, z, y = frame[0, :], frame[1, :], frame[2, :]"
   ]
  },
  {
   "cell_type": "code",
   "execution_count": 12,
   "metadata": {},
   "outputs": [
    {
     "name": "stderr",
     "output_type": "stream",
     "text": [
      "/tmp/ipykernel_1055439/1310843871.py:3: UserWarning: No data for colormapping provided via 'c'. Parameters 'cmap' will be ignored\n",
      "  ax.scatter(x, y, z, cmap='viridus', s=1, label=\"Depth Point Cloud\")\n"
     ]
    },
    {
     "data": {
      "image/png": "[encoded data removed]",
      "text/plain": [
       "<Figure size 800x600 with 1 Axes>"
      ]
     },
     "metadata": {},
     "output_type": "display_data"
    }
   ],
   "source": [
    "fig = plt.figure(figsize=(8, 6))\n",
    "ax = fig.add_subplot(111, projection='3d')\n",
    "ax.scatter(x, y, z, cmap='viridus', s=1, label=\"Depth Point Cloud\")\n",
    "ax.set_xlabel('X')\n",
    "ax.set_ylabel('Y')\n",
    "ax.set_zlabel('Z')\n",
    "ax.set_title('3D Point Cloud Visualization')\n",
    "ax.legend()\n",
    "plt.savefig(f\"d1.png\", dpi=300, bbox_inches='tight')\n",
    "\n",
    "plt.show()"
   ]
  },
  {
   "cell_type": "code",
   "execution_count": 39,
   "metadata": {},
   "outputs": [],
   "source": [
    "x, y, z = frameT[:,0], frameT[:,1], frameT[:,2]"
   ]
  },
  {
   "cell_type": "code",
   "execution_count": 40,
   "metadata": {},
   "outputs": [
    {
     "data": {
      "image/png": "[encoded data removed]",
      "text/plain": [
       "<Figure size 800x600 with 1 Axes>"
      ]
     },
     "metadata": {},
     "output_type": "display_data"
    }
   ],
   "source": [
    "fig = plt.figure(figsize=(8, 6))\n",
    "ax = fig.add_subplot(111, projection='3d')\n",
    "\n",
    "# Plot points\n",
    "ax.scatter(x, y, z, c='blue', marker='o', s=1, label=\"Point Cloud\")\n",
    "\n",
    "# Labels and title\n",
    "ax.set_xlabel('X')\n",
    "ax.set_ylabel('Y')\n",
    "ax.set_zlabel('Z')\n",
    "ax.set_title('3D Point Cloud Visualization')\n",
    "ax.legend()\n",
    "plt.show()"
   ]
  },
  {
   "cell_type": "code",
   "execution_count": 45,
   "metadata": {},
   "outputs": [],
   "source": [
    "folderPath = processedDataFolder_name + \"visualization/testResultAll/\"\n",
    "all_files = os.listdir(folderPath)\n",
    "\n",
    "predImages = [file for file in all_files if file.endswith('.png') and file.startswith(\"2025\")]\n"
   ]
  },
  {
   "cell_type": "code",
   "execution_count": 46,
   "metadata": {},
   "outputs": [
    {
     "data": {
      "text/plain": [
       "['2025-01-29 12:42:59.789583_mmwave.mat.png',\n",
       " '2025-01-29 12:42:26.178795_mmwave.mat.png',\n",
       " '2025-01-29 12:42:26.810417_mmwave.mat.png',\n",
       " '2025-01-29 12:41:48.410860_mmwave.mat.png',\n",
       " '2025-01-29 12:42:39.337433_mmwave.mat.png',\n",
       " '2025-01-29 12:42:12.991434_mmwave.mat.png',\n",
       " '2025-01-29 12:42:51.982066_mmwave.mat.png',\n",
       " '2025-01-29 12:42:11.809286_mmwave.mat.png',\n",
       " '2025-01-29 12:41:50.182913_mmwave.mat.png',\n",
       " '2025-01-29 12:42:27.875552_mmwave.mat.png',\n",
       " '2025-01-29 12:43:06.810315_mmwave.mat.png',\n",
       " '2025-01-29 12:42:27.197853_mmwave.mat.png',\n",
       " '2025-01-29 12:42:27.594033_mmwave.mat.png',\n",
       " '2025-01-29 12:41:48.612145_mmwave.mat.png',\n",
       " '2025-01-29 12:43:00.393387_mmwave.mat.png',\n",
       " '2025-01-29 12:42:12.790978_mmwave.mat.png',\n",
       " '2025-01-29 12:41:47.015956_mmwave.mat.png',\n",
       " '2025-01-29 12:43:12.226335_mmwave.mat.png',\n",
       " '2025-01-29 12:43:06.583838_mmwave.mat.png',\n",
       " '2025-01-29 12:43:00.791083_mmwave.mat.png',\n",
       " '2025-01-29 12:41:47.207420_mmwave.mat.png',\n",
       " '2025-01-29 12:42:27.411360_mmwave.mat.png',\n",
       " '2025-01-29 12:42:59.182819_mmwave.mat.png',\n",
       " '2025-01-29 12:42:41.219938_mmwave.mat.png',\n",
       " '2025-01-29 12:43:22.810292_mmwave.mat.png',\n",
       " '2025-01-29 12:43:05.417367_mmwave.mat.png',\n",
       " '2025-01-29 12:43:22.612602_mmwave.mat.png',\n",
       " '2025-01-29 12:43:05.802788_mmwave.mat.png',\n",
       " '2025-01-29 12:43:05.584665_mmwave.mat.png',\n",
       " '2025-01-29 12:42:40.817329_mmwave.mat.png',\n",
       " '2025-01-29 12:42:26.413888_mmwave.mat.png',\n",
       " '2025-01-29 12:43:11.397566_mmwave.mat.png',\n",
       " '2025-01-29 12:43:00.018824_mmwave.mat.png',\n",
       " '2025-01-29 12:43:16.999124_mmwave.mat.png',\n",
       " '2025-01-29 12:43:23.204997_mmwave.mat.png',\n",
       " '2025-01-29 12:43:16.782727_mmwave.mat.png',\n",
       " '2025-01-29 12:43:05.196885_mmwave.mat.png',\n",
       " '2025-01-29 12:41:55.503055_mmwave.mat.png',\n",
       " '2025-01-29 12:43:21.598895_mmwave.mat.png',\n",
       " '2025-01-29 12:43:22.986222_mmwave.mat.png',\n",
       " '2025-01-29 12:41:53.199948_mmwave.mat.png',\n",
       " '2025-01-29 12:43:00.185282_mmwave.mat.png',\n",
       " '2025-01-29 12:41:49.108362_mmwave.mat.png',\n",
       " '2025-01-29 12:42:12.181927_mmwave.mat.png',\n",
       " '2025-01-29 12:41:51.804164_mmwave.mat.png',\n",
       " '2025-01-29 12:43:21.988306_mmwave.mat.png',\n",
       " '2025-01-29 12:43:05.015071_mmwave.mat.png',\n",
       " '2025-01-29 12:43:15.988721_mmwave.mat.png',\n",
       " '2025-01-29 12:42:59.408590_mmwave.mat.png',\n",
       " '2025-01-29 12:42:59.020845_mmwave.mat.png',\n",
       " '2025-01-29 12:43:11.607272_mmwave.mat.png',\n",
       " '2025-01-29 12:41:48.198463_mmwave.mat.png',\n",
       " '2025-01-29 12:43:15.781539_mmwave.mat.png',\n",
       " '2025-01-29 12:42:52.620941_mmwave.mat.png',\n",
       " '2025-01-29 12:43:00.622096_mmwave.mat.png',\n",
       " '2025-01-29 12:41:50.676601_mmwave.mat.png',\n",
       " '2025-01-29 12:43:06.409176_mmwave.mat.png',\n",
       " '2025-01-29 12:42:13.637543_mmwave.mat.png',\n",
       " '2025-01-29 12:43:17.592674_mmwave.mat.png',\n",
       " '2025-01-29 12:42:51.795147_mmwave.mat.png',\n",
       " '2025-01-29 12:41:57.985502_mmwave.mat.png',\n",
       " '2025-01-29 12:43:16.413173_mmwave.mat.png',\n",
       " '2025-01-29 12:42:11.586344_mmwave.mat.png',\n",
       " '2025-01-29 12:42:53.015732_mmwave.mat.png',\n",
       " '2025-01-29 12:42:40.197412_mmwave.mat.png',\n",
       " '2025-01-29 12:43:01.008513_mmwave.mat.png',\n",
       " '2025-01-29 12:43:21.562521_mmwave.mat.png',\n",
       " '2025-01-29 12:43:10.609262_mmwave.mat.png',\n",
       " '2025-01-29 12:42:52.809311_mmwave.mat.png',\n",
       " '2025-01-29 12:42:11.427440_mmwave.mat.png',\n",
       " '2025-01-29 12:41:57.808725_mmwave.mat.png',\n",
       " '2025-01-29 12:43:10.393062_mmwave.mat.png',\n",
       " '2025-01-29 12:41:57.203818_mmwave.mat.png',\n",
       " '2025-01-29 12:43:11.787868_mmwave.mat.png',\n",
       " '2025-01-29 12:41:52.208266_mmwave.mat.png',\n",
       " '2025-01-29 12:42:51.757623_mmwave.mat.png',\n",
       " '2025-01-29 12:42:27.799003_mmwave.mat.png',\n",
       " '2025-01-29 12:41:54.880809_mmwave.mat.png',\n",
       " '2025-01-29 12:41:57.379422_mmwave.mat.png',\n",
       " '2025-01-29 12:42:13.593513_mmwave.mat.png',\n",
       " '2025-01-29 12:41:53.600438_mmwave.mat.png',\n",
       " '2025-01-29 12:41:47.582974_mmwave.mat.png',\n",
       " '2025-01-29 12:41:55.263299_mmwave.mat.png',\n",
       " '2025-01-29 12:41:47.815953_mmwave.mat.png',\n",
       " '2025-01-29 12:41:58.186889_mmwave.mat.png',\n",
       " '2025-01-29 12:41:58.392661_mmwave.mat.png',\n",
       " '2025-01-29 12:42:53.405591_mmwave.mat.png',\n",
       " '2025-01-29 12:41:53.993924_mmwave.mat.png',\n",
       " '2025-01-29 12:42:12.010124_mmwave.mat.png',\n",
       " '2025-01-29 12:41:51.382525_mmwave.mat.png',\n",
       " '2025-01-29 12:41:52.005440_mmwave.mat.png',\n",
       " '2025-01-29 12:41:54.802474_mmwave.mat.png',\n",
       " '2025-01-29 12:41:48.992008_mmwave.mat.png',\n",
       " '2025-01-29 12:43:04.805395_mmwave.mat.png',\n",
       " '2025-01-29 12:42:12.391245_mmwave.mat.png',\n",
       " '2025-01-29 12:43:22.215302_mmwave.mat.png',\n",
       " '2025-01-29 12:41:58.785856_mmwave.mat.png',\n",
       " '2025-01-29 12:42:59.616948_mmwave.mat.png',\n",
       " '2025-01-29 12:43:06.199806_mmwave.mat.png',\n",
       " '2025-01-29 12:43:11.196450_mmwave.mat.png',\n",
       " '2025-01-29 12:42:40.997804_mmwave.mat.png',\n",
       " '2025-01-29 12:43:17.409159_mmwave.mat.png',\n",
       " '2025-01-29 12:42:13.191316_mmwave.mat.png',\n",
       " '2025-01-29 12:42:53.195721_mmwave.mat.png',\n",
       " '2025-01-29 12:41:46.783143_mmwave.mat.png',\n",
       " '2025-01-29 12:42:26.592753_mmwave.mat.png',\n",
       " '2025-01-29 12:41:53.798994_mmwave.mat.png',\n",
       " '2025-01-29 12:41:55.409610_mmwave.mat.png',\n",
       " '2025-01-29 12:43:10.348386_mmwave.mat.png',\n",
       " '2025-01-29 12:42:11.284397_mmwave.mat.png',\n",
       " '2025-01-29 12:43:17.213918_mmwave.mat.png',\n",
       " '2025-01-29 12:41:50.994749_mmwave.mat.png',\n",
       " '2025-01-29 12:43:21.785613_mmwave.mat.png',\n",
       " '2025-01-29 12:41:47.394090_mmwave.mat.png',\n",
       " '2025-01-29 12:41:48.784295_mmwave.mat.png',\n",
       " '2025-01-29 12:41:54.386033_mmwave.mat.png',\n",
       " '2025-01-29 12:41:54.207954_mmwave.mat.png',\n",
       " '2025-01-29 12:43:23.416424_mmwave.mat.png',\n",
       " '2025-01-29 12:42:52.195573_mmwave.mat.png',\n",
       " '2025-01-29 12:42:53.661150_mmwave.mat.png',\n",
       " '2025-01-29 12:42:26.985961_mmwave.mat.png',\n",
       " '2025-01-29 12:42:39.596103_mmwave.mat.png',\n",
       " '2025-01-29 12:41:51.200103_mmwave.mat.png',\n",
       " '2025-01-29 12:41:53.406368_mmwave.mat.png',\n",
       " '2025-01-29 12:41:51.595210_mmwave.mat.png',\n",
       " '2025-01-29 12:42:39.990115_mmwave.mat.png',\n",
       " '2025-01-29 12:41:57.609898_mmwave.mat.png',\n",
       " '2025-01-29 12:42:25.985604_mmwave.mat.png',\n",
       " '2025-01-29 12:43:16.589832_mmwave.mat.png',\n",
       " '2025-01-29 12:41:50.393645_mmwave.mat.png',\n",
       " '2025-01-29 12:43:11.007367_mmwave.mat.png',\n",
       " '2025-01-29 12:43:10.788378_mmwave.mat.png',\n",
       " '2025-01-29 12:41:58.594413_mmwave.mat.png',\n",
       " '2025-01-29 12:43:22.399118_mmwave.mat.png',\n",
       " '2025-01-29 12:41:49.918204_mmwave.mat.png',\n",
       " '2025-01-29 12:41:49.981181_mmwave.mat.png',\n",
       " '2025-01-29 12:43:16.204439_mmwave.mat.png',\n",
       " '2025-01-29 12:42:39.802411_mmwave.mat.png',\n",
       " '2025-01-29 12:41:50.815155_mmwave.mat.png',\n",
       " '2025-01-29 12:42:39.406173_mmwave.mat.png',\n",
       " '2025-01-29 12:41:57.020201_mmwave.mat.png',\n",
       " '2025-01-29 12:43:06.946883_mmwave.mat.png',\n",
       " '2025-01-29 12:42:13.415890_mmwave.mat.png',\n",
       " '2025-01-29 12:43:05.994367_mmwave.mat.png',\n",
       " '2025-01-29 12:42:58.807399_mmwave.mat.png',\n",
       " '2025-01-29 12:41:48.018103_mmwave.mat.png',\n",
       " '2025-01-29 12:43:11.977221_mmwave.mat.png',\n",
       " '2025-01-29 12:42:40.405053_mmwave.mat.png',\n",
       " '2025-01-29 12:42:52.415171_mmwave.mat.png',\n",
       " '2025-01-29 12:42:40.590853_mmwave.mat.png',\n",
       " '2025-01-29 12:41:54.592491_mmwave.mat.png',\n",
       " '2025-01-29 12:42:12.588267_mmwave.mat.png',\n",
       " '2025-01-29 12:42:53.585167_mmwave.mat.png']"
      ]
     },
     "execution_count": 46,
     "metadata": {},
     "output_type": "execute_result"
    }
   ],
   "source": [
    "predImages"
   ]
  },
  {
   "cell_type": "code",
   "execution_count": 23,
   "metadata": {},
   "outputs": [],
   "source": [
    "import scipy.io\n",
    "\n",
    "resultMatFolderPath = processedDataFolder_name + \"outputDroneAll/\"\n",
    "# current_datetime = datetime.now().strftime(\"%Y-%m-%d_%H-%M-%S\")\n",
    "timeDir = processedDataFolder_name.split(\"/\")[-2]\n",
    "#enable it when multiple test scenios required\n",
    "# folder_path = os.path.join(resultMatFolderPath, timeDir)\n",
    "folder_path = resultMatFolderPath"
   ]
  },
  {
   "cell_type": "code",
   "execution_count": 24,
   "metadata": {},
   "outputs": [
    {
     "name": "stdout",
     "output_type": "stream",
     "text": [
      "Folder './processedData/2025-02-01_14-28-44/visualization/testResultAll' already exists.\n"
     ]
    },
    {
     "name": "stderr",
     "output_type": "stream",
     "text": [
      "Plotting .mat files: 100%|██████████| 685/685 [00:00<00:00, 950.55it/s, file=2024-10-02 20:21:21.213018_mmwave.mat] \n"
     ]
    }
   ],
   "source": [
    "all_files = os.listdir(resultMatFolderPath)\n",
    "folder_path = processedDataFolder_name + \"visualization/testResultAll\"\n",
    "if not os.path.exists(folder_path):\n",
    "    os.makedirs(folder_path)\n",
    "    print(f\"Folder '{folder_path}' created.\")\n",
    "else:\n",
    "    print(f\"Folder '{folder_path}' already exists.\")\n",
    "\n",
    "\n",
    "mat_files = [file for file in all_files if file.endswith('.mat')]\n",
    "progressBar = tqdm(mat_files, desc=\"Plotting .mat files\")\n",
    "for mat_file in progressBar:\n",
    "    progressBar.set_postfix(file=mat_file)\n",
    "    file_path = os.path.join(resultMatFolderPath, mat_file)\n",
    "    mat_data = scipy.io.loadmat(file_path)\n",
    "    header = ['input', 'pred_pcd', 'gt_pcd', 'Chd', 'EMD']\n",
    "\n",
    "    input_points = mat_data['input']\n",
    "    pred_points = mat_data['pred_pcd']\n",
    "    gt_points = mat_data['gt_pcd']\n",
    "\n",
    "\n",
    "    fig = plt.figure(figsize=(20, 7))\n",
    "    fig.suptitle(f\"Point Cloud Visualization: {mat_file}\", fontsize=7, fontweight='bold')  # Main title\n",
    "\n",
    "    ax1 = fig.add_subplot(141, projection='3d')\n",
    "    scatter1 = ax1.scatter(input_points[:, 0], input_points[:, 1], input_points[:, 2], \n",
    "                        c=input_points[:, 2], cmap='viridis', s=1)\n",
    "    ax1.set_title(\"Input Point Cloud\")\n",
    "    ax1.set_xlabel(\"X\")\n",
    "    ax1.set_ylabel(\"Y\")\n",
    "    ax1.set_zlabel(\"Z\")\n",
    "\n",
    "    ax2 = fig.add_subplot(142, projection='3d')\n",
    "    scatter2 = ax2.scatter(pred_points[:, 0], pred_points[:, 1], pred_points[:, 2], \n",
    "                        c=pred_points[:, 2], cmap='viridis', s=1)\n",
    "    ax2.set_title(\"Predicted Point Cloud\")\n",
    "    ax2.set_xlabel(\"X\")\n",
    "    ax2.set_ylabel(\"Y\")\n",
    "    ax2.set_zlabel(\"Z\")\n",
    "    ax3 = fig.add_subplot(143, projection='3d')\n",
    "    scatter3 = ax3.scatter(gt_points[:, 0], gt_points[:, 1], gt_points[:, 2], \n",
    "                        c=gt_points[:, 2], cmap='viridis', s=1)\n",
    "    ax3.set_title(\"Ground Truth Point Cloud\")\n",
    "    ax3.set_xlabel(\"X\")\n",
    "    ax3.set_ylabel(\"Y\")\n",
    "    ax3.set_zlabel(\"Z\")\n",
    "\n",
    "    ax4 = fig.add_subplot(144)\n",
    "    timestampStr = mat_file.split(\"_\")[0]\n",
    "\n",
    "    timestampStr = datetime.strptime(timestampStr, \"%Y-%m-%d %H:%M:%S.%f\")\n",
    "    rgbFileNa = timestampStr.strftime(\"%Y-%m-%d %H:%M:%S.%f\") + \".jpg\"\n",
    "    # print(rgbFileNa)\n",
    "    rgbFilePt = mergedPcdDepthRgb.loc[mergedPcdDepthRgb['rgbFilename'] == rgbFileNa, 'rgbFilepath']\n",
    "    if not rgbFilePt.empty:\n",
    "        rgbFilePt = rgbFilePt.iloc[0] \n",
    "    else:\n",
    "        rgbFilePt = None\n",
    "    img = Image.open(rgbFilePt)\n",
    "\n",
    "    ax4.imshow(img)  # Display the RGB image\n",
    "    ax4.set_title(\"RGB Image\")\n",
    "    ax4.axis(\"off\")\n",
    "\n",
    "    plt.tight_layout(rect=[0, 0.03, 1, 0.95]) \n",
    "    plt.savefig(f\"{folder_path}/new/{mat_file}.png\", dpi=300, bbox_inches='tight')\n",
    "    # plt.show()\n",
    "    plt.close(fig)"
   ]
  },
  {
   "cell_type": "code",
   "execution_count": null,
   "metadata": {},
   "outputs": [],
   "source": []
  }
 ],
 "metadata": {
  "kernelspec": {
   "display_name": "mmenv",
   "language": "python",
   "name": "python3"
  },
  "language_info": {
   "codemirror_mode": {
    "name": "ipython",
    "version": 3
   },
   "file_extension": ".py",
   "mimetype": "text/x-python",
   "name": "python",
   "nbconvert_exporter": "python",
   "pygments_lexer": "ipython3",
   "version": "undefined.undefined.undefined"
  }
 },
 "nbformat": 4,
 "nbformat_minor": 2
}
